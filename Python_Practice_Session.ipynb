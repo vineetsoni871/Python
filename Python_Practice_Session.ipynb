{
  "nbformat": 4,
  "nbformat_minor": 0,
  "metadata": {
    "colab": {
      "provenance": []
    },
    "kernelspec": {
      "name": "python3",
      "display_name": "Python 3"
    },
    "language_info": {
      "name": "python"
    }
  },
  "cells": [
    {
      "cell_type": "code",
      "execution_count": null,
      "metadata": {
        "colab": {
          "base_uri": "https://localhost:8080/"
        },
        "id": "EVBWnhu0fz0o",
        "outputId": "dd5d22a0-a1ae-4419-c903-8a9d5c42d474"
      },
      "outputs": [
        {
          "output_type": "stream",
          "name": "stdout",
          "text": [
            "65 \n",
            "66 67 \n",
            "68 69 70 \n"
          ]
        }
      ],
      "source": [
        "x = 65\n",
        "for i in range(0,3):\n",
        "  for j in range(0,i+1):\n",
        "    print(x,end=\" \")\n",
        "    x+=1\n",
        "  print()"
      ]
    },
    {
      "cell_type": "code",
      "source": [
        "x = 65\n",
        "for i in range(0,3):\n",
        "  for j in range(0,i+1):\n",
        "    print(chr(x),end=\" \")\n",
        "    x+=1\n",
        "  print()"
      ],
      "metadata": {
        "colab": {
          "base_uri": "https://localhost:8080/"
        },
        "id": "SXngv0NagP7K",
        "outputId": "db8b373e-f160-476c-e2a6-ea7d6c632085"
      },
      "execution_count": null,
      "outputs": [
        {
          "output_type": "stream",
          "name": "stdout",
          "text": [
            "A \n",
            "B C \n",
            "D E F \n"
          ]
        }
      ]
    },
    {
      "cell_type": "code",
      "source": [
        "for i in range(0,4):\n",
        "  for j in range(i,4):\n",
        "    print(\"*\",end=\" \")\n",
        "  print()"
      ],
      "metadata": {
        "colab": {
          "base_uri": "https://localhost:8080/"
        },
        "id": "n1VNVJw6gX4K",
        "outputId": "2b05da79-615d-4636-d1e5-37b7d9813a67"
      },
      "execution_count": null,
      "outputs": [
        {
          "output_type": "stream",
          "name": "stdout",
          "text": [
            "* * * * \n",
            "* * * \n",
            "* * \n",
            "* \n"
          ]
        }
      ]
    },
    {
      "cell_type": "code",
      "source": [
        "for i in range(0,4):\n",
        "  num=0\n",
        "  for j in range(i,4):\n",
        "    print(j,end=\" \")\n",
        "  print()"
      ],
      "metadata": {
        "colab": {
          "base_uri": "https://localhost:8080/"
        },
        "id": "EmerWjM7hP-N",
        "outputId": "56262518-1352-42d9-f2a0-1d7cbe86c3ef"
      },
      "execution_count": null,
      "outputs": [
        {
          "output_type": "stream",
          "name": "stdout",
          "text": [
            "0 1 2 3 \n",
            "1 2 3 \n",
            "2 3 \n",
            "3 \n"
          ]
        }
      ]
    },
    {
      "cell_type": "code",
      "source": [
        "num=10\n",
        "for i in range(0,5):\n",
        "  for j in range(i,5):\n",
        "    print(num,end=\" \")\n",
        "    num+=1\n",
        "  print()"
      ],
      "metadata": {
        "colab": {
          "base_uri": "https://localhost:8080/"
        },
        "id": "jjustG9Yhm7o",
        "outputId": "bdee6188-7993-4abd-cf55-3b95f06d974e"
      },
      "execution_count": null,
      "outputs": [
        {
          "output_type": "stream",
          "name": "stdout",
          "text": [
            "10 11 12 13 14 \n",
            "15 16 17 18 \n",
            "19 20 21 \n",
            "22 23 \n",
            "24 \n"
          ]
        }
      ]
    },
    {
      "cell_type": "code",
      "source": [
        "for i in range(1,5):\n",
        "  for j in range(i,5):\n",
        "    print(j,end=\" \")\n",
        "  print()"
      ],
      "metadata": {
        "colab": {
          "base_uri": "https://localhost:8080/"
        },
        "id": "DBL28eEwiHsw",
        "outputId": "41691f2e-0822-4b2f-c78e-722c7561c3dd"
      },
      "execution_count": null,
      "outputs": [
        {
          "output_type": "stream",
          "name": "stdout",
          "text": [
            "1 2 3 4 \n",
            "2 3 4 \n",
            "3 4 \n",
            "4 \n"
          ]
        }
      ]
    },
    {
      "cell_type": "code",
      "source": [
        "\n",
        "for i in range(5,0,-1):\n",
        "  for j in range(0,i):\n",
        "    if j%2==0:\n",
        "      print(1,end=\" \")\n",
        "    else:\n",
        "      print(0,end=\" \")\n",
        "\n",
        "  print()"
      ],
      "metadata": {
        "colab": {
          "base_uri": "https://localhost:8080/"
        },
        "id": "GKBFC0pciree",
        "outputId": "01b760a2-d004-40cb-e9bc-744ad9db45ea"
      },
      "execution_count": null,
      "outputs": [
        {
          "output_type": "stream",
          "name": "stdout",
          "text": [
            "1 0 1 0 1 \n",
            "1 0 1 0 \n",
            "1 0 1 \n",
            "1 0 \n",
            "1 \n"
          ]
        }
      ]
    },
    {
      "cell_type": "code",
      "source": [
        "for i in range(0,5):\n",
        "    for j in range(0,5-i):\n",
        "        print((j+1)%2,end=\" \")\n",
        "    print(\"\")\n",
        "\n",
        "# or\n",
        "\n",
        "# for i in range(0,5):\n",
        "#     for j in range(1,6-i):\n",
        "#         print(j%2,end=\" \")\n",
        "#     print(\"\")"
      ],
      "metadata": {
        "colab": {
          "base_uri": "https://localhost:8080/"
        },
        "id": "-A7aXgIPjrEH",
        "outputId": "c796ac70-cae5-41e7-bd94-c8c80f31ffe9"
      },
      "execution_count": null,
      "outputs": [
        {
          "output_type": "stream",
          "name": "stdout",
          "text": [
            "1 0 1 0 1 \n",
            "1 0 1 0 \n",
            "1 0 1 \n",
            "1 0 \n",
            "1 \n"
          ]
        }
      ]
    },
    {
      "cell_type": "code",
      "source": [
        "x = 1\n",
        "for i in range(5,0,-1):\n",
        "  for j in range(0,i):\n",
        "    if j%2==0:\n",
        "      print(x,end=\" \")\n",
        "    else:\n",
        "      print(0,end=\" \")\n",
        "  x+=1\n",
        "  print()"
      ],
      "metadata": {
        "colab": {
          "base_uri": "https://localhost:8080/"
        },
        "id": "vabI_cNvm45F",
        "outputId": "a486499b-ee88-47db-8661-ade17b35f93b"
      },
      "execution_count": null,
      "outputs": [
        {
          "output_type": "stream",
          "name": "stdout",
          "text": [
            "1 0 1 0 1 \n",
            "2 0 2 0 \n",
            "3 0 3 \n",
            "4 0 \n",
            "5 \n"
          ]
        }
      ]
    },
    {
      "cell_type": "code",
      "source": [
        "for i in range(1,5):\n",
        "  for j in range(i,4):\n",
        "    print(\"-\",end=\" \")\n",
        "  for k in range(1,i+1):\n",
        "    print(\"*\",end=\" \")\n",
        "  print()"
      ],
      "metadata": {
        "colab": {
          "base_uri": "https://localhost:8080/"
        },
        "id": "buFw705gnNs9",
        "outputId": "65c7b487-0e9e-48cd-fc23-acbe57b3ded3"
      },
      "execution_count": null,
      "outputs": [
        {
          "output_type": "stream",
          "name": "stdout",
          "text": [
            "- - - * \n",
            "- - * * \n",
            "- * * * \n",
            "* * * * \n"
          ]
        }
      ]
    },
    {
      "cell_type": "code",
      "source": [
        "for i in range(0,5):\n",
        "  for j in range(1,i+1):\n",
        "    print(\" \",end=\" \")\n",
        "  for k in range(i,5):\n",
        "    print(\"*\",end=\" \")\n",
        "  print()"
      ],
      "metadata": {
        "colab": {
          "base_uri": "https://localhost:8080/"
        },
        "id": "cz0B03y3n5PK",
        "outputId": "ed2fc615-ab44-41e9-e8d3-6cf170bfd361"
      },
      "execution_count": null,
      "outputs": [
        {
          "output_type": "stream",
          "name": "stdout",
          "text": [
            "* * * * * \n",
            "  * * * * \n",
            "    * * * \n",
            "      * * \n",
            "        * \n"
          ]
        }
      ]
    },
    {
      "cell_type": "code",
      "source": [
        "for i in range(0,5):\n",
        "  for j in range(1,i+1):\n",
        "    print(\" \",end=\" \")\n",
        "  for k in range(i,5):\n",
        "    if i==0 or k==i or k==4:\n",
        "      print(\"*\",end=\" \")\n",
        "    else:\n",
        "      print(\" \",end=\" \")\n",
        "  print()"
      ],
      "metadata": {
        "colab": {
          "base_uri": "https://localhost:8080/"
        },
        "id": "sJBa3cqKqJdN",
        "outputId": "a4c8009b-e4c9-4706-d167-44f3fe749372"
      },
      "execution_count": null,
      "outputs": [
        {
          "output_type": "stream",
          "name": "stdout",
          "text": [
            "* * * * * \n",
            "  *     * \n",
            "    *   * \n",
            "      * * \n",
            "        * \n"
          ]
        }
      ]
    },
    {
      "cell_type": "code",
      "source": [
        "x = 1\n",
        "\n",
        "for i in range(0,5):\n",
        "  for j in range(i,5):\n",
        "    if i==0 or j==4 or i==j:\n",
        "      print(x,end=\"  \")\n",
        "\n",
        "    else:\n",
        "      print(\"  \",end=\"  \")\n",
        "    x+=1\n",
        "\n",
        "  print()"
      ],
      "metadata": {
        "colab": {
          "base_uri": "https://localhost:8080/"
        },
        "id": "qoxnMA3urI1D",
        "outputId": "c39a1785-73d4-40fb-ac46-68e1555f7c74"
      },
      "execution_count": null,
      "outputs": [
        {
          "output_type": "stream",
          "name": "stdout",
          "text": [
            "1  2  3  4  5  \n",
            "6          9  \n",
            "10      12  \n",
            "13  14  \n",
            "15  \n"
          ]
        }
      ]
    },
    {
      "cell_type": "code",
      "source": [],
      "metadata": {
        "id": "IdnDE-9_v7sI"
      },
      "execution_count": null,
      "outputs": []
    }
  ]
}