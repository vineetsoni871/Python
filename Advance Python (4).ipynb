{
 "cells": [
  {
   "cell_type": "code",
   "execution_count": 1,
   "id": "899b87cd-e3d2-4a75-a815-5d26277a1075",
   "metadata": {},
   "outputs": [
    {
     "name": "stdout",
     "output_type": "stream",
     "text": [
      "Buddy says Woof!\n",
      "Golden Retreiver this is breed\n",
      "Max says Woof!\n",
      "Labrador this is breed\n"
     ]
    }
   ],
   "source": [
    "# Example with self\n",
    "class Dog:\n",
    "    def __init__(self,name,breed):  #constructor with 'self'\n",
    "        self.name=name # 'self.name' binds to the instance attribute\n",
    "        self.breed = breed\n",
    "    \n",
    "    def bark(self):\n",
    "        print(f\"{self.name} says Woof!\")\n",
    "        print(f\"{self.breed} this is breed\")\n",
    "\n",
    "dog1=Dog(\"Buddy\" , \"Golden Retreiver\")\n",
    "dog2= Dog(\"Max\", \"Labrador\")\n",
    "\n",
    "# Access attributes and methods\n",
    "dog1.bark()\n",
    "dog2.bark()"
   ]
  },
  {
   "cell_type": "code",
   "execution_count": 3,
   "id": "e54c5263-de3a-402d-8e15-283ed70ce457",
   "metadata": {},
   "outputs": [
    {
     "ename": "TypeError",
     "evalue": "Dog.__init__() takes 2 positional arguments but 3 were given",
     "output_type": "error",
     "traceback": [
      "\u001b[1;31m---------------------------------------------------------------------------\u001b[0m",
      "\u001b[1;31mTypeError\u001b[0m                                 Traceback (most recent call last)",
      "Cell \u001b[1;32mIn[3], line 10\u001b[0m\n\u001b[0;32m      7\u001b[0m         \u001b[38;5;28mprint\u001b[39m(\u001b[38;5;124mf\u001b[39m\u001b[38;5;124m\"\u001b[39m\u001b[38;5;132;01m{\u001b[39;00m\u001b[38;5;28mself\u001b[39m\u001b[38;5;241m.\u001b[39mbreed\u001b[38;5;132;01m}\u001b[39;00m\u001b[38;5;124m this is breed\u001b[39m\u001b[38;5;124m\"\u001b[39m)\n\u001b[0;32m      9\u001b[0m \u001b[38;5;66;03m# Create an object\u001b[39;00m\n\u001b[1;32m---> 10\u001b[0m dog1\u001b[38;5;241m=\u001b[39m\u001b[43mDog\u001b[49m\u001b[43m(\u001b[49m\u001b[38;5;124;43m\"\u001b[39;49m\u001b[38;5;124;43mBuddy\u001b[39;49m\u001b[38;5;124;43m\"\u001b[39;49m\u001b[43m \u001b[49m\u001b[43m,\u001b[49m\u001b[43m \u001b[49m\u001b[38;5;124;43m\"\u001b[39;49m\u001b[38;5;124;43mGolden Retreiver\u001b[39;49m\u001b[38;5;124;43m\"\u001b[39;49m\u001b[43m)\u001b[49m\n",
      "\u001b[1;31mTypeError\u001b[0m: Dog.__init__() takes 2 positional arguments but 3 were given"
     ]
    }
   ],
   "source": [
    "# Example without self\n",
    "\n",
    "class Dog:\n",
    "    def __init__(name,breed):  #Missing 'self'\n",
    "        name=name # this won't binds to the instance\n",
    "        breed = breed  # this won't binds to the instance\n",
    "    def bark():\n",
    "        print(f\"{self.name} says Woof!\")\n",
    "        print(f\"{self.breed} this is breed\")\n",
    "\n",
    "# Create an object\n",
    "dog1=Dog(\"Buddy\" , \"Golden Retreiver\")"
   ]
  },
  {
   "cell_type": "code",
   "execution_count": 3,
   "id": "b7f51023-65b1-48f4-9ea3-6bed001e946c",
   "metadata": {},
   "outputs": [
    {
     "name": "stdout",
     "output_type": "stream",
     "text": [
      "12\n",
      "8\n",
      "20\n",
      "5\n"
     ]
    }
   ],
   "source": [
    "# task1\n",
    "# create a calculator\n",
    "# Add methods for addition, subraction , multiplication , division\n",
    "# use self parameter to access\n",
    "\n",
    "class Calculator:\n",
    "    def __init__(self , num1, num2):\n",
    "        self.num1 = num1\n",
    "        self.num2 = num2\n",
    "    \n",
    "    def add(self):\n",
    "        return self.num1 + self.num2\n",
    "    \n",
    "    def subtract(self):\n",
    "        return self.num1 - self.num2\n",
    "\n",
    "    def multiply(self):\n",
    "        return self.num1 * self.num2\n",
    "\n",
    "    def divide(self):\n",
    "        if self.num2 !=0:\n",
    "            return self.num1 // self.num2\n",
    "        else:\n",
    "            return \"Division by zero is not allowed!\"\n",
    "calc=Calculator(10,2)\n",
    "print(calc.add())\n",
    "print(calc.subtract())\n",
    "print(calc.multiply())\n",
    "print(calc.divide())"
   ]
  },
  {
   "cell_type": "code",
   "execution_count": 4,
   "id": "c1d2ffc5-492a-4eae-bd5f-3529e2a5ffd0",
   "metadata": {},
   "outputs": [],
   "source": [
    "# Create a Bank Account Class\n",
    "# Task: Define a BankAccount class.\n",
    "# Add attributes for acc. holder name and balance\n",
    "\n",
    "class BankAccount:\n",
    "    def __init__(self,account_holder,balance):\n",
    "        self.__account_holder=account_holder  # Private Attribute\n",
    "        self.__balance=balance   #Private Attribute\n",
    "\n",
    "    #Getting For account holder\n",
    "    def get_account_holder(self):\n",
    "        return self.__account_holder\n",
    "\n",
    "    # Getting for balance\n",
    "    def get_balance(self):\n",
    "        return self.__balance\n",
    "\n",
    "    # Method to deposit money\n",
    "    def deposit(self,amount):\n",
    "        if amount>0:\n",
    "            self.__balance+=amount\n",
    "            return f\"Deposit Successful! New Balance: {self.__balance}\"\n",
    "        else:\n",
    "            return \"Invalid Deposit Amount!\"\n",
    "\n",
    "    # Method to withdraw money\n",
    "    def withdraw(self,amount):\n",
    "        if amount <= self.__balance:\n",
    "            self.balance -= amount\n",
    "            return f\"Withdrawl successful! New balance: {self.__balance}\"\n",
    "        else:\n",
    "            return \"Insufficient funds!\"\n",
    "\n",
    "    # Using the class\n",
    "    # account=BankAccount(\"Sam\", 5000)\n",
    "    # print(account.get_account_holder())\n",
    "    # print(account.get_balance())\n",
    "    # print(account.deposit(1000))\n",
    "    # print(account.withdraw(2000))\n",
    "\n",
    "    # Attempt to access private attribute directly(not alowed!!)\n",
    "    # Print "
   ]
  },
  {
   "cell_type": "code",
   "execution_count": 7,
   "id": "544ec256-a91d-4a55-b409-f2694ca5b8d0",
   "metadata": {},
   "outputs": [
    {
     "name": "stdout",
     "output_type": "stream",
     "text": [
      "Passed\n",
      "Vineet Age= 20 Marks= 50\n"
     ]
    }
   ],
   "source": [
    "class Student:\n",
    "    def __init__(self,name,age,marks):\n",
    "        self.name=name\n",
    "        self.age=age\n",
    "        self.marks=marks\n",
    "    \n",
    "    def details(self):\n",
    "        print(self.name, \"Age=\",self.age ,\"Marks=\",self.marks)\n",
    "        \n",
    "    def passed(self):\n",
    "        if(self.marks >= 40):\n",
    "            print(\"Passed\")\n",
    "        else:\n",
    "            print(\"Fail\")\n",
    "\n",
    "Info = Student(\"Vineet\", 20, 50)\n",
    "\n",
    "Info.passed()\n",
    "Info.details()"
   ]
  },
  {
   "cell_type": "code",
   "execution_count": 10,
   "id": "c9c9c301-60a2-46c3-a10d-094ac4252993",
   "metadata": {},
   "outputs": [
    {
     "name": "stdin",
     "output_type": "stream",
     "text": [
      "Enter title of book: Physics\n",
      "Enter author name: HC Verma\n"
     ]
    },
    {
     "data": {
      "text/plain": [
       "'Returned Physics by HC Verma. Thanks!'"
      ]
     },
     "execution_count": 10,
     "metadata": {},
     "output_type": "execute_result"
    }
   ],
   "source": [
    "# CREATE A LIBRARY SYSTEM\n",
    "# Task: Define a book class with attributes like title, author and availibility\n",
    "# Add methods to check availibility and borrow/return the book\n",
    "\n",
    "class Book:\n",
    "    def __init__(self,title,author):\n",
    "        self.title=title\n",
    "        self.author=author\n",
    "        self.available=True\n",
    "\n",
    "    def check_available(self):\n",
    "        return self.available\n",
    "\n",
    "    def borrow_book(self):\n",
    "        if self.available:\n",
    "            self.available=False\n",
    "            return f\"Borrowed {self.title} by {self.author}.\"\n",
    "        else:\n",
    "            return f\"Sorry! {self.title} by {self.author} is currently Unavailable.\"\n",
    "\n",
    "    def return_book(self):\n",
    "        self.available=True\n",
    "        return f\"Returned {self.title} by {self.author}. Thanks!\"\n",
    "\n",
    "title=input(\"Enter title of book:\")\n",
    "author=input(\"Enter author name:\")\n",
    "check_book=Book(title,author)\n",
    "check_book.check_available()\n",
    "check_book.borrow_book()\n",
    "check_book.return_book()"
   ]
  },
  {
   "cell_type": "code",
   "execution_count": 6,
   "id": "940f20eb-c79c-4bf7-8d37-c03a78cba16e",
   "metadata": {},
   "outputs": [],
   "source": [
    "# Example 5: Create an Employee Management system\n",
    "# Task:\n",
    "# Define an Employee class with attributes like name, ID and salary.\n",
    "# Add a method to calcuate annual salary.\n",
    "# Add a method to display employee details\n",
    "\n"
   ]
  },
  {
   "cell_type": "code",
   "execution_count": 7,
   "id": "3999571c-e260-4029-8991-2f0f141f01c6",
   "metadata": {},
   "outputs": [
    {
     "data": {
      "text/plain": [
       "50"
      ]
     },
     "execution_count": 7,
     "metadata": {},
     "output_type": "execute_result"
    }
   ],
   "source": [
    "class Student:\n",
    "    def __init__(self, name, grade):\n",
    "        self.name = name  # Public attribute\n",
    "        self.__grade = grade  #Private Attribute\n",
    "\n",
    "    # Getting grade\n",
    "    def get_grade(self):\n",
    "        return self.__grade\n",
    "\n",
    "    # Setting grade (with validation)\n",
    "    def set_grade(self, new_grade):\n",
    "        if 0<= new_grade <= 100:\n",
    "            self.__grade = new_grade\n",
    "            return \"Grade updated successfully!\"\n",
    "        else:\n",
    "            return \"Invalid grade! Must be between 0 to 100\"\n",
    "\n",
    "s1=Student(\"abc\",30)\n",
    "s1.get_grade()\n",
    "s1.set_grade(50)\n",
    "s1.get_grade()\n"
   ]
  },
  {
   "cell_type": "code",
   "execution_count": 2,
   "id": "12bc7a02-cb23-4359-8b62-c34d5d7137fd",
   "metadata": {},
   "outputs": [
    {
     "name": "stdin",
     "output_type": "stream",
     "text": [
      "Enter the patient name : jay\n",
      "Enter the age of the patient : 33\n"
     ]
    },
    {
     "name": "stdout",
     "output_type": "stream",
     "text": [
      "Name: jay , Age : 33\n",
      "Patient medical record added successfully!\n",
      "Medical History of the patient is : ['Seaviour Migrane Pain!']\n",
      "Patient updated medical history is : ['Seaviour Migrane Pain!', 'Asthma!']\n"
     ]
    }
   ],
   "source": [
    "class HealthcareSystem:\n",
    "    def __init__(self,name,age):\n",
    "        self.__name=name\n",
    "        self.__age=age\n",
    "        self.__medical_history=[]\n",
    "\n",
    "    def get_patient_info(self):\n",
    "        return f\"Name: {self.__name} , Age : {self.__age}\"\n",
    "        \n",
    "    def patient_medical_record(self,record):\n",
    "        self.__medical_history.append(record)\n",
    "        print(\"Patient medical record added successfully!\")\n",
    "        \n",
    "    def patient_medical_history(self):\n",
    "        return self.__medical_history.copy()\n",
    "        \n",
    "    def update_patient_medical_record(self,new_record):\n",
    "        self.__medical_history.append(new_record)\n",
    "                   \n",
    "name=input(\"Enter the patient name :\")\n",
    "age=int(input(\"Enter the age of the patient :\"))\n",
    "patient=HealthcareSystem(name,age)\n",
    "print(patient.get_patient_info())\n",
    "patient.patient_medical_record(\"Seaviour Migrane Pain!\")\n",
    "print(\"Medical History of the patient is :\",patient.patient_medical_history())\n",
    "patient.update_patient_medical_record(\"Asthma!\")\n",
    "print(\"Patient updated medical history is :\",patient.patient_medical_history())"
   ]
  },
  {
   "cell_type": "code",
   "execution_count": 8,
   "id": "4eadacc2-87dc-4da2-9cc7-b394740400db",
   "metadata": {},
   "outputs": [
    {
     "name": "stdout",
     "output_type": "stream",
     "text": [
      "Engine started!\n",
      "Wheels are rotating.\n",
      "Car is driving\n"
     ]
    }
   ],
   "source": [
    "# Multiple inheritence:\n",
    "\n",
    "class Engine:  # Parent class\n",
    "    def start_engine(self):\n",
    "        print(\"Engine started!\")\n",
    "\n",
    "class Wheels:  # Parent class\n",
    "    def rotate_wheels(self):\n",
    "        print(\"Wheels are rotating.\")\n",
    "\n",
    "class Car(Engine , Wheels):  # Inheriting from engine ane wheels\n",
    "    def drive(self):\n",
    "        print(\"Car is driving\")\n",
    "\n",
    "# Usage\n",
    "my_car = Car()\n",
    "my_car.start_engine() #Method from engine\n",
    "my_car.rotate_wheels()  # Method from wheels\n",
    "my_car.drive()  # Method from car"
   ]
  },
  {
   "cell_type": "code",
   "execution_count": 2,
   "id": "066177a9-b5e3-41e8-a924-620b165d1add",
   "metadata": {},
   "outputs": [
    {
     "name": "stdout",
     "output_type": "stream",
     "text": [
      "Animal is eating\n",
      "Dog is barking\n",
      "Puppy is weeping\n"
     ]
    }
   ],
   "source": [
    "# Multilevel Inheritence\n",
    "\n",
    "class Animal:\n",
    "    def eat(self):\n",
    "        print(\"Animal is eating\")\n",
    "\n",
    "class Dog(Animal):   # Dog inherits from animal\n",
    "    def bark(self):\n",
    "        print(\"Dog is barking\")\n",
    "\n",
    "class Puppy(Dog):\n",
    "    def weep(self):\n",
    "        print(\"Puppy is weeping\")\n",
    "\n",
    "puppy = Puppy()\n",
    "puppy.eat()\n",
    "puppy.bark()\n",
    "puppy.weep()"
   ]
  },
  {
   "cell_type": "code",
   "execution_count": 10,
   "id": "891f016e-7a8a-4577-9a09-676e6f0a3492",
   "metadata": {},
   "outputs": [
    {
     "name": "stdout",
     "output_type": "stream",
     "text": [
      "Tech Solutions\n",
      "Future tech\n"
     ]
    },
    {
     "data": {
      "text/plain": [
       "'Physics'"
      ]
     },
     "execution_count": 10,
     "metadata": {},
     "output_type": "execute_result"
    }
   ],
   "source": [
    "# Class method decoator use\n",
    "\n",
    "class Employee:\n",
    "    company_name= \"Tech Solutions\"\n",
    "    def __init__(self, name, salary):\n",
    "        self.name = name\n",
    "        self.salary = salary\n",
    "\n",
    "    @classmethod\n",
    "    def change_company_name(cls, new_name):\n",
    "        cls.company_name = new_name\n",
    "\n",
    "# Usage\n",
    "emp1 = Employee(\"Sam\", 50000)\n",
    "emp2= Employee(\"Rahul\", 30000)\n",
    "emp3 = Employee(\"Sumit\", 40000)\n",
    "\n",
    "# Access the class attribute\n",
    "print(Employee.company_name)\n",
    "\n",
    "# Change the class attribute using class method\n",
    "Employee.change_company_name(\"Future tech\")\n",
    "print(Employee.company_name)\n",
    "\n",
    "emp1.company_name\n",
    "emp1.change_company_name(\"Physics\")\n",
    "emp1.company_name"
   ]
  },
  {
   "cell_type": "code",
   "execution_count": 2,
   "id": "92f50dd0-75ed-4d24-a87b-31eacb6fe801",
   "metadata": {},
   "outputs": [
    {
     "name": "stdout",
     "output_type": "stream",
     "text": [
      "Name of employee is sam and role is Frontend developer\n",
      "This is great job\n"
     ]
    }
   ],
   "source": [
    "class Employee:\n",
    "    location = 'Jaipur'\n",
    "\n",
    "    def __init__(self , name , role):\n",
    "        self.name = name\n",
    "        self.role = role\n",
    "\n",
    "    def getinfo(self):\n",
    "        print(f\"Name of employee is {self.name} and role is {self.role}\")\n",
    "    @staticmethod\n",
    "    def newinfo():\n",
    "        print(f\"This is great job\")\n",
    "\n",
    "a = Employee('sam' , 'Frontend developer')\n",
    "a.getinfo()\n",
    "a.newinfo()"
   ]
  },
  {
   "cell_type": "code",
   "execution_count": 5,
   "id": "509a4651-7174-4b03-b510-9b3c1fb2d398",
   "metadata": {},
   "outputs": [
    {
     "name": "stdout",
     "output_type": "stream",
     "text": [
      "Hello , I am Sam from the parent class\n",
      "I am 10 years old from the child class\n"
     ]
    }
   ],
   "source": [
    "class Parent:\n",
    "    def __init__(self,name):\n",
    "        self.name = name\n",
    "\n",
    "    def greet(self):\n",
    "        print(f\"Hello , I am {self.name} from the parent class\")\n",
    "\n",
    "class Child(Parent):\n",
    "    def __init__(self, name, age):\n",
    "        super().__init__(name)  # Call the parent's __init__ method\n",
    "        self.age = age\n",
    "\n",
    "    def greet(self):\n",
    "        super().greet()  # Call the parent's greet method\n",
    "        print(f\"I am {self.age} years old from the child class\")\n",
    "\n",
    "# Usage\n",
    "child = Child(\"Sam\" , 10)\n",
    "child.greet()"
   ]
  },
  {
   "cell_type": "code",
   "execution_count": null,
   "id": "7cff2bd1-a70b-4c9c-81c2-f8b6737ebb13",
   "metadata": {},
   "outputs": [],
   "source": []
  }
 ],
 "metadata": {
  "kernelspec": {
   "display_name": "Python 3 (ipykernel)",
   "language": "python",
   "name": "python3"
  },
  "language_info": {
   "codemirror_mode": {
    "name": "ipython",
    "version": 3
   },
   "file_extension": ".py",
   "mimetype": "text/x-python",
   "name": "python",
   "nbconvert_exporter": "python",
   "pygments_lexer": "ipython3",
   "version": "3.10.11"
  }
 },
 "nbformat": 4,
 "nbformat_minor": 5
}
