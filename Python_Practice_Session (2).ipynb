{
  "nbformat": 4,
  "nbformat_minor": 0,
  "metadata": {
    "colab": {
      "provenance": []
    },
    "kernelspec": {
      "name": "python3",
      "display_name": "Python 3"
    },
    "language_info": {
      "name": "python"
    }
  },
  "cells": [
    {
      "cell_type": "code",
      "execution_count": null,
      "metadata": {
        "colab": {
          "base_uri": "https://localhost:8080/"
        },
        "id": "EVBWnhu0fz0o",
        "outputId": "dd5d22a0-a1ae-4419-c903-8a9d5c42d474"
      },
      "outputs": [
        {
          "output_type": "stream",
          "name": "stdout",
          "text": [
            "65 \n",
            "66 67 \n",
            "68 69 70 \n"
          ]
        }
      ],
      "source": [
        "x = 65\n",
        "for i in range(0,3):\n",
        "  for j in range(0,i+1):\n",
        "    print(x,end=\" \")\n",
        "    x+=1\n",
        "  print()"
      ]
    },
    {
      "cell_type": "code",
      "source": [
        "x = 65\n",
        "for i in range(0,3):\n",
        "  for j in range(0,i+1):\n",
        "    print(chr(x),end=\" \")\n",
        "    x+=1\n",
        "  print()"
      ],
      "metadata": {
        "colab": {
          "base_uri": "https://localhost:8080/"
        },
        "id": "SXngv0NagP7K",
        "outputId": "db8b373e-f160-476c-e2a6-ea7d6c632085"
      },
      "execution_count": null,
      "outputs": [
        {
          "output_type": "stream",
          "name": "stdout",
          "text": [
            "A \n",
            "B C \n",
            "D E F \n"
          ]
        }
      ]
    },
    {
      "cell_type": "code",
      "source": [
        "for i in range(0,4):\n",
        "  for j in range(i,4):\n",
        "    print(\"*\",end=\" \")\n",
        "  print()"
      ],
      "metadata": {
        "colab": {
          "base_uri": "https://localhost:8080/"
        },
        "id": "n1VNVJw6gX4K",
        "outputId": "2b05da79-615d-4636-d1e5-37b7d9813a67"
      },
      "execution_count": null,
      "outputs": [
        {
          "output_type": "stream",
          "name": "stdout",
          "text": [
            "* * * * \n",
            "* * * \n",
            "* * \n",
            "* \n"
          ]
        }
      ]
    },
    {
      "cell_type": "code",
      "source": [
        "for i in range(0,4):\n",
        "  num=0\n",
        "  for j in range(i,4):\n",
        "    print(j,end=\" \")\n",
        "  print()"
      ],
      "metadata": {
        "colab": {
          "base_uri": "https://localhost:8080/"
        },
        "id": "EmerWjM7hP-N",
        "outputId": "56262518-1352-42d9-f2a0-1d7cbe86c3ef"
      },
      "execution_count": null,
      "outputs": [
        {
          "output_type": "stream",
          "name": "stdout",
          "text": [
            "0 1 2 3 \n",
            "1 2 3 \n",
            "2 3 \n",
            "3 \n"
          ]
        }
      ]
    },
    {
      "cell_type": "code",
      "source": [
        "num=10\n",
        "for i in range(0,5):\n",
        "  for j in range(i,5):\n",
        "    print(num,end=\" \")\n",
        "    num+=1\n",
        "  print()"
      ],
      "metadata": {
        "colab": {
          "base_uri": "https://localhost:8080/"
        },
        "id": "jjustG9Yhm7o",
        "outputId": "bdee6188-7993-4abd-cf55-3b95f06d974e"
      },
      "execution_count": null,
      "outputs": [
        {
          "output_type": "stream",
          "name": "stdout",
          "text": [
            "10 11 12 13 14 \n",
            "15 16 17 18 \n",
            "19 20 21 \n",
            "22 23 \n",
            "24 \n"
          ]
        }
      ]
    },
    {
      "cell_type": "code",
      "source": [
        "for i in range(1,5):\n",
        "  for j in range(i,5):\n",
        "    print(j,end=\" \")\n",
        "  print()"
      ],
      "metadata": {
        "colab": {
          "base_uri": "https://localhost:8080/"
        },
        "id": "DBL28eEwiHsw",
        "outputId": "41691f2e-0822-4b2f-c78e-722c7561c3dd"
      },
      "execution_count": null,
      "outputs": [
        {
          "output_type": "stream",
          "name": "stdout",
          "text": [
            "1 2 3 4 \n",
            "2 3 4 \n",
            "3 4 \n",
            "4 \n"
          ]
        }
      ]
    },
    {
      "cell_type": "code",
      "source": [
        "\n",
        "for i in range(5,0,-1):\n",
        "  for j in range(0,i):\n",
        "    if j%2==0:\n",
        "      print(1,end=\" \")\n",
        "    else:\n",
        "      print(0,end=\" \")\n",
        "\n",
        "  print()"
      ],
      "metadata": {
        "colab": {
          "base_uri": "https://localhost:8080/"
        },
        "id": "GKBFC0pciree",
        "outputId": "01b760a2-d004-40cb-e9bc-744ad9db45ea"
      },
      "execution_count": null,
      "outputs": [
        {
          "output_type": "stream",
          "name": "stdout",
          "text": [
            "1 0 1 0 1 \n",
            "1 0 1 0 \n",
            "1 0 1 \n",
            "1 0 \n",
            "1 \n"
          ]
        }
      ]
    },
    {
      "cell_type": "code",
      "source": [
        "for i in range(0,5):\n",
        "    for j in range(0,5-i):\n",
        "        print((j+1)%2,end=\" \")\n",
        "    print(\"\")\n",
        "\n",
        "# or\n",
        "\n",
        "# for i in range(0,5):\n",
        "#     for j in range(1,6-i):\n",
        "#         print(j%2,end=\" \")\n",
        "#     print(\"\")"
      ],
      "metadata": {
        "colab": {
          "base_uri": "https://localhost:8080/"
        },
        "id": "-A7aXgIPjrEH",
        "outputId": "c796ac70-cae5-41e7-bd94-c8c80f31ffe9"
      },
      "execution_count": null,
      "outputs": [
        {
          "output_type": "stream",
          "name": "stdout",
          "text": [
            "1 0 1 0 1 \n",
            "1 0 1 0 \n",
            "1 0 1 \n",
            "1 0 \n",
            "1 \n"
          ]
        }
      ]
    },
    {
      "cell_type": "code",
      "source": [
        "x = 1\n",
        "for i in range(5,0,-1):\n",
        "  for j in range(0,i):\n",
        "    if j%2==0:\n",
        "      print(x,end=\" \")\n",
        "    else:\n",
        "      print(0,end=\" \")\n",
        "  x+=1\n",
        "  print()"
      ],
      "metadata": {
        "colab": {
          "base_uri": "https://localhost:8080/"
        },
        "id": "vabI_cNvm45F",
        "outputId": "a486499b-ee88-47db-8661-ade17b35f93b"
      },
      "execution_count": null,
      "outputs": [
        {
          "output_type": "stream",
          "name": "stdout",
          "text": [
            "1 0 1 0 1 \n",
            "2 0 2 0 \n",
            "3 0 3 \n",
            "4 0 \n",
            "5 \n"
          ]
        }
      ]
    },
    {
      "cell_type": "code",
      "source": [
        "for i in range(1,5):\n",
        "  for j in range(i,4):\n",
        "    print(\"-\",end=\" \")\n",
        "  for k in range(1,i+1):\n",
        "    print(\"*\",end=\" \")\n",
        "  print()"
      ],
      "metadata": {
        "colab": {
          "base_uri": "https://localhost:8080/"
        },
        "id": "buFw705gnNs9",
        "outputId": "65c7b487-0e9e-48cd-fc23-acbe57b3ded3"
      },
      "execution_count": null,
      "outputs": [
        {
          "output_type": "stream",
          "name": "stdout",
          "text": [
            "- - - * \n",
            "- - * * \n",
            "- * * * \n",
            "* * * * \n"
          ]
        }
      ]
    },
    {
      "cell_type": "code",
      "source": [
        "for i in range(0,5):\n",
        "  for j in range(1,i+1):\n",
        "    print(\" \",end=\" \")\n",
        "  for k in range(i,5):\n",
        "    print(\"*\",end=\" \")\n",
        "  print()"
      ],
      "metadata": {
        "colab": {
          "base_uri": "https://localhost:8080/"
        },
        "id": "cz0B03y3n5PK",
        "outputId": "ed2fc615-ab44-41e9-e8d3-6cf170bfd361"
      },
      "execution_count": null,
      "outputs": [
        {
          "output_type": "stream",
          "name": "stdout",
          "text": [
            "* * * * * \n",
            "  * * * * \n",
            "    * * * \n",
            "      * * \n",
            "        * \n"
          ]
        }
      ]
    },
    {
      "cell_type": "code",
      "source": [
        "for i in range(0,5):\n",
        "  for j in range(1,i+1):\n",
        "    print(\" \",end=\" \")\n",
        "  for k in range(i,5):\n",
        "    if i==0 or k==i or k==4:\n",
        "      print(\"*\",end=\" \")\n",
        "    else:\n",
        "      print(\" \",end=\" \")\n",
        "  print()"
      ],
      "metadata": {
        "colab": {
          "base_uri": "https://localhost:8080/"
        },
        "id": "sJBa3cqKqJdN",
        "outputId": "a4c8009b-e4c9-4706-d167-44f3fe749372"
      },
      "execution_count": null,
      "outputs": [
        {
          "output_type": "stream",
          "name": "stdout",
          "text": [
            "* * * * * \n",
            "  *     * \n",
            "    *   * \n",
            "      * * \n",
            "        * \n"
          ]
        }
      ]
    },
    {
      "cell_type": "code",
      "source": [
        "x = 1\n",
        "\n",
        "for i in range(0,5):\n",
        "  for j in range(i,5):\n",
        "    if i==0 or j==4 or i==j:\n",
        "      print(x,end=\"  \")\n",
        "\n",
        "    else:\n",
        "      print(\"  \",end=\"  \")\n",
        "    x+=1\n",
        "\n",
        "  print()"
      ],
      "metadata": {
        "colab": {
          "base_uri": "https://localhost:8080/"
        },
        "id": "qoxnMA3urI1D",
        "outputId": "c39a1785-73d4-40fb-ac46-68e1555f7c74"
      },
      "execution_count": null,
      "outputs": [
        {
          "output_type": "stream",
          "name": "stdout",
          "text": [
            "1  2  3  4  5  \n",
            "6          9  \n",
            "10      12  \n",
            "13  14  \n",
            "15  \n"
          ]
        }
      ]
    },
    {
      "cell_type": "code",
      "source": [
        "for i in range(0,3):\n",
        "  for j in range(i,2):\n",
        "    print(\" \",end=\"\")\n",
        "  for k in range(0,2*i+1):\n",
        "    print(\"*\",end=\"\")\n",
        "  print()"
      ],
      "metadata": {
        "id": "IdnDE-9_v7sI",
        "colab": {
          "base_uri": "https://localhost:8080/"
        },
        "outputId": "167faff7-07fe-48a2-b74b-973631528b69"
      },
      "execution_count": null,
      "outputs": [
        {
          "output_type": "stream",
          "name": "stdout",
          "text": [
            "  *\n",
            " ***\n",
            "*****\n"
          ]
        }
      ]
    },
    {
      "cell_type": "code",
      "source": [
        "for i in range(4,0,-1):\n",
        "  for j in range(i,4):\n",
        "    print(\" \",end=\"\")\n",
        "  for k in range(0,2*i-1):\n",
        "    print(\"*\",end=\"\")\n",
        "  print()"
      ],
      "metadata": {
        "colab": {
          "base_uri": "https://localhost:8080/"
        },
        "id": "vK8t4jet-1Bm",
        "outputId": "887e9495-ce88-4df3-bcd6-6f3ac725ca5b"
      },
      "execution_count": null,
      "outputs": [
        {
          "output_type": "stream",
          "name": "stdout",
          "text": [
            "*******\n",
            " *****\n",
            "  ***\n",
            "   *\n"
          ]
        }
      ]
    },
    {
      "cell_type": "code",
      "source": [
        "list2 = [10,20,60,80,9]\n",
        "for i in range(0,len(list2)):\n",
        "  for j in range(i+1,len(list2)):\n",
        "    if list2[i]<list2[j]:\n",
        "      list2[i],list2[j]=list2[j],list2[i]\n",
        "print(\"Sorting => \",list2)"
      ],
      "metadata": {
        "colab": {
          "base_uri": "https://localhost:8080/"
        },
        "id": "ERDCFWbCFfxq",
        "outputId": "9df1ebe0-86e7-410a-e2f0-2bdfb70c35bc"
      },
      "execution_count": null,
      "outputs": [
        {
          "output_type": "stream",
          "name": "stdout",
          "text": [
            "Sorting =>  [80, 60, 20, 10, 9]\n"
          ]
        }
      ]
    },
    {
      "cell_type": "code",
      "source": [
        "prices = [7,1,5,3,6,4]\n",
        "maxi = 0\n",
        "for i in range(0,len(prices)):\n",
        "  for j in range(i+1,len(prices)):\n",
        "    if prices[j]-prices[i] > maxi:\n",
        "      maxi = prices[j]-prices[i]\n",
        "\n",
        "print(maxi)"
      ],
      "metadata": {
        "colab": {
          "base_uri": "https://localhost:8080/"
        },
        "id": "12XyU530F9zT",
        "outputId": "06147667-6463-477e-d01e-53f50411bc64"
      },
      "execution_count": null,
      "outputs": [
        {
          "output_type": "stream",
          "name": "stdout",
          "text": [
            "5\n"
          ]
        }
      ]
    },
    {
      "cell_type": "code",
      "source": [
        "# Q. Sort a list by single loop.\n",
        "# Q. Two Sum problem\n",
        "# Q. plus one\n",
        "# Q. You have been given two lists having same number of elements and you have\n",
        "# to merge both the lists by removing the duplicate elements but with a\n",
        "# single loop without zip and enamurate."
      ],
      "metadata": {
        "id": "n9j5E3puI5Hs"
      },
      "execution_count": null,
      "outputs": []
    },
    {
      "cell_type": "code",
      "source": [
        "# We have a list and sort it in decresing order with one loop\n",
        "list1=[10,20,60,80,9]\n",
        "a=0\n",
        "while(a<len(list1)-1):\n",
        "    if(list1[a]<list1[a+1]):\n",
        "        list1[a],list1[a+1]=list1[a+1],list1[a]\n",
        "        a=0\n",
        "    else:\n",
        "        a+=1\n",
        "print(list1)"
      ],
      "metadata": {
        "id": "d1p7aMIFH8SJ",
        "colab": {
          "base_uri": "https://localhost:8080/"
        },
        "outputId": "4d5cae0e-acd0-40e0-d88b-2c92c607adbb"
      },
      "execution_count": null,
      "outputs": [
        {
          "output_type": "stream",
          "name": "stdout",
          "text": [
            "[80, 60, 20, 10, 9]\n"
          ]
        }
      ]
    },
    {
      "cell_type": "code",
      "source": [
        "# Best time to buy and sell stock with one loop\n",
        "l1=[7,1,5,3,6,4]\n",
        "a=0\n",
        "b=1\n",
        "max1=0\n",
        "while(b<len(l1)):\n",
        "    if(l1[a]<l1[b]):\n",
        "        profit=l1[b]-l1[a]\n",
        "        if(profit>max1):\n",
        "            max1=profit\n",
        "    else:\n",
        "        a=b\n",
        "    b+=1\n",
        "print(max1)"
      ],
      "metadata": {
        "colab": {
          "base_uri": "https://localhost:8080/"
        },
        "id": "Ca0YeaVqyorL",
        "outputId": "973bd27d-8d2a-4af9-aa57-43e358b19095"
      },
      "execution_count": null,
      "outputs": [
        {
          "output_type": "stream",
          "name": "stdout",
          "text": [
            "5\n"
          ]
        }
      ]
    },
    {
      "cell_type": "code",
      "source": [
        "# two sum problem\n",
        "nums = [2,7,11,15]\n",
        "target = 9\n",
        "for i in range(0,len(nums)):\n",
        "    for j in range(i+1,len(nums)):\n",
        "        if(nums[i]+nums[j]==target):\n",
        "            print(\"Index position : \",i,j)\n",
        "            print(\"Elements :\",nums[i],nums[j])"
      ],
      "metadata": {
        "colab": {
          "base_uri": "https://localhost:8080/"
        },
        "id": "khjE_EStzu3R",
        "outputId": "e674881c-fe53-4e54-b0ab-03499e4c56df"
      },
      "execution_count": null,
      "outputs": [
        {
          "output_type": "stream",
          "name": "stdout",
          "text": [
            "Index position :  0 1\n",
            "Elements : 2 7\n"
          ]
        }
      ]
    },
    {
      "cell_type": "code",
      "source": [
        "# You have been given two list and having same num of elements and have to merge both the list by removing the duplicate elements but with a single loop\n",
        "l1 = [1, 2, 3, 4, 5]\n",
        "l2 = [4, 5, 6, 7, 8]\n",
        "res=[]\n",
        "for i in l1+l2:\n",
        "    if i not in res:\n",
        "        res.append(i)\n",
        "print(res)"
      ],
      "metadata": {
        "colab": {
          "base_uri": "https://localhost:8080/"
        },
        "id": "0MiWAVXQzyP9",
        "outputId": "6e4348e0-30c3-47eb-ef79-57e0d3b6a87f"
      },
      "execution_count": null,
      "outputs": [
        {
          "output_type": "stream",
          "name": "stdout",
          "text": [
            "[1, 2, 3, 4, 5, 6, 7, 8]\n"
          ]
        }
      ]
    },
    {
      "cell_type": "code",
      "source": [
        "# Leetcode plus 1\n",
        "digits = [1,2,3]\n",
        "str1=\"\"\n",
        "res=[]\n",
        "for i in digits:\n",
        "    str1+=str(i)\n",
        "s1=int(str1)+1\n",
        "for i in str(s1):\n",
        "    res.append(int(i))\n",
        "print(res)"
      ],
      "metadata": {
        "colab": {
          "base_uri": "https://localhost:8080/"
        },
        "id": "RPgvCVPRz1jw",
        "outputId": "eca47ef6-fba4-4813-cd7c-71eed90a3e6c"
      },
      "execution_count": null,
      "outputs": [
        {
          "output_type": "stream",
          "name": "stdout",
          "text": [
            "[1, 2, 4]\n"
          ]
        }
      ]
    },
    {
      "cell_type": "code",
      "source": [
        "nums = [-1,0,1,2,-1,-4]\n",
        "for i in range(0,len(nums)):\n",
        "  for j in range(i+1,len(nums)):\n",
        "    for k in range(j+1,len(nums)):\n",
        "      if nums[i]+nums[j]+nums[k]==0:\n",
        "        print([nums[i],nums[j],nums[k]])"
      ],
      "metadata": {
        "colab": {
          "base_uri": "https://localhost:8080/"
        },
        "id": "siEB94zKz4VI",
        "outputId": "21a53945-5128-43ff-da85-22f101072b85"
      },
      "execution_count": null,
      "outputs": [
        {
          "output_type": "stream",
          "name": "stdout",
          "text": [
            "[-1, 0, 1]\n",
            "[-1, 2, -1]\n",
            "[0, 1, -1]\n"
          ]
        }
      ]
    },
    {
      "cell_type": "code",
      "source": [
        "# 3 sum\n",
        "nums = [-1,0,1,2,-1,-4]\n",
        "list1=[]\n",
        "nums.sort()\n",
        "for i in range(0,len(nums)-2):\n",
        "    start=i+1\n",
        "    end=len(nums)-1\n",
        "    while(start<end):\n",
        "        if (i != start and i != end and start != end and nums[i] + nums[start] + nums[end] == 0):\n",
        "            list1.append([nums[i] , nums[start] , nums[end]])\n",
        "            start+=1\n",
        "            end-=1\n",
        "        elif(nums[i] + nums[start] + nums[end] > 0):\n",
        "            end-=1\n",
        "        else:\n",
        "            start+=1\n",
        "print(list1)"
      ],
      "metadata": {
        "colab": {
          "base_uri": "https://localhost:8080/"
        },
        "id": "__EkzZXoR3F7",
        "outputId": "797a7c44-118a-4073-e023-842dd350528f"
      },
      "execution_count": null,
      "outputs": [
        {
          "output_type": "stream",
          "name": "stdout",
          "text": [
            "[[-1, -1, 2], [-1, 0, 1], [-1, 0, 1]]\n"
          ]
        }
      ]
    },
    {
      "cell_type": "code",
      "source": [
        "# [10,25,14,6,8,1,78,521,8,654,1,2,521]\n",
        "# Find second highest value\n",
        "# k highest\n",
        "\n",
        "# Find second highest value\n",
        "# k highest\n",
        "\n",
        "\n",
        "\n",
        "list2 = [1,1,2,3,4,5,45,3,5,3,5,4,3,21,1]\n",
        "list2.sort()\n",
        "print(list2)\n",
        "start=0\n",
        "while(start<len(list2)-1):\n",
        "  if list2[start]==list2[start+1]:\n",
        "    list2.remove(list2[start+1])\n",
        "  else:\n",
        "    start+=1\n",
        "print(list2)\n",
        "k = int( input ( \" enter k highest valueee: \"))\n",
        "if k> len(list2):\n",
        "  print(\" enter in range list \")\n",
        "else:\n",
        "  print(\"The \",k,\"highest value is \",list2[-k])"
      ],
      "metadata": {
        "colab": {
          "base_uri": "https://localhost:8080/"
        },
        "id": "bIUm91PWJ_OS",
        "outputId": "59db6018-40c9-4643-f7dd-6d40df2df565"
      },
      "execution_count": null,
      "outputs": [
        {
          "output_type": "stream",
          "name": "stdout",
          "text": [
            "[1, 1, 1, 2, 3, 3, 3, 3, 4, 4, 5, 5, 5, 21, 45]\n",
            "[1, 2, 3, 4, 5, 21, 45]\n",
            " enter k highest valueee: 2\n",
            "The  2 highest value is  21\n"
          ]
        }
      ]
    },
    {
      "cell_type": "code",
      "source": [
        "# Dictionary list and set comprehension"
      ],
      "metadata": {
        "id": "8HbnweadR8vu"
      },
      "execution_count": null,
      "outputs": []
    },
    {
      "cell_type": "code",
      "source": [
        "list1 = [x for x in range(10) if x%2==0]\n",
        "list1"
      ],
      "metadata": {
        "colab": {
          "base_uri": "https://localhost:8080/"
        },
        "id": "HX489SsuN5tx",
        "outputId": "d317e9f7-5995-4db7-80f2-199a6dc4204d"
      },
      "execution_count": null,
      "outputs": [
        {
          "output_type": "execute_result",
          "data": {
            "text/plain": [
              "[0, 2, 4, 6, 8]"
            ]
          },
          "metadata": {},
          "execution_count": 2
        }
      ]
    },
    {
      "cell_type": "code",
      "source": [
        "set1 = {x for x in range(10) if x%2==0}\n",
        "set1"
      ],
      "metadata": {
        "colab": {
          "base_uri": "https://localhost:8080/"
        },
        "id": "rX0mQeecOBLv",
        "outputId": "f7624383-1bf4-42a9-dd5a-7ec79c627503"
      },
      "execution_count": null,
      "outputs": [
        {
          "output_type": "execute_result",
          "data": {
            "text/plain": [
              "{0, 2, 4, 6, 8}"
            ]
          },
          "metadata": {},
          "execution_count": 3
        }
      ]
    },
    {
      "cell_type": "code",
      "source": [
        "dict1 = {x:x**2 for x in range(10)}\n",
        "dict1"
      ],
      "metadata": {
        "colab": {
          "base_uri": "https://localhost:8080/"
        },
        "id": "L_zQRiH9OH-c",
        "outputId": "56d691f1-0d72-4221-a548-81a454fef8b5"
      },
      "execution_count": null,
      "outputs": [
        {
          "output_type": "execute_result",
          "data": {
            "text/plain": [
              "{0: 0, 1: 1, 2: 4, 3: 9, 4: 16, 5: 25, 6: 36, 7: 49, 8: 64, 9: 81}"
            ]
          },
          "metadata": {},
          "execution_count": 4
        }
      ]
    },
    {
      "cell_type": "code",
      "source": [
        "num1=int(input(\"Enter the num to convert into roman :\"))\n",
        "dict1={1000:\"M\",900:\"CM\",500:\"D\",400:\"CD\",100:\"C\",90:\"XC\",50:\"L\",40:\"XL\",10:\"X\",9:\"IX\",5:\"V\",4:\"IV\",1:\"I\"}\n",
        "roman_num=\"\"\n",
        "for i in dict1:\n",
        "  while(num1>=i):\n",
        "    roman_num+=dict1[i]\n",
        "    num1-=i\n",
        "print(roman_num)"
      ],
      "metadata": {
        "id": "uOyF5z3hOP5-",
        "colab": {
          "base_uri": "https://localhost:8080/"
        },
        "outputId": "612e22be-4430-45ea-9832-e997aa78bf53"
      },
      "execution_count": null,
      "outputs": [
        {
          "output_type": "stream",
          "name": "stdout",
          "text": [
            "Enter the num to convert into roman :567\n",
            "DLXVII\n"
          ]
        }
      ]
    },
    {
      "cell_type": "code",
      "source": [
        "# set ---> datatype ---> unique elements\n",
        "myset = set({}) # Empty set"
      ],
      "metadata": {
        "id": "ETao55YHLpA4"
      },
      "execution_count": null,
      "outputs": []
    },
    {
      "cell_type": "code",
      "source": [
        "myset = {10,20,30,40,44}\n",
        "print(myset)"
      ],
      "metadata": {
        "colab": {
          "base_uri": "https://localhost:8080/"
        },
        "id": "7YF6CSBKS99w",
        "outputId": "e7aafb4a-9dfe-4e8b-d193-60995345ed61"
      },
      "execution_count": null,
      "outputs": [
        {
          "output_type": "stream",
          "name": "stdout",
          "text": [
            "{20, 40, 10, 44, 30}\n"
          ]
        }
      ]
    },
    {
      "cell_type": "code",
      "source": [
        "myset.add(50)"
      ],
      "metadata": {
        "id": "pQ15CMgGTFv8"
      },
      "execution_count": null,
      "outputs": []
    },
    {
      "cell_type": "code",
      "source": [
        "print(myset)"
      ],
      "metadata": {
        "colab": {
          "base_uri": "https://localhost:8080/"
        },
        "id": "5gh9dB0uTOE5",
        "outputId": "80862431-2b97-4dc8-d414-f0cfe99f2e9e"
      },
      "execution_count": null,
      "outputs": [
        {
          "output_type": "stream",
          "name": "stdout",
          "text": [
            "{50, 20, 40, 10, 44, 30}\n"
          ]
        }
      ]
    },
    {
      "cell_type": "code",
      "source": [
        "myset = {10,20,30}\n",
        "myset2 = {30,40,50}\n",
        "myset.union(myset2)"
      ],
      "metadata": {
        "colab": {
          "base_uri": "https://localhost:8080/"
        },
        "id": "aLjzLV_5TYX7",
        "outputId": "90460821-841b-4c98-b0ff-2e2b41ba1629"
      },
      "execution_count": null,
      "outputs": [
        {
          "output_type": "execute_result",
          "data": {
            "text/plain": [
              "{10, 20, 30, 40, 50}"
            ]
          },
          "metadata": {},
          "execution_count": 11
        }
      ]
    },
    {
      "cell_type": "code",
      "source": [
        "myset = {10,20,30,40,50}\n",
        "myset2 = {30,40,50}\n",
        "myset.difference(myset2)"
      ],
      "metadata": {
        "colab": {
          "base_uri": "https://localhost:8080/"
        },
        "id": "qsxUZpitTo9U",
        "outputId": "2a3c78d7-c62c-467b-b81d-fd39f31d5345"
      },
      "execution_count": null,
      "outputs": [
        {
          "output_type": "execute_result",
          "data": {
            "text/plain": [
              "{10, 20}"
            ]
          },
          "metadata": {},
          "execution_count": 12
        }
      ]
    },
    {
      "cell_type": "code",
      "source": [
        "myset = {10,20,30,40,50}\n",
        "myset2 = {30,40,50}\n",
        "myset2.issubset(myset)"
      ],
      "metadata": {
        "colab": {
          "base_uri": "https://localhost:8080/"
        },
        "id": "nwDvBuAwT084",
        "outputId": "da32a456-e8c3-4029-d4b4-e4787a1c3e90"
      },
      "execution_count": null,
      "outputs": [
        {
          "output_type": "execute_result",
          "data": {
            "text/plain": [
              "True"
            ]
          },
          "metadata": {},
          "execution_count": 13
        }
      ]
    },
    {
      "cell_type": "code",
      "source": [
        "myset = {10,20,30,40,50}\n",
        "myset2 = {30,40,50}\n",
        "myset2.issuperset(myset)"
      ],
      "metadata": {
        "colab": {
          "base_uri": "https://localhost:8080/"
        },
        "id": "Bo8z4XRmT8fQ",
        "outputId": "7c68c436-d5b2-4a82-f007-5610d15e234b"
      },
      "execution_count": null,
      "outputs": [
        {
          "output_type": "execute_result",
          "data": {
            "text/plain": [
              "False"
            ]
          },
          "metadata": {},
          "execution_count": 14
        }
      ]
    },
    {
      "cell_type": "code",
      "source": [
        "# List Comprehension:\n",
        "[i for i in range(1,10)]"
      ],
      "metadata": {
        "colab": {
          "base_uri": "https://localhost:8080/"
        },
        "id": "UAx7SzXIUBwW",
        "outputId": "cdeab486-1746-483f-e35a-148c8706b9f7"
      },
      "execution_count": null,
      "outputs": [
        {
          "output_type": "execute_result",
          "data": {
            "text/plain": [
              "[1, 2, 3, 4, 5, 6, 7, 8, 9]"
            ]
          },
          "metadata": {},
          "execution_count": 15
        }
      ]
    },
    {
      "cell_type": "code",
      "source": [
        "# Set Comprehension\n",
        "{i for i in range(1,10)}"
      ],
      "metadata": {
        "colab": {
          "base_uri": "https://localhost:8080/"
        },
        "id": "Oj_cQiK8WQvJ",
        "outputId": "fe7b25d5-c173-4dae-aa9c-42327c49997e"
      },
      "execution_count": null,
      "outputs": [
        {
          "output_type": "execute_result",
          "data": {
            "text/plain": [
              "{1, 2, 3, 4, 5, 6, 7, 8, 9}"
            ]
          },
          "metadata": {},
          "execution_count": 16
        }
      ]
    },
    {
      "cell_type": "code",
      "source": [
        "# Dictionary Comprehension\n",
        "{i:1 for i in range(1,10)}"
      ],
      "metadata": {
        "colab": {
          "base_uri": "https://localhost:8080/"
        },
        "id": "o_A2ZZj3WYSY",
        "outputId": "7a54191f-8fff-45f5-a4c5-060ab34ca083"
      },
      "execution_count": null,
      "outputs": [
        {
          "output_type": "execute_result",
          "data": {
            "text/plain": [
              "{1: 1, 2: 1, 3: 1, 4: 1, 5: 1, 6: 1, 7: 1, 8: 1, 9: 1}"
            ]
          },
          "metadata": {},
          "execution_count": 17
        }
      ]
    },
    {
      "cell_type": "code",
      "source": [
        "# identity operator reference to memory address\n",
        "# python store 0-256 num in cache memory\n",
        "x=256\n",
        "a=256\n",
        "a=x is a\n",
        "print(id(a),id(x))\n",
        "a"
      ],
      "metadata": {
        "colab": {
          "base_uri": "https://localhost:8080/"
        },
        "id": "Mkz46_m5Wgy1",
        "outputId": "80bda7af-83f9-4c37-89b9-28ec7efd52d5"
      },
      "execution_count": null,
      "outputs": [
        {
          "output_type": "stream",
          "name": "stdout",
          "text": [
            "9692800 10759016\n"
          ]
        },
        {
          "output_type": "execute_result",
          "data": {
            "text/plain": [
              "True"
            ]
          },
          "metadata": {},
          "execution_count": 18
        }
      ]
    },
    {
      "cell_type": "code",
      "source": [
        "# Functions: Block of code---> Write logic and use it multiole times\n",
        "#                              Code reusability\n",
        "# def func():\n",
        "#    logic"
      ],
      "metadata": {
        "id": "jV4H7YweYX5B"
      },
      "execution_count": null,
      "outputs": []
    },
    {
      "cell_type": "code",
      "source": [
        "y = 20    # Global Variable\n",
        "def func():\n",
        "\n",
        "  x1 = 10 # Local Variable\n",
        "  y = 500 # Locally change\n",
        "  print(\"Hello World\",x1,y)\n",
        "func()\n",
        "print(\"Outside Function=>\",y)\n",
        "# print(x1) ---> cannot be accessed outside function"
      ],
      "metadata": {
        "colab": {
          "base_uri": "https://localhost:8080/"
        },
        "id": "_fYwkRyIZRqB",
        "outputId": "eda4208a-b6f4-47ff-e5de-71ce68e0a542"
      },
      "execution_count": null,
      "outputs": [
        {
          "output_type": "stream",
          "name": "stdout",
          "text": [
            "Hello World 10 500\n",
            "Outside Function=> 20\n"
          ]
        }
      ]
    },
    {
      "cell_type": "code",
      "source": [
        "y = 20    # Global Variable\n",
        "def func():\n",
        "  global y  # Variable made global ---> Now local change show in global\n",
        "  x1 = 10 # Local Variable\n",
        "  y = 500\n",
        "  print(\"Hello World\",x1,y)\n",
        "func()\n",
        "print(\"Outside Function=>\",y)\n",
        "# print(x1) ---> cannot be accessed outside function"
      ],
      "metadata": {
        "colab": {
          "base_uri": "https://localhost:8080/"
        },
        "id": "thJjOhg4Zr97",
        "outputId": "cdff49f5-aff3-4dbb-ff2e-05fcd42b27fb"
      },
      "execution_count": null,
      "outputs": [
        {
          "output_type": "stream",
          "name": "stdout",
          "text": [
            "Hello World 10 500\n",
            "Outside Function=> 500\n"
          ]
        }
      ]
    },
    {
      "cell_type": "code",
      "source": [
        "# we write z:int for understanding that give int value to z but\n",
        "#                                    it can be any type of data"
      ],
      "metadata": {
        "id": "TT5HNpZ-a_7L"
      },
      "execution_count": null,
      "outputs": []
    },
    {
      "cell_type": "code",
      "source": [
        "# type hint\n",
        "def func(z:int , k:str):\n",
        "  print(\"Hello World\",z,k)\n",
        "\n",
        "func(90,\"vineet\")"
      ],
      "metadata": {
        "colab": {
          "base_uri": "https://localhost:8080/"
        },
        "id": "qa-QgMIoc1wa",
        "outputId": "0d35371a-4083-403d-9cd7-f29d323543f7"
      },
      "execution_count": null,
      "outputs": [
        {
          "output_type": "stream",
          "name": "stdout",
          "text": [
            "Hello World 90 vineet\n"
          ]
        }
      ]
    },
    {
      "cell_type": "code",
      "source": [
        "# learning assignment\n",
        "# keyword argument and default argument\n",
        "# var len argument and keyword len argument (args and kwargs)\n",
        "# high order func and first class func"
      ],
      "metadata": {
        "id": "Wq6oYnqYdSP7"
      },
      "execution_count": null,
      "outputs": []
    },
    {
      "cell_type": "code",
      "source": [
        "def square(n):\n",
        "    return n * n\n",
        "\n",
        "def apply_function(func, value):\n",
        "    return func(value)  # Calling the passed function\n",
        "\n",
        "print(apply_function(square, 5))"
      ],
      "metadata": {
        "colab": {
          "base_uri": "https://localhost:8080/"
        },
        "id": "4IEwcjtxMH64",
        "outputId": "fff3bda8-4046-4398-a85c-580e82d79927"
      },
      "execution_count": null,
      "outputs": [
        {
          "output_type": "stream",
          "name": "stdout",
          "text": [
            "25\n"
          ]
        }
      ]
    },
    {
      "cell_type": "code",
      "source": [
        "def func(x,y):\n",
        "  print(x,y)\n",
        "\n",
        "func(160,1448)"
      ],
      "metadata": {
        "colab": {
          "base_uri": "https://localhost:8080/"
        },
        "id": "u29TsDMfNP7_",
        "outputId": "6923a598-c390-4466-fa20-ae40aaca81ec"
      },
      "execution_count": null,
      "outputs": [
        {
          "output_type": "stream",
          "name": "stdout",
          "text": [
            "160 1448\n"
          ]
        }
      ]
    },
    {
      "cell_type": "code",
      "source": [
        "# *args => variable length arguments\n",
        "def func(*a):\n",
        "  print(a)"
      ],
      "metadata": {
        "id": "_G1WWVMxVY_N"
      },
      "execution_count": null,
      "outputs": []
    },
    {
      "cell_type": "code",
      "source": [
        "func()\n",
        "func(10)\n",
        "func(11,12,23,3,4)"
      ],
      "metadata": {
        "colab": {
          "base_uri": "https://localhost:8080/"
        },
        "id": "UqWhPqbPV35z",
        "outputId": "440ceade-7efe-4680-c60b-ee644ad61b92"
      },
      "execution_count": null,
      "outputs": [
        {
          "output_type": "stream",
          "name": "stdout",
          "text": [
            "()\n",
            "(10,)\n",
            "(11, 12, 23, 3, 4)\n"
          ]
        }
      ]
    },
    {
      "cell_type": "code",
      "source": [
        "# **kwargs => keyword variable lenth argument\n",
        "def func(**a):\n",
        "  print(a)"
      ],
      "metadata": {
        "id": "LJNIxNwWV-ON"
      },
      "execution_count": null,
      "outputs": []
    },
    {
      "cell_type": "code",
      "source": [
        "func(userid = 10)\n",
        "func(salary = 1448 , post = \"accountant\")"
      ],
      "metadata": {
        "colab": {
          "base_uri": "https://localhost:8080/"
        },
        "id": "ZFjlJwZUXJjt",
        "outputId": "9baed11f-3354-484b-a060-c05996c5b0f2"
      },
      "execution_count": null,
      "outputs": [
        {
          "output_type": "stream",
          "name": "stdout",
          "text": [
            "{'userid': 10}\n",
            "{'salary': 1448, 'post': 'accountant'}\n"
          ]
        }
      ]
    },
    {
      "cell_type": "code",
      "source": [
        "# lambda functions ---> anonymous functions ---> one line functions\n",
        "def funx(x):\n",
        "  print(\"abc\")\n",
        "print(func)\n",
        "\n",
        "u1 = lambda x : \"abc\"\n",
        "u1(10)\n",
        "\n",
        "# Syntax =>  lambda parameter : expression"
      ],
      "metadata": {
        "colab": {
          "base_uri": "https://localhost:8080/",
          "height": 53
        },
        "id": "lWimSKnBXW-e",
        "outputId": "5dcc7a99-b91e-4500-ab7a-3e150fbc6977"
      },
      "execution_count": null,
      "outputs": [
        {
          "output_type": "stream",
          "name": "stdout",
          "text": [
            "<function func at 0x79dfac178d60>\n"
          ]
        },
        {
          "output_type": "execute_result",
          "data": {
            "text/plain": [
              "'abc'"
            ],
            "application/vnd.google.colaboratory.intrinsic+json": {
              "type": "string"
            }
          },
          "metadata": {},
          "execution_count": 14
        }
      ]
    },
    {
      "cell_type": "code",
      "source": [
        "# \"hey vineet here user\" ---> \"user tushar here hey\"\n",
        "x = \"hey vineet here user\"\n",
        "mylist = x.split(\" \")\n",
        "mylist[-1],mylist[0] = mylist[0],mylist[-1]\n",
        "\" \".join(mylist)"
      ],
      "metadata": {
        "colab": {
          "base_uri": "https://localhost:8080/",
          "height": 35
        },
        "id": "Y5JITXEWbv64",
        "outputId": "1f856688-9e71-4e17-b715-ddd164d4b8cf"
      },
      "execution_count": null,
      "outputs": [
        {
          "output_type": "execute_result",
          "data": {
            "text/plain": [
              "'user vineet here hey'"
            ],
            "application/vnd.google.colaboratory.intrinsic+json": {
              "type": "string"
            }
          },
          "metadata": {},
          "execution_count": 21
        }
      ]
    },
    {
      "cell_type": "code",
      "source": [
        "def func(x):\n",
        "  print(\"inside => \",x.split(\" \"))\n",
        "\n",
        "func(\"hey vineet here\")"
      ],
      "metadata": {
        "colab": {
          "base_uri": "https://localhost:8080/"
        },
        "id": "afVL_ZDBaXZZ",
        "outputId": "3ca1fe31-0fbd-49a9-8460-a5f3f3a15df8"
      },
      "execution_count": null,
      "outputs": [
        {
          "output_type": "stream",
          "name": "stdout",
          "text": [
            "inside =>  ['hey', 'vineet', 'here']\n"
          ]
        }
      ]
    },
    {
      "cell_type": "code",
      "source": [
        "lambda x : x.split(\" \")[-1]\n",
        "u2 = lambda x : x.split(\" \")[-1]\n",
        "u2(\"hey vineet here\")"
      ],
      "metadata": {
        "colab": {
          "base_uri": "https://localhost:8080/",
          "height": 35
        },
        "id": "mOMDaLQwbChS",
        "outputId": "034bba7d-c7a7-4000-e448-646962a2f757"
      },
      "execution_count": null,
      "outputs": [
        {
          "output_type": "execute_result",
          "data": {
            "text/plain": [
              "'here'"
            ],
            "application/vnd.google.colaboratory.intrinsic+json": {
              "type": "string"
            }
          },
          "metadata": {},
          "execution_count": 20
        }
      ]
    },
    {
      "cell_type": "code",
      "source": [
        "def func(a):\n",
        "  return a+5\n",
        "print(func(18))"
      ],
      "metadata": {
        "colab": {
          "base_uri": "https://localhost:8080/"
        },
        "id": "Qn_FOIR1bfH-",
        "outputId": "9c5fb998-56cf-4d31-d1c5-3ade26f568bc"
      },
      "execution_count": null,
      "outputs": [
        {
          "output_type": "stream",
          "name": "stdout",
          "text": [
            "23\n"
          ]
        }
      ]
    },
    {
      "cell_type": "code",
      "source": [
        "out = func(18)\n",
        "print(out)"
      ],
      "metadata": {
        "colab": {
          "base_uri": "https://localhost:8080/"
        },
        "id": "nPDfam2rev29",
        "outputId": "e2bb00d9-310f-4b8c-d06c-64d0fd4a4de8"
      },
      "execution_count": null,
      "outputs": [
        {
          "output_type": "stream",
          "name": "stdout",
          "text": [
            "23\n"
          ]
        }
      ]
    },
    {
      "cell_type": "code",
      "source": [
        "mylist = [10,102,3,4,56]\n",
        "x = map( lambda a: a+5 , mylist)\n",
        "print( next(x) )\n",
        "print( next(x) )"
      ],
      "metadata": {
        "colab": {
          "base_uri": "https://localhost:8080/"
        },
        "id": "xJ3t3a9oe7rn",
        "outputId": "b8d92ecd-e5b1-4250-b6a4-1554aea9b4ac"
      },
      "execution_count": null,
      "outputs": [
        {
          "output_type": "stream",
          "name": "stdout",
          "text": [
            "15\n",
            "107\n"
          ]
        }
      ]
    },
    {
      "cell_type": "code",
      "source": [
        "mylist = [10,102,3,4,56]\n",
        "list(map( lambda a: a+5 , mylist))\n"
      ],
      "metadata": {
        "colab": {
          "base_uri": "https://localhost:8080/"
        },
        "id": "L8sBqvmghURU",
        "outputId": "2b441d93-4349-4c87-922a-f67502007c4b"
      },
      "execution_count": null,
      "outputs": [
        {
          "output_type": "execute_result",
          "data": {
            "text/plain": [
              "[15, 107, 8, 9, 61]"
            ]
          },
          "metadata": {},
          "execution_count": 25
        }
      ]
    },
    {
      "cell_type": "code",
      "source": [
        "mylist= [10,25,14,6,8,1,78,521,8,654,1,2,521]\n",
        "\n",
        "x = list(map(lambda a:a%2==0,mylist))\n",
        "\n",
        "x"
      ],
      "metadata": {
        "colab": {
          "base_uri": "https://localhost:8080/"
        },
        "id": "KRkT1N-mhcSQ",
        "outputId": "7a02d8ab-dde3-4136-93ec-8c29c3740c2a"
      },
      "execution_count": null,
      "outputs": [
        {
          "output_type": "execute_result",
          "data": {
            "text/plain": [
              "[True,\n",
              " False,\n",
              " True,\n",
              " True,\n",
              " True,\n",
              " False,\n",
              " True,\n",
              " False,\n",
              " True,\n",
              " True,\n",
              " False,\n",
              " True,\n",
              " False]"
            ]
          },
          "metadata": {},
          "execution_count": 27
        }
      ]
    },
    {
      "cell_type": "code",
      "source": [
        "mylist= [10,25,14,6,8,1,78,521,8,654,1,2,521]\n",
        "\n",
        "x = list(filter(lambda a:a%2==0,mylist))\n",
        "\n",
        "x"
      ],
      "metadata": {
        "colab": {
          "base_uri": "https://localhost:8080/"
        },
        "id": "VKWIH5kShfOy",
        "outputId": "25b61447-fd62-4ee9-bbb2-5a1670b70e52"
      },
      "execution_count": null,
      "outputs": [
        {
          "output_type": "execute_result",
          "data": {
            "text/plain": [
              "[10, 14, 6, 8, 78, 8, 654, 2]"
            ]
          },
          "metadata": {},
          "execution_count": 28
        }
      ]
    },
    {
      "cell_type": "code",
      "source": [
        "# Assignment\n",
        "# Q1\n",
        "# l1=[10,20,300]\n",
        "# l2=[40,50,60]\n",
        "# {10:40,  20:50,  300:60}\n",
        "# # note using zip and without zip\n",
        "# =>\n",
        "l1=[10,20,300]\n",
        "l2=[40,50,60]\n",
        "dict1={}\n",
        "for i in range(len(l1)):\n",
        "  dict1[l1[i]] = l2[i]\n",
        "print(dict1)"
      ],
      "metadata": {
        "id": "8J2aOVzshpi6"
      },
      "execution_count": 1,
      "outputs": []
    },
    {
      "cell_type": "code",
      "source": [
        "# sol 1.\n"
      ],
      "metadata": {
        "colab": {
          "base_uri": "https://localhost:8080/"
        },
        "id": "VYxLnCDMekQO",
        "outputId": "b23269b6-060e-4424-80bd-1d183885dee2"
      },
      "execution_count": 2,
      "outputs": [
        {
          "output_type": "stream",
          "name": "stdout",
          "text": [
            "{10: 40, 20: 50, 300: 60}\n"
          ]
        }
      ]
    },
    {
      "cell_type": "code",
      "source": [
        "# Q2 {name: marks .. . . . .  ======>} multiple elements\n",
        "# now take a input from the user for score variable\n",
        "# - print the key who have more value then the score variable\n",
        "# =>\n",
        "marks = {\n",
        "    \"prakul\": 85,\n",
        "    \"Anmol\": 70,\n",
        "    \"vineet\": 90,\n",
        "    \"anshul\": 60,\n",
        "    \"gursewak\": 95\n",
        "}\n",
        "x = int(input(\"Enter the score : \"))\n",
        "\n",
        "print(\"Students who scored more than\",x,\"are : \")\n",
        "for i in marks:\n",
        "  if marks[i] > x:\n",
        "    print(i,marks[i])"
      ],
      "metadata": {
        "colab": {
          "base_uri": "https://localhost:8080/"
        },
        "id": "gqOJZd4wij3I",
        "outputId": "8b703994-627b-4fe7-b02e-002bb6a88b73"
      },
      "execution_count": 3,
      "outputs": [
        {
          "output_type": "stream",
          "name": "stdout",
          "text": [
            "Enter the score : 78\n",
            "Students who scored more than 78 are : \n",
            "prakul 85\n",
            "vineet 90\n",
            "gursewak 95\n"
          ]
        }
      ]
    },
    {
      "cell_type": "code",
      "source": [
        "# Q3 {10:19,  11:20,  13:NONE}\n",
        "# delete the key-value pair where the value is none\n",
        "# =>\n",
        "dict1={10:19,  11:20,  13:None}\n",
        "d1={k:v for k,v in dict1.items() if v!=None}\n",
        "print(d1)"
      ],
      "metadata": {
        "colab": {
          "base_uri": "https://localhost:8080/"
        },
        "id": "MJnXsTHllce6",
        "outputId": "d28b46fc-6e79-44f8-e554-57d73193c31d"
      },
      "execution_count": 6,
      "outputs": [
        {
          "output_type": "stream",
          "name": "stdout",
          "text": [
            "{10: 19, 11: 20}\n"
          ]
        }
      ]
    },
    {
      "cell_type": "code",
      "source": [
        "# Q4:   {\"x\":5, \"y\":7, \"z\":10}\n",
        "# print new dictionary as square of each key {x:25, y:49,  z:100}\n",
        "# =>\n",
        "dict1={\"x\":5, \"y\":7, \"z\":10}\n",
        "d1={k:v**2 for k,v in dict1.items()}\n",
        "print(d1)"
      ],
      "metadata": {
        "colab": {
          "base_uri": "https://localhost:8080/"
        },
        "id": "Z2dy6HgAmI_s",
        "outputId": "ab0d0d71-3fa4-46e4-bb5e-4c118831de4a"
      },
      "execution_count": 7,
      "outputs": [
        {
          "output_type": "stream",
          "name": "stdout",
          "text": [
            "{'x': 25, 'y': 49, 'z': 100}\n"
          ]
        }
      ]
    },
    {
      "cell_type": "code",
      "source": [
        "# Q5\n",
        "# create a dictionary as cube of number from 1 to 5\n",
        "# {1:1, 2:8, 3:27, 4:64, 5:125}\n",
        "# Note use only thing we have learnt\n",
        "# =>\n",
        "dict1 = {x:x**3 for x in range(1,6)}\n",
        "print(dict1)"
      ],
      "metadata": {
        "colab": {
          "base_uri": "https://localhost:8080/"
        },
        "id": "_sXNl6Zhm1X1",
        "outputId": "d5f70570-6381-4c89-dd76-e305e21ddc56"
      },
      "execution_count": 8,
      "outputs": [
        {
          "output_type": "stream",
          "name": "stdout",
          "text": [
            "{1: 1, 2: 8, 3: 27, 4: 64, 5: 125}\n"
          ]
        }
      ]
    },
    {
      "cell_type": "code",
      "source": [
        "# Q6 {\"x\":5, \"y\":7, \"z\":10}\n",
        "# get the ans in new dictionary {\"average\":7.3 ,   \"max\":10}\n",
        "# =>\n",
        "dict1 = {\"x\":5, \"y\":7, \"z\":10}\n",
        "average=sum(dict1.values())/len(dict1)\n",
        "maxi=max(dict1.values())\n",
        "dict2={\"average\":round(average,1),\"max\":average}\n",
        "print(dict2)\n",
        "\n",
        "# Q6 {\"x\":5, \"y\":7, \"z\":10}\n",
        "# get the ans in new dictionary {\"average\":7.3 ,   \"max\":10}\n",
        "# =>\n",
        "dict1={\"x\":5, \"y\":7, \"z\":10}\n",
        "average=sum(dict1.values())/len(dict1)\n",
        "maxi=max(dict1.values())\n",
        "dict2={\"average\":round(average,1),\"max\":average}\n",
        "print(dict2)"
      ],
      "metadata": {
        "colab": {
          "base_uri": "https://localhost:8080/"
        },
        "id": "Zv9E-BEtnHyC",
        "outputId": "502e6ddd-148c-4c27-fdfd-c5e26ec70d4c"
      },
      "execution_count": 9,
      "outputs": [
        {
          "output_type": "stream",
          "name": "stdout",
          "text": [
            "{'average': 7.3, 'max': 7.333333333333333}\n",
            "{'average': 7.3, 'max': 7.333333333333333}\n"
          ]
        }
      ]
    },
    {
      "cell_type": "code",
      "source": [],
      "metadata": {
        "id": "6oos-14YnmRk"
      },
      "execution_count": null,
      "outputs": []
    }
  ]
}