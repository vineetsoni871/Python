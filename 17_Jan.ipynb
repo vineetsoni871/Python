{
  "nbformat": 4,
  "nbformat_minor": 0,
  "metadata": {
    "colab": {
      "provenance": [],
      "authorship_tag": "ABX9TyO8F/vc1VQIget7wXVbwFgF",
      "include_colab_link": true
    },
    "kernelspec": {
      "name": "python3",
      "display_name": "Python 3"
    },
    "language_info": {
      "name": "python"
    }
  },
  "cells": [
    {
      "cell_type": "markdown",
      "metadata": {
        "id": "view-in-github",
        "colab_type": "text"
      },
      "source": [
        "<a href=\"https://colab.research.google.com/github/vineetsoni871/Python/blob/main/17_Jan.ipynb\" target=\"_parent\"><img src=\"https://colab.research.google.com/assets/colab-badge.svg\" alt=\"Open In Colab\"/></a>"
      ]
    },
    {
      "cell_type": "code",
      "execution_count": 1,
      "metadata": {
        "colab": {
          "base_uri": "https://localhost:8080/"
        },
        "id": "NO5_BSLqrCII",
        "outputId": "d6d8d0d6-3764-4d8e-b283-fe068c05aaf6"
      },
      "outputs": [
        {
          "output_type": "stream",
          "name": "stdout",
          "text": [
            "Second max= 30\n"
          ]
        }
      ],
      "source": [
        "x=[10,20,30,40,40,7]\n",
        "max1=x[0]\n",
        "max2=0\n",
        "for i in range(len(x)):\n",
        "    if x[i]>max1:\n",
        "        max2=max1\n",
        "        max1=x[i]\n",
        "    elif x[i]>max2 and x[i]!=max1:\n",
        "        max2=x[i]\n",
        "\n",
        "print(\"Second max=\",max2)"
      ]
    },
    {
      "cell_type": "code",
      "source": [
        "x=[0,1,2,3,4,7,11,13]\n",
        "start=0\n",
        "end=len(x)-1\n",
        "target=9\n",
        "while True:\n",
        "  if x[start]+x[end]==target:\n",
        "    print(x[start],x[end])\n",
        "    break\n",
        "  elif(x[start]+x[end]<target):\n",
        "    start+=1\n",
        "  elif(x[start]+x[end]>target):\n",
        "    end-=1"
      ],
      "metadata": {
        "colab": {
          "base_uri": "https://localhost:8080/"
        },
        "id": "D_Li2-fBrpBz",
        "outputId": "9cb12766-18c5-43fc-fe2b-4458310dbe84"
      },
      "execution_count": 6,
      "outputs": [
        {
          "output_type": "stream",
          "name": "stdout",
          "text": [
            "2 7\n"
          ]
        }
      ]
    },
    {
      "cell_type": "code",
      "source": [
        "mylist=[10,[20,30]]\n",
        "mylist[1][0]"
      ],
      "metadata": {
        "colab": {
          "base_uri": "https://localhost:8080/"
        },
        "id": "NRw2VYJkuan7",
        "outputId": "e79db5c8-54f2-48a5-8e10-e3a5928f3316"
      },
      "execution_count": 7,
      "outputs": [
        {
          "output_type": "execute_result",
          "data": {
            "text/plain": [
              "20"
            ]
          },
          "metadata": {},
          "execution_count": 7
        }
      ]
    },
    {
      "cell_type": "code",
      "source": [
        "for i in range(1,6):\n",
        "  for j in range(i,5):\n",
        "    print(\" \",end=\"\")\n",
        "  for k in range(1,i+1):\n",
        "    if(k==1 or k==i):\n",
        "      print(\"*\",end=\" \")\n",
        "    else:\n",
        "      print(\" \",end=\" \")\n",
        "  print()"
      ],
      "metadata": {
        "colab": {
          "base_uri": "https://localhost:8080/"
        },
        "id": "tU9WFPCjv4_Z",
        "outputId": "d599d6b0-1a29-4c07-ea3b-118d170f7754"
      },
      "execution_count": 10,
      "outputs": [
        {
          "output_type": "stream",
          "name": "stdout",
          "text": [
            "    * \n",
            "   * * \n",
            "  *   * \n",
            " *     * \n",
            "*       * \n"
          ]
        }
      ]
    },
    {
      "cell_type": "code",
      "source": [
        "mylist=[]\n",
        "for i in range(0,5):\n",
        "  templist=[]\n",
        "  for j in range(i,5):\n",
        "    print(\" \",end=\"\")\n",
        "  for k in range(0,i+1):\n",
        "    if(k==0 or k==i):\n",
        "      print(\"1\",end=\" \")\n",
        "      templist.append(1)\n",
        "    else:\n",
        "      templist.append(mylist[i-1][k-1]+mylist[i-1][k])\n",
        "      print(mylist[i-1][k-1]+mylist[i-1][k],end=\" \")\n",
        "  mylist.append(templist)\n",
        "  print()\n",
        "print(mylist)"
      ],
      "metadata": {
        "colab": {
          "base_uri": "https://localhost:8080/"
        },
        "id": "lvB5wITsypR6",
        "outputId": "b038a600-748b-4c1e-d496-f97fe3f83f7b"
      },
      "execution_count": 18,
      "outputs": [
        {
          "output_type": "stream",
          "name": "stdout",
          "text": [
            "     1 \n",
            "    1 1 \n",
            "   1 2 1 \n",
            "  1 3 3 1 \n",
            " 1 4 6 4 1 \n",
            "[[1], [1, 1], [1, 2, 1], [1, 3, 3, 1], [1, 4, 6, 4, 1]]\n"
          ]
        }
      ]
    },
    {
      "cell_type": "code",
      "source": [],
      "metadata": {
        "id": "hQCmZwaC2Iv2"
      },
      "execution_count": null,
      "outputs": []
    }
  ]
}