{
  "nbformat": 4,
  "nbformat_minor": 0,
  "metadata": {
    "colab": {
      "provenance": [],
      "authorship_tag": "ABX9TyPO0IlJq5pAxrXFLbi0O69H",
      "include_colab_link": true
    },
    "kernelspec": {
      "name": "python3",
      "display_name": "Python 3"
    },
    "language_info": {
      "name": "python"
    }
  },
  "cells": [
    {
      "cell_type": "markdown",
      "metadata": {
        "id": "view-in-github",
        "colab_type": "text"
      },
      "source": [
        "<a href=\"https://colab.research.google.com/github/vineetsoni871/Python/blob/main/18_jan.ipynb\" target=\"_parent\"><img src=\"https://colab.research.google.com/assets/colab-badge.svg\" alt=\"Open In Colab\"/></a>"
      ]
    },
    {
      "cell_type": "code",
      "source": [
        "list=[10,20,40,60,7]\n",
        "# Output=[60,7,10,20,40]\n",
        "k=4\n",
        "newlist=[0]*len(list)\n",
        "for i in range(0,len(list)):\n",
        "  newlist[(i+k)%len(list)]=list[i]\n",
        "print(newlist)"
      ],
      "metadata": {
        "colab": {
          "base_uri": "https://localhost:8080/"
        },
        "id": "P4bA23zo1_ev",
        "outputId": "f0b37345-b3ed-4579-8765-9e18400cb076"
      },
      "execution_count": 16,
      "outputs": [
        {
          "output_type": "stream",
          "name": "stdout",
          "text": [
            "[20, 40, 60, 7, 10]\n"
          ]
        }
      ]
    },
    {
      "cell_type": "code",
      "source": [
        "list=[10,20,40,60,7]\n",
        "# Output=[60,7,10,20,40]\n",
        "k=2\n",
        "k=k%len(list)\n",
        "newlist=[0]*len(list)\n",
        "for i in range(0,len(list)):\n",
        "  newlist[(i+k)%len(list)]=list[i]\n",
        "print(newlist)"
      ],
      "metadata": {
        "colab": {
          "base_uri": "https://localhost:8080/"
        },
        "id": "QUcagWuI7Edb",
        "outputId": "2bcc5e1c-344e-449b-f984-bda56d0b01c7"
      },
      "execution_count": 17,
      "outputs": [
        {
          "output_type": "stream",
          "name": "stdout",
          "text": [
            "[60, 7, 10, 20, 40]\n"
          ]
        }
      ]
    },
    {
      "cell_type": "code",
      "source": [],
      "metadata": {
        "id": "rxn-csPz8kyO"
      },
      "execution_count": null,
      "outputs": []
    }
  ]
}