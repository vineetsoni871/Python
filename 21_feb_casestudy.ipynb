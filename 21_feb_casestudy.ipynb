{
 "cells": [
  {
   "cell_type": "code",
   "execution_count": 13,
   "id": "3b2531a5-95f0-4810-b77c-a7984c4aa6b6",
   "metadata": {},
   "outputs": [
    {
     "name": "stdout",
     "output_type": "stream",
     "text": [
      "Highest fine: ['Shyam', 'Without Helmet', 2000]\n",
      "Violation count as follows:\n"
     ]
    },
    {
     "data": {
      "text/plain": [
       "{'Sam': 1, 'Ram': 1, 'Shyam': 1, 'Hem': 1}"
      ]
     },
     "execution_count": 13,
     "metadata": {},
     "output_type": "execute_result"
    }
   ],
   "source": [
    "# Case Study 6: Traffic Violation Analysis (Dictionaries, Lists, Loops)\n",
    "# Scenario:\n",
    "# A city traffic department wants to analyze violations. You need to:\n",
    "# 1. Store data in a dictionary, where keys are license plate numbers, and values are (driver\n",
    "# name, violation type, fine amount).\n",
    "# 2. Implement functions to:\n",
    "# o Find the driver with the highest fine.\n",
    "# o Count violations per driver.\n",
    "# o Identify the most common violation type.\n",
    "\n",
    "# Hints:\n",
    "#  Use a dictionary to store violation data.\n",
    "#  Use a loop to analyze violations.\n",
    "#  Use a secondary dictionary to track counts.\n",
    "# =>\n",
    "Traffic_violation={1234:[\"Sam\",\"Broke signal\",200],\n",
    "                   1235:[\"Ram\",\"Tripling\",100],\n",
    "                   1236:[\"Shyam\",\"Without Helmet\",2000],\n",
    "                   1237:[\"Hem\",\"Tripling\",100]}\n",
    "def highest_fine(Traffic_violation):\n",
    "    a=0\n",
    "    for i in Traffic_violation.values():\n",
    "        if i[2]>a:\n",
    "            a=i[2]\n",
    "            b=i\n",
    "    print(\"Highest fine:\",b)\n",
    "\n",
    "def violation_count(Traffic_violation):\n",
    "    violation_count={}\n",
    "\n",
    "    for license_plate, data in Traffic_violation.items():\n",
    "        driver_name , violation_type , Fine = data\n",
    "        if driver_name not in violation_count:\n",
    "            violation_count[driver_name] = 0\n",
    "        violation_count[driver_name] += 1\n",
    "    print(\"Violation count as follows:\")\n",
    "    return violation_count\n",
    "        \n",
    "highest_fine(Traffic_violation)\n",
    "violation_count(Traffic_violation)"
   ]
  },
  {
   "cell_type": "code",
   "execution_count": 17,
   "id": "31fcc62d-9792-41cf-a782-fd9ffbc88d99",
   "metadata": {},
   "outputs": [
    {
     "name": "stdout",
     "output_type": "stream",
     "text": [
      "['avalilable items', ['bread', 'milk', 'rice']]\n",
      "('your cart', ['bread', 'milk'])\n"
     ]
    },
    {
     "name": "stdin",
     "output_type": "stream",
     "text": [
      "item to check   milk\n"
     ]
    },
    {
     "name": "stdout",
     "output_type": "stream",
     "text": [
      "nope\n"
     ]
    }
   ],
   "source": [
    "# Case Study 7: Grocery Store Inventory Management (Sets, Dictionaries, Loops)\n",
    "# Scenario:\n",
    "# A grocery store needs to track available and sold-out items. You need to:\n",
    "# 1. Maintain two sets:\n",
    "# o available_items = {&quot;Milk&quot;, &quot;Bread&quot;, &quot;Eggs&quot;, &quot;Rice&quot;, &quot;Sugar&quot;}\n",
    "# o sold_out_items = {&quot;Eggs&quot;, &quot;Sugar&quot;}\n",
    "# 2. Implement functions to:\n",
    "# o Get all available items (remove sold-out items).\n",
    "# o Add new stock to available items.\n",
    "# o Check if an item is in stock.\n",
    "\n",
    "# Hints:\n",
    "#  Use sets to manage available and sold-out items.\n",
    "#  Use set operations (difference, union, intersection).\n",
    "def available_item(available_items,sold_out_items):\n",
    "  list1=list(available_items)\n",
    "  for i in list1:\n",
    "    if i in sold_out_items:\n",
    "      list1.remove(i)\n",
    "  return \"avalilable items\",list1\n",
    "def cart():\n",
    "  cart=[\"bread\",\"milk\"]\n",
    "  return \"your cart\", cart\n",
    "available_items={\"milk\",\"bread\",\"egg\",\"rice\",\"sugar\"}\n",
    "sold_out_items={\"egg\",\"sugar\"}\n",
    "a=list(available_item(available_items,sold_out_items))\n",
    "def check(a):\n",
    "  b = input (\"item to check  \")\n",
    "  if b in a:\n",
    "    return \"yupsss\"\n",
    "  else:\n",
    "    return \"nope\"\n",
    "print(a)\n",
    "print(cart())\n",
    "print(check(a))"
   ]
  },
  {
   "cell_type": "code",
   "execution_count": 18,
   "id": "cc2db798-8b17-447c-a5e6-0331649a2798",
   "metadata": {},
   "outputs": [
    {
     "name": "stdout",
     "output_type": "stream",
     "text": [
      "{'Rice', 'Milk', 'Bread'}\n",
      "\n",
      "Flour added to stock!\n",
      "\n",
      "Item Milk is available.\n"
     ]
    }
   ],
   "source": [
    "def available_item():\n",
    "    return available_items - sold_out_items\n",
    "\n",
    "def add_stock(item):\n",
    "    sold_out_items.discard(item)\n",
    "    available_items.add(item)\n",
    "    return f\"\\n{item} added to stock!\"\n",
    "\n",
    "def check_item(item):\n",
    "    if item in available_items:\n",
    "        return f\"\\nItem {item} is available.\"\n",
    "    else:\n",
    "        return f\"\\nItem {item} is not available.\"\n",
    "            \n",
    "\n",
    "available_items = {\"Milk\", \"Bread\", \"Eggs\", \"Rice\", \"Sugar\"}\n",
    "sold_out_items = {\"Eggs\", \"Sugar\"}\n",
    "print(available_item())\n",
    "print(add_stock(\"Flour\"))\n",
    "print(check_item(\"Milk\"))"
   ]
  },
  {
   "cell_type": "code",
   "execution_count": 22,
   "id": "2127d613-0149-4ef6-a5dd-f0588e0e75e7",
   "metadata": {},
   "outputs": [
    {
     "name": "stdout",
     "output_type": "stream",
     "text": [
      "Hashtag Usage :  {'#AI': 3, '#Python': 3, '#Tech': 2, '#Coding': 1, '#MachineLearning': 1}\n",
      "\n",
      "Top 3 trending hashtags is : [('#AI', 3), ('#Python', 3), ('#Tech', 2)]\n",
      "\n",
      "Low usage hashtag below: 2 is ['#Coding', '#MachineLearning']\n",
      "\n",
      "Common hashtag user by two user : {'#Python', '#AI'}\n"
     ]
    }
   ],
   "source": [
    "# Case Study 8: Social Media Hashtag Analysis (Dictionaries, Sets, Loops)\n",
    "# Scenario:\n",
    "# A social media company wants to analyze trending hashtags. You need to:\n",
    "\n",
    "# 1. Store hashtag usage in a dictionary where keys are hashtags, and values are usage counts.\n",
    "# 2. Implement functions to:\n",
    "# o Find the top 3 trending hashtags.\n",
    "# o Filter out hashtags with low usage (less than a given threshold).\n",
    "# o Identify common hashtags used by two users (use sets).\n",
    "\n",
    "# Hints:\n",
    "#  Use a dictionary to count occurrences.\n",
    "#  Use sorting to get top hashtags.\n",
    "#  Use sets to compare hashtag usage across users.\n",
    "def trending_hashtag():\n",
    "    trending=sorted(hashtags_usage.items(),key=lambda x:x[1], reverse=True)[:3]\n",
    "    return f\"\\nTop 3 trending hashtags is : {trending}\"\n",
    "\n",
    "def low_usage_hashtag(threshold):\n",
    "    low_usage=[]\n",
    "    for hashtag,count in hashtags_usage.items():\n",
    "        if count<threshold:\n",
    "            low_usage.append(hashtag)\n",
    "    return f\"\\nLow usage hashtag below: {threshold} is {low_usage}\"\n",
    "\n",
    "def common_hashtag():\n",
    "    common=user1_hashtag.intersection(user2_hashtag)\n",
    "    return f\"\\nCommon hashtag user by two user : {common}\"\n",
    "\n",
    "hashtags = [\"#AI\", \"#Python\", \"#Tech\", \"#AI\", \"#Coding\", \"#Python\", \"#Python\", \"#Tech\", \"#AI\", \"#MachineLearning\"]\n",
    "user1_hashtag={\"#AI\", \"#Python\", \"#Tech\"}\n",
    "user2_hashtag={\"#AI\", \"#Coding\", \"#Python\",\"#MachineLearning\"}\n",
    "\n",
    "hashtags_usage={}\n",
    "for i in hashtags:\n",
    "    if i not in hashtags_usage:\n",
    "        hashtags_usage[i]=1\n",
    "    else:\n",
    "        hashtags_usage[i]+=1\n",
    "print(f\"Hashtag Usage : \",hashtags_usage)\n",
    "print(trending_hashtag())\n",
    "print(low_usage_hashtag(2))\n",
    "print(common_hashtag())"
   ]
  },
  {
   "cell_type": "code",
   "execution_count": 23,
   "id": "2bdd549e-ac53-4dbb-b6f7-4b7d842c074e",
   "metadata": {},
   "outputs": [
    {
     "name": "stdout",
     "output_type": "stream",
     "text": [
      "Passenger in Specific fight AI204 : [('Vineet', 'AI204', '13A')]\n",
      "\n",
      "Seat is already booked!\n",
      "\n",
      "Sorted passenger according to the flight number : ['Ansul', 'Anmol', 'Gursewak', 'Vineet', 'Prakul']\n"
     ]
    }
   ],
   "source": [
    "# Case Study 9: Airline Ticket Booking System (Lists, Tuples, Loops)\n",
    "# Scenario:\n",
    "# An airline company needs to manage ticket bookings. You need to:\n",
    "# 1. Store bookings in a list of tuples where each tuple contains (passenger_name,\n",
    "# flight_number, seat_number).\n",
    "# 2. Implement functions to:\n",
    "# o Find all passengers on a specific flight.\n",
    "# o Check if a seat is already booked.\n",
    "# o Sort passengers by flight number.\n",
    "\n",
    "# Hints:\n",
    "#  Use a list of tuples to store bookings.\n",
    "#  Use loops to filter and find passengers.\n",
    "#  Use sorting for better organization.\n",
    "def passenger_flight(flight_number):\n",
    "    passenger=[]\n",
    "    for i in booking:\n",
    "        if i[1]==flight_number:\n",
    "            passenger.append(i)\n",
    "    return f\"Passenger in Specific fight {flight_number} : {passenger}\"\n",
    "\n",
    "def seat_booked(seat_number):\n",
    "    for i in booking:\n",
    "        if i[2]==seat_number:\n",
    "            return f\"\\nSeat is already booked!\"\n",
    "        else:\n",
    "            return f\"\\nSeat is not booked!\"\n",
    "\n",
    "def sort_passenger():\n",
    "    sorted_booking=sorted(booking,key=lambda x:x[1])\n",
    "    passenger_sorted=[]\n",
    "    for i in sorted_booking:\n",
    "        passenger_sorted.append(i[0])\n",
    "    return f\"\\nSorted passenger according to the flight number : {passenger_sorted}\"\n",
    "\n",
    "booking=[(\"Anmol\",\"AI202\",\"12A\"),(\"Vineet\",\"AI204\",\"13A\"),(\"Gursewak\",\"AI203\",\"15B\"),(\"Ansul\",\"AI201\",\"17A\"),(\"Prakul\",\"AI206\",\"18C\")]\n",
    "print(passenger_flight(\"AI204\"))\n",
    "print(seat_booked(\"12A\"))\n",
    "print(sort_passenger())\n"
   ]
  },
  {
   "cell_type": "code",
   "execution_count": 24,
   "id": "1b31bfd5-e592-4496-8fbc-a88b3b9f121d",
   "metadata": {},
   "outputs": [
    {
     "name": "stdout",
     "output_type": "stream",
     "text": [
      "Available Books : ['The Great Gatsby', 'To Kill a Mockingbird', 'Pride and Prejudice']\n",
      "\n",
      "John Doe borrowed : ['1984']!\n",
      "\n",
      "Dictionary contains no duplicate keys : {'To Kill a Mockingbird', 'The Great Gatsby', 'Pride and Prejudice', 'Moby Dick', '1984'}\n"
     ]
    }
   ],
   "source": [
    "# Case Study 10: Library Book Management (Dictionaries, Lists, Sets, Loops)\n",
    "# Scenario:\n",
    "# A library maintains a record of books and their borrowers. You need to:\n",
    "# 1. Store books in a dictionary where keys are book titles, and values are (author,\n",
    "# borrower_name or None if available).\n",
    "# 2. Implement functions to:\n",
    "# o Get a list of all available books.\n",
    "# o Find books borrowed by a specific person.\n",
    "\n",
    "# o Identify duplicate books using a set.\n",
    "\n",
    "# Hints:\n",
    "#  Use a dictionary to track books.\n",
    "#  Use loops to filter available books.\n",
    "#  Use a set to find duplicate books.\n",
    "def available_book():\n",
    "    available=[]\n",
    "    for i in books.items():\n",
    "        if i[1][1]==None:\n",
    "            available.append(i[0])\n",
    "    return f\"Available Books : {available}\\n\"\n",
    "\n",
    "def borrowed_book(borrower_name):\n",
    "    borrowed=[]\n",
    "    for  title,details in books.items():\n",
    "        if details[1]==borrower_name:\n",
    "            borrowed.append(title)\n",
    "    return f\"{borrower_name} borrowed : {borrowed}!\"\n",
    "\n",
    "def book():\n",
    "  find=set()\n",
    "  for i in books:\n",
    "    find.add(i)\n",
    "  return f\"\\nDictionary contains no duplicate keys : {find}\"\n",
    "\n",
    "books={\"The Great Gatsby\": (\"F. Scott Fitzgerald\", None),\n",
    "    \"1984\": (\"George Orwell\", \"John Doe\"),\n",
    "    \"To Kill a Mockingbird\": (\"Harper Lee\", None),\n",
    "    \"Moby Dick\": (\"Herman Melville\", \"Jane Smith\"),\n",
    "    \"Pride and Prejudice\": (\"Jane Austen\", None)}\n",
    "print(available_book())\n",
    "print(borrowed_book(\"John Doe\"))\n",
    "print(book())"
   ]
  }
 ],
 "metadata": {
  "kernelspec": {
   "display_name": "Python 3 (ipykernel)",
   "language": "python",
   "name": "python3"
  },
  "language_info": {
   "codemirror_mode": {
    "name": "ipython",
    "version": 3
   },
   "file_extension": ".py",
   "mimetype": "text/x-python",
   "name": "python",
   "nbconvert_exporter": "python",
   "pygments_lexer": "ipython3",
   "version": "3.10.11"
  }
 },
 "nbformat": 4,
 "nbformat_minor": 5
}
