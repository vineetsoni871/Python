{
 "cells": [
  {
   "cell_type": "code",
   "execution_count": 1,
   "id": "899b87cd-e3d2-4a75-a815-5d26277a1075",
   "metadata": {},
   "outputs": [
    {
     "name": "stdout",
     "output_type": "stream",
     "text": [
      "Buddy says Woof!\n",
      "Golden Retreiver this is breed\n",
      "Max says Woof!\n",
      "Labrador this is breed\n"
     ]
    }
   ],
   "source": [
    "# Example with self\n",
    "class Dog:\n",
    "    def __init__(self,name,breed):  #constructor with 'self'\n",
    "        self.name=name # 'self.name' binds to the instance attribute\n",
    "        self.breed = breed\n",
    "    \n",
    "    def bark(self):\n",
    "        print(f\"{self.name} says Woof!\")\n",
    "        print(f\"{self.breed} this is breed\")\n",
    "\n",
    "dog1=Dog(\"Buddy\" , \"Golden Retreiver\")\n",
    "dog2= Dog(\"Max\", \"Labrador\")\n",
    "\n",
    "# Access attributes and methods\n",
    "dog1.bark()\n",
    "dog2.bark()"
   ]
  },
  {
   "cell_type": "code",
   "execution_count": 3,
   "id": "e54c5263-de3a-402d-8e15-283ed70ce457",
   "metadata": {},
   "outputs": [
    {
     "ename": "TypeError",
     "evalue": "Dog.__init__() takes 2 positional arguments but 3 were given",
     "output_type": "error",
     "traceback": [
      "\u001b[1;31m---------------------------------------------------------------------------\u001b[0m",
      "\u001b[1;31mTypeError\u001b[0m                                 Traceback (most recent call last)",
      "Cell \u001b[1;32mIn[3], line 10\u001b[0m\n\u001b[0;32m      7\u001b[0m         \u001b[38;5;28mprint\u001b[39m(\u001b[38;5;124mf\u001b[39m\u001b[38;5;124m\"\u001b[39m\u001b[38;5;132;01m{\u001b[39;00m\u001b[38;5;28mself\u001b[39m\u001b[38;5;241m.\u001b[39mbreed\u001b[38;5;132;01m}\u001b[39;00m\u001b[38;5;124m this is breed\u001b[39m\u001b[38;5;124m\"\u001b[39m)\n\u001b[0;32m      9\u001b[0m \u001b[38;5;66;03m# Create an object\u001b[39;00m\n\u001b[1;32m---> 10\u001b[0m dog1\u001b[38;5;241m=\u001b[39m\u001b[43mDog\u001b[49m\u001b[43m(\u001b[49m\u001b[38;5;124;43m\"\u001b[39;49m\u001b[38;5;124;43mBuddy\u001b[39;49m\u001b[38;5;124;43m\"\u001b[39;49m\u001b[43m \u001b[49m\u001b[43m,\u001b[49m\u001b[43m \u001b[49m\u001b[38;5;124;43m\"\u001b[39;49m\u001b[38;5;124;43mGolden Retreiver\u001b[39;49m\u001b[38;5;124;43m\"\u001b[39;49m\u001b[43m)\u001b[49m\n",
      "\u001b[1;31mTypeError\u001b[0m: Dog.__init__() takes 2 positional arguments but 3 were given"
     ]
    }
   ],
   "source": [
    "# Example without self\n",
    "\n",
    "class Dog:\n",
    "    def __init__(name,breed):  #Missing 'self'\n",
    "        name=name # this won't binds to the instance\n",
    "        breed = breed  # this won't binds to the instance\n",
    "    def bark():\n",
    "        print(f\"{self.name} says Woof!\")\n",
    "        print(f\"{self.breed} this is breed\")\n",
    "\n",
    "# Create an object\n",
    "dog1=Dog(\"Buddy\" , \"Golden Retreiver\")"
   ]
  },
  {
   "cell_type": "code",
   "execution_count": 3,
   "id": "b7f51023-65b1-48f4-9ea3-6bed001e946c",
   "metadata": {},
   "outputs": [
    {
     "name": "stdout",
     "output_type": "stream",
     "text": [
      "12\n",
      "8\n",
      "20\n",
      "5\n"
     ]
    }
   ],
   "source": [
    "# task1\n",
    "# create a calculator\n",
    "# Add methods for addition, subraction , multiplication , division\n",
    "# use self parameter to access\n",
    "\n",
    "class Calculator:\n",
    "    def __init__(self , num1, num2):\n",
    "        self.num1 = num1\n",
    "        self.num2 = num2\n",
    "    \n",
    "    def add(self):\n",
    "        return self.num1 + self.num2\n",
    "    \n",
    "    def subtract(self):\n",
    "        return self.num1 - self.num2\n",
    "\n",
    "    def multiply(self):\n",
    "        return self.num1 * self.num2\n",
    "\n",
    "    def divide(self):\n",
    "        if self.num2 !=0:\n",
    "            return self.num1 // self.num2\n",
    "        else:\n",
    "            return \"Division by zero is not allowed!\"\n",
    "calc=Calculator(10,2)\n",
    "print(calc.add())\n",
    "print(calc.subtract())\n",
    "print(calc.multiply())\n",
    "print(calc.divide())"
   ]
  },
  {
   "cell_type": "code",
   "execution_count": 4,
   "id": "c1d2ffc5-492a-4eae-bd5f-3529e2a5ffd0",
   "metadata": {},
   "outputs": [
    {
     "ename": "SyntaxError",
     "evalue": "incomplete input (3645790156.py, line 15)",
     "output_type": "error",
     "traceback": [
      "\u001b[1;36m  Cell \u001b[1;32mIn[4], line 15\u001b[1;36m\u001b[0m\n\u001b[1;33m    \u001b[0m\n\u001b[1;37m    ^\u001b[0m\n\u001b[1;31mSyntaxError\u001b[0m\u001b[1;31m:\u001b[0m incomplete input\n"
     ]
    }
   ],
   "source": [
    "# Create a Bank Account Class\n",
    "# Task: Define a BankAccount class.\n",
    "# Add attributes for acc. holder name and balance\n",
    "\n",
    "class BankAccount:\n",
    "    def __init__(self,holder_name,balance):\n",
    "        self.holder_name=holder_name\n",
    "        self.balance=balance\n",
    "\n",
    "    def depoit(self,amount):\n",
    "        self.balance+=amount\n",
    "\n",
    "    def withdraw(self,amount):\n",
    "        if amount<=self.balance:\n",
    "            "
   ]
  },
  {
   "cell_type": "code",
   "execution_count": 7,
   "id": "544ec256-a91d-4a55-b409-f2694ca5b8d0",
   "metadata": {},
   "outputs": [
    {
     "name": "stdout",
     "output_type": "stream",
     "text": [
      "Passed\n",
      "Vineet Age= 20 Marks= 50\n"
     ]
    }
   ],
   "source": [
    "class Student:\n",
    "    def __init__(self,name,age,marks):\n",
    "        self.name=name\n",
    "        self.age=age\n",
    "        self.marks=marks\n",
    "    \n",
    "    def details(self):\n",
    "        print(self.name, \"Age=\",self.age ,\"Marks=\",self.marks)\n",
    "        \n",
    "    def passed(self):\n",
    "        if(self.marks >= 40):\n",
    "            print(\"Passed\")\n",
    "        else:\n",
    "            print(\"Fail\")\n",
    "\n",
    "Info = Student(\"Vineet\", 20, 50)\n",
    "\n",
    "Info.passed()\n",
    "Info.details()"
   ]
  },
  {
   "cell_type": "code",
   "execution_count": null,
   "id": "c9c9c301-60a2-46c3-a10d-094ac4252993",
   "metadata": {},
   "outputs": [],
   "source": []
  }
 ],
 "metadata": {
  "kernelspec": {
   "display_name": "Python 3 (ipykernel)",
   "language": "python",
   "name": "python3"
  },
  "language_info": {
   "codemirror_mode": {
    "name": "ipython",
    "version": 3
   },
   "file_extension": ".py",
   "mimetype": "text/x-python",
   "name": "python",
   "nbconvert_exporter": "python",
   "pygments_lexer": "ipython3",
   "version": "3.10.11"
  }
 },
 "nbformat": 4,
 "nbformat_minor": 5
}
