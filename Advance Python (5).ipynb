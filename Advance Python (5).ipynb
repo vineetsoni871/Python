{
 "cells": [
  {
   "cell_type": "markdown",
   "id": "f3f10f50-5f9b-4ced-abf3-b7920ffd5b18",
   "metadata": {},
   "source": [
    "# OOPS: \n",
    "Its a programming paradigm based on the objects, these objects can contain data, attributes and functions.\n",
    "\n",
    "# Why we use OOPS?\n",
    "1) Reusability => Code can be reused through inheritence and classes reducing redundancy.\n",
    "2) Modularity => Programs are divided into objects making them easy to understand & maintain.\n",
    "3) Data protection => Encapsulation helps restrict access to  certain parts of an object.\n",
    "4) Flexibility => Polymorphism allows the same interface to interact with different types of objects.\n",
    "\n",
    "# Key concepts of OOPS:\n",
    "1) Class => A class is a blueprint for creating objects. It deefines a structure to hold data(attributes) & Functions(Methods) related to that object.\n",
    "2) Objects => An object is an instance of a class. It represents a specific entity created using the class blueprint.\n",
    "3) Self => Self is a reference to the current interface of the class. It allows us to access the object's attributes & methods. It must be the first parameter in instance method. When we calling a method self is passed automatically.\n",
    "4) Attributes => Attributes are variables that hold data about an object. They are defined inside a class & represent the properties & state of an object.  eg- self.name = name.\n",
    "5) Methods => Methods are functions defined inside a class that operate on the object's attributes. They define the behaviour of an object.\n",
    "\n",
    "# What happens if we not use self?\n",
    "=> If self is not used, the method will not have a way to refer to the object calling it. Python will raise an error when trying to access instance attributes/methods inside the class as they are not explicity connected to the instance."
   ]
  },
  {
   "cell_type": "code",
   "execution_count": 1,
   "id": "899b87cd-e3d2-4a75-a815-5d26277a1075",
   "metadata": {},
   "outputs": [
    {
     "name": "stdout",
     "output_type": "stream",
     "text": [
      "Buddy says Woof!\n",
      "Golden Retreiver this is breed\n",
      "Max says Woof!\n",
      "Labrador this is breed\n"
     ]
    }
   ],
   "source": [
    "# Example with self\n",
    "class Dog:\n",
    "    def __init__(self,name,breed):  #constructor with 'self'\n",
    "        self.name=name # 'self.name' binds to the instance attribute\n",
    "        self.breed = breed\n",
    "    \n",
    "    def bark(self):\n",
    "        print(f\"{self.name} says Woof!\")\n",
    "        print(f\"{self.breed} this is breed\")\n",
    "\n",
    "dog1=Dog(\"Buddy\" , \"Golden Retreiver\")\n",
    "dog2= Dog(\"Max\", \"Labrador\")\n",
    "\n",
    "# Access attributes and methods\n",
    "dog1.bark()\n",
    "dog2.bark()"
   ]
  },
  {
   "cell_type": "code",
   "execution_count": 3,
   "id": "e54c5263-de3a-402d-8e15-283ed70ce457",
   "metadata": {},
   "outputs": [
    {
     "ename": "TypeError",
     "evalue": "Dog.__init__() takes 2 positional arguments but 3 were given",
     "output_type": "error",
     "traceback": [
      "\u001b[1;31m---------------------------------------------------------------------------\u001b[0m",
      "\u001b[1;31mTypeError\u001b[0m                                 Traceback (most recent call last)",
      "Cell \u001b[1;32mIn[3], line 10\u001b[0m\n\u001b[0;32m      7\u001b[0m         \u001b[38;5;28mprint\u001b[39m(\u001b[38;5;124mf\u001b[39m\u001b[38;5;124m\"\u001b[39m\u001b[38;5;132;01m{\u001b[39;00m\u001b[38;5;28mself\u001b[39m\u001b[38;5;241m.\u001b[39mbreed\u001b[38;5;132;01m}\u001b[39;00m\u001b[38;5;124m this is breed\u001b[39m\u001b[38;5;124m\"\u001b[39m)\n\u001b[0;32m      9\u001b[0m \u001b[38;5;66;03m# Create an object\u001b[39;00m\n\u001b[1;32m---> 10\u001b[0m dog1\u001b[38;5;241m=\u001b[39m\u001b[43mDog\u001b[49m\u001b[43m(\u001b[49m\u001b[38;5;124;43m\"\u001b[39;49m\u001b[38;5;124;43mBuddy\u001b[39;49m\u001b[38;5;124;43m\"\u001b[39;49m\u001b[43m \u001b[49m\u001b[43m,\u001b[49m\u001b[43m \u001b[49m\u001b[38;5;124;43m\"\u001b[39;49m\u001b[38;5;124;43mGolden Retreiver\u001b[39;49m\u001b[38;5;124;43m\"\u001b[39;49m\u001b[43m)\u001b[49m\n",
      "\u001b[1;31mTypeError\u001b[0m: Dog.__init__() takes 2 positional arguments but 3 were given"
     ]
    }
   ],
   "source": [
    "# Example without self\n",
    "\n",
    "class Dog:\n",
    "    def __init__(name,breed):  #Missing 'self'\n",
    "        name=name # this won't binds to the instance\n",
    "        breed = breed  # this won't binds to the instance\n",
    "    def bark():\n",
    "        print(f\"{self.name} says Woof!\")\n",
    "        print(f\"{self.breed} this is breed\")\n",
    "\n",
    "# Create an object\n",
    "dog1=Dog(\"Buddy\" , \"Golden Retreiver\")"
   ]
  },
  {
   "cell_type": "markdown",
   "id": "956c3515-1e57-4786-84b6-458986150d35",
   "metadata": {},
   "source": [
    "# Task 1\n",
    "Create a Calculator class. Add methods for addition,subtraction,multiplication and division Use the self parameter to access the numbers"
   ]
  },
  {
   "cell_type": "code",
   "execution_count": 3,
   "id": "b7f51023-65b1-48f4-9ea3-6bed001e946c",
   "metadata": {},
   "outputs": [
    {
     "name": "stdout",
     "output_type": "stream",
     "text": [
      "12\n",
      "8\n",
      "20\n",
      "5\n"
     ]
    }
   ],
   "source": [
    "class Calculator:\n",
    "    def __init__(self , num1, num2):\n",
    "        self.num1 = num1\n",
    "        self.num2 = num2\n",
    "    \n",
    "    def add(self):\n",
    "        return self.num1 + self.num2\n",
    "    \n",
    "    def subtract(self):\n",
    "        return self.num1 - self.num2\n",
    "\n",
    "    def multiply(self):\n",
    "        return self.num1 * self.num2\n",
    "\n",
    "    def divide(self):\n",
    "        if self.num2 !=0:\n",
    "            return self.num1 // self.num2\n",
    "        else:\n",
    "            return \"Division by zero is not allowed!\"\n",
    "calc=Calculator(10,2)\n",
    "print(calc.add())\n",
    "print(calc.subtract())\n",
    "print(calc.multiply())\n",
    "print(calc.divide())"
   ]
  },
  {
   "cell_type": "markdown",
   "id": "a220c0c5-2014-4dad-84a3-57ba48503607",
   "metadata": {},
   "source": [
    "# Task 2\n",
    "Define a BankAccount class. Add attributes for account holder name and balance. Add methods to deposit, withdraw, and check balance."
   ]
  },
  {
   "cell_type": "code",
   "execution_count": 4,
   "id": "c1d2ffc5-492a-4eae-bd5f-3529e2a5ffd0",
   "metadata": {},
   "outputs": [],
   "source": [
    "\n",
    "class BankAccount:\n",
    "    def __init__(self,account_holder,balance):\n",
    "        self.__account_holder=account_holder  # Private Attribute\n",
    "        self.__balance=balance   #Private Attribute\n",
    "\n",
    "    #Getting For account holder\n",
    "    def get_account_holder(self):\n",
    "        return self.__account_holder\n",
    "\n",
    "    # Getting for balance\n",
    "    def get_balance(self):\n",
    "        return self.__balance\n",
    "\n",
    "    # Method to deposit money\n",
    "    def deposit(self,amount):\n",
    "        if amount>0:\n",
    "            self.__balance+=amount\n",
    "            return f\"Deposit Successful! New Balance: {self.__balance}\"\n",
    "        else:\n",
    "            return \"Invalid Deposit Amount!\"\n",
    "\n",
    "    # Method to withdraw money\n",
    "    def withdraw(self,amount):\n",
    "        if amount <= self.__balance:\n",
    "            self.balance -= amount\n",
    "            return f\"Withdrawl successful! New balance: {self.__balance}\"\n",
    "        else:\n",
    "            return \"Insufficient funds!\"\n",
    "\n",
    "    # Using the class\n",
    "    # account=BankAccount(\"Sam\", 5000)\n",
    "    # print(account.get_account_holder())\n",
    "    # print(account.get_balance())\n",
    "    # print(account.deposit(1000))\n",
    "    # print(account.withdraw(2000))\n",
    "\n",
    "    # Attempt to access private attribute directly(not alowed!!)\n",
    "    # Print "
   ]
  },
  {
   "cell_type": "markdown",
   "id": "aa1dbadf-f4a2-434d-b096-746bd96b295a",
   "metadata": {},
   "source": [
    "# Task 3\n",
    "Define a Student class with attributes like name, age, and marks. Add a method to display the student details. Add a method to check if the student passed (marks>=40)."
   ]
  },
  {
   "cell_type": "code",
   "execution_count": 7,
   "id": "544ec256-a91d-4a55-b409-f2694ca5b8d0",
   "metadata": {},
   "outputs": [
    {
     "name": "stdout",
     "output_type": "stream",
     "text": [
      "Passed\n",
      "Vineet Age= 20 Marks= 50\n"
     ]
    }
   ],
   "source": [
    "class Student:\n",
    "    def __init__(self,name,age,marks):\n",
    "        self.name=name\n",
    "        self.age=age\n",
    "        self.marks=marks\n",
    "    \n",
    "    def details(self):\n",
    "        print(self.name, \"Age=\",self.age ,\"Marks=\",self.marks)\n",
    "        \n",
    "    def passed(self):\n",
    "        if(self.marks >= 40):\n",
    "            print(\"Passed\")\n",
    "        else:\n",
    "            print(\"Fail\")\n",
    "\n",
    "Info = Student(\"Vineet\", 20, 50)\n",
    "\n",
    "Info.passed()\n",
    "Info.details()"
   ]
  },
  {
   "cell_type": "markdown",
   "id": "2d68fca9-4b04-4cb5-bd7a-7df1bd30ffd4",
   "metadata": {},
   "source": [
    "# Task 4 : Create a Library System\n",
    "Define a Book class with attributes like title, author, and availability. Add methods to check availability and borrow/return the book."
   ]
  },
  {
   "cell_type": "code",
   "execution_count": 10,
   "id": "c9c9c301-60a2-46c3-a10d-094ac4252993",
   "metadata": {},
   "outputs": [
    {
     "name": "stdin",
     "output_type": "stream",
     "text": [
      "Enter title of book: Physics\n",
      "Enter author name: HC Verma\n"
     ]
    },
    {
     "data": {
      "text/plain": [
       "'Returned Physics by HC Verma. Thanks!'"
      ]
     },
     "execution_count": 10,
     "metadata": {},
     "output_type": "execute_result"
    }
   ],
   "source": [
    "\n",
    "class Book:\n",
    "    def __init__(self,title,author):\n",
    "        self.title=title\n",
    "        self.author=author\n",
    "        self.available=True\n",
    "\n",
    "    def check_available(self):\n",
    "        return self.available\n",
    "\n",
    "    def borrow_book(self):\n",
    "        if self.available:\n",
    "            self.available=False\n",
    "            return f\"Borrowed {self.title} by {self.author}.\"\n",
    "        else:\n",
    "            return f\"Sorry! {self.title} by {self.author} is currently Unavailable.\"\n",
    "\n",
    "    def return_book(self):\n",
    "        self.available=True\n",
    "        return f\"Returned {self.title} by {self.author}. Thanks!\"\n",
    "\n",
    "title=input(\"Enter title of book:\")\n",
    "author=input(\"Enter author name:\")\n",
    "check_book=Book(title,author)\n",
    "check_book.check_available()\n",
    "check_book.borrow_book()\n",
    "check_book.return_book()"
   ]
  },
  {
   "cell_type": "markdown",
   "id": "85113cc2-b9bf-437d-baac-bad339642d7c",
   "metadata": {},
   "source": [
    "# Task 5 : Create an Employee Management System\n",
    "Define an Employee class with attributes like name, ID, and Salary. Add a method to calculate annual salary. Add a method to display employee details."
   ]
  },
  {
   "cell_type": "code",
   "execution_count": null,
   "id": "b6979d26-b5d3-42a8-8cbd-2c3e92d483e6",
   "metadata": {},
   "outputs": [],
   "source": [
    "class Employee:\n",
    "    def __init__(self,name,emp_ID,salary):\n",
    "        self.name=name\n",
    "        self.emp_ID=emp_ID\n",
    "        self.salary=salary\n",
    "    def annual_salary(self):\n",
    "        return self.salary*12\n",
    "    def employee_details(self):\n",
    "        print(f\"Employee Name is : {self.name}\")\n",
    "        print(f\"Employee ID is : {self.emp_ID}\")\n",
    "        print(f\"Monthly Salary is : {self.salary}\")\n",
    "        print(f\"Total Annual Salary is : {self.annual_salary()}\")\n",
    "name=input(\"Enter the name of the Employee :\")\n",
    "emp_ID=int(input(\"Enter the ID of the Employee :\"))\n",
    "salary=int(input(\"Enter the Monthly Salary of the employee :\"))\n",
    "Emp_details=Employee(name,emp_ID,salary)\n",
    "Emp_details.employee_details()"
   ]
  },
  {
   "cell_type": "markdown",
   "id": "c5dda265-8d25-494f-8c68-e73bafad94d0",
   "metadata": {},
   "source": [
    "# Encapsulation:\n",
    "Encapsulation refers to the bundling of data (attributes) and methods (functions) that operate on the data into a single unit.\n",
    "\n",
    "# How Encapsulation works?\n",
    "Three methods => Public, Private, and Protected\n",
    "\n",
    "1) Public Attributes - Directly Accessible\n",
    "2) Protected Attributes - Use a single underscore attributes\n",
    "3) Private Attributes - use double underscore attributes\n",
    "\n",
    "Encapsulation involves restricting direct access to some of the object attributes and methods to protect the intergrity of the data. This is typically done by making attributes private and exposing them through public methods.\n",
    "\n",
    "# Why is Encapsulation Imp ?\n",
    "1) It improves data security by restricting unauthorised access.\n",
    "2) It promoted modularity by hidding implementation details.\n",
    "3) It enables control over the data by providing controlled access through methods. It enhances code maintainability and reusability by protecting data from unintended modification.\n",
    "\n",
    "# What is diff b/w private and protected attributes?\n",
    "1) Private attributes is fully encapsulate the data and they can only be accessed within the class.\n",
    "2) Protected attributes provide partial encapsulation that indicating that they should be accessed only within the class and sub-class."
   ]
  },
  {
   "cell_type": "markdown",
   "id": "113157d5-8974-45fa-b630-67103b214e7a",
   "metadata": {},
   "source": [
    "# Bank Account:"
   ]
  },
  {
   "cell_type": "code",
   "execution_count": 1,
   "id": "f30186b2-ee6d-4d85-85a0-8c60056f7094",
   "metadata": {},
   "outputs": [
    {
     "name": "stdout",
     "output_type": "stream",
     "text": [
      "Anmol\n",
      "10000\n",
      "Deposited amount : 1000! New balance : 11000\n",
      "Withdrawn amount : 5000! Remaining balance : 6000\n"
     ]
    }
   ],
   "source": [
    "class BankAccount:\n",
    "    def __init__(self,account_holder,balance):\n",
    "        self.__account_holder=account_holder #Private Attribute\n",
    "        self.__balance=balance #Private Attribute\n",
    "\n",
    "    #Getting for account holder\n",
    "    def get_account_holder(self):\n",
    "        return self.__account_holder\n",
    "\n",
    "    # Getting for balance\n",
    "    def get_balance(self):\n",
    "        return self.__balance\n",
    "\n",
    "    #Method to deposit money\n",
    "    def deposit(self,amount):\n",
    "        if amount>0:\n",
    "            self.__balance+=amount\n",
    "            return f\"Deposited amount : {amount}! New balance : {self.__balance}\"\n",
    "        else:\n",
    "            return \"Invalid deposit amount!\"\n",
    "\n",
    "    #Method to withdraw money\n",
    "    def withdraw(self,amount):\n",
    "        if amount<=self.__balance:\n",
    "            self.__balance-=amount\n",
    "            return f\"Withdrawn amount : {amount}! Remaining balance : {self.__balance}\"\n",
    "        else:\n",
    "            return \"Insufficient Balance!\"\n",
    "\n",
    "#Usinf the class\n",
    "account=BankAccount(\"Anmol\",10000)\n",
    "print(account.get_account_holder())\n",
    "print(account.get_balance())\n",
    "print(account.deposit(1000))\n",
    "print(account.withdraw(5000))\n",
    "\n",
    "# Attempt to access private attributes directly (not allowed)\n",
    "# print(account.__balance) #Error : AttrributeError"
   ]
  },
  {
   "cell_type": "markdown",
   "id": "9168c99f-4ffd-4344-830c-ccb4c214d709",
   "metadata": {},
   "source": [
    "# Student Data:"
   ]
  },
  {
   "cell_type": "code",
   "execution_count": 7,
   "id": "3999571c-e260-4029-8991-2f0f141f01c6",
   "metadata": {},
   "outputs": [
    {
     "data": {
      "text/plain": [
       "50"
      ]
     },
     "execution_count": 7,
     "metadata": {},
     "output_type": "execute_result"
    }
   ],
   "source": [
    "class Student:\n",
    "    def __init__(self, name, grade):\n",
    "        self.name = name  # Public attribute\n",
    "        self.__grade = grade  #Private Attribute\n",
    "\n",
    "    # Getting grade\n",
    "    def get_grade(self):\n",
    "        return self.__grade\n",
    "\n",
    "    # Setting grade (with validation)\n",
    "    def set_grade(self, new_grade):\n",
    "        if 0<= new_grade <= 100:\n",
    "            self.__grade = new_grade\n",
    "            return \"Grade updated successfully!\"\n",
    "        else:\n",
    "            return \"Invalid grade! Must be between 0 to 100\"\n",
    "\n",
    "s1=Student(\"abc\",30)\n",
    "s1.get_grade()\n",
    "s1.set_grade(50)\n",
    "s1.get_grade()\n"
   ]
  },
  {
   "cell_type": "markdown",
   "id": "4e3dfc99-657b-4ff9-bacf-74cfa7eb9fa5",
   "metadata": {},
   "source": [
    "# Case Study 1: Healthcare System (Patient Record Management)\n",
    "Problem: Develop a system for managing patient records in a hospital where: Patient details (name, age, and medical history) should be private. Only authorized methods can retrieve or update medical history. Provide a method to add new medical records while keeping previous data secure."
   ]
  },
  {
   "cell_type": "code",
   "execution_count": 2,
   "id": "12bc7a02-cb23-4359-8b62-c34d5d7137fd",
   "metadata": {},
   "outputs": [
    {
     "name": "stdin",
     "output_type": "stream",
     "text": [
      "Enter the patient name : jay\n",
      "Enter the age of the patient : 33\n"
     ]
    },
    {
     "name": "stdout",
     "output_type": "stream",
     "text": [
      "Name: jay , Age : 33\n",
      "Patient medical record added successfully!\n",
      "Medical History of the patient is : ['Seaviour Migrane Pain!']\n",
      "Patient updated medical history is : ['Seaviour Migrane Pain!', 'Asthma!']\n"
     ]
    }
   ],
   "source": [
    "class HealthcareSystem:\n",
    "    def __init__(self,name,age):\n",
    "        self.__name=name\n",
    "        self.__age=age\n",
    "        self.__medical_history=[]\n",
    "\n",
    "    def get_patient_info(self):\n",
    "        return f\"Name: {self.__name} , Age : {self.__age}\"\n",
    "        \n",
    "    def patient_medical_record(self,record):\n",
    "        self.__medical_history.append(record)\n",
    "        print(\"Patient medical record added successfully!\")\n",
    "        \n",
    "    def patient_medical_history(self):\n",
    "        return self.__medical_history.copy()\n",
    "        \n",
    "    def update_patient_medical_record(self,new_record):\n",
    "        self.__medical_history.append(new_record)\n",
    "                   \n",
    "name=input(\"Enter the patient name :\")\n",
    "age=int(input(\"Enter the age of the patient :\"))\n",
    "patient=HealthcareSystem(name,age)\n",
    "print(patient.get_patient_info())\n",
    "patient.patient_medical_record(\"Seaviour Migrane Pain!\")\n",
    "print(\"Medical History of the patient is :\",patient.patient_medical_history())\n",
    "patient.update_patient_medical_record(\"Asthma!\")\n",
    "print(\"Patient updated medical history is :\",patient.patient_medical_history())"
   ]
  },
  {
   "cell_type": "markdown",
   "id": "3f75df21-dcee-44cd-b58b-884032b122ad",
   "metadata": {},
   "source": [
    "# Inheritence:\n",
    "=> It is a fundamental concept of OOPs that allow a class (child class) to inherit attribute & methods from another class (parent class). This promotes code reusability and modularity.\n",
    "\n",
    "# Code benefits:\n",
    "1) Code reusability - the child class can reuse the code in the parent class.\n",
    "2) Extensibility - the child class can add or modify functionalities of the parent class.\n",
    "3) Hiererical structure - relationship b/w classes are more organised.\n",
    "\n",
    "# Types:\n",
    "1) Single Inheritance - A child class inherit from one parent class.\n",
    "2) Multiple Inheritance - A child class inherit from two or more parent class.\n",
    "3) Multi-level Inheritance - A child class inherit from a parent class and that parent class inherit from another parent class."
   ]
  },
  {
   "cell_type": "markdown",
   "id": "8aec8b80-b921-48ae-9797-a9983f0df720",
   "metadata": {},
   "source": [
    "# Multiple Inheritence:"
   ]
  },
  {
   "cell_type": "code",
   "execution_count": 8,
   "id": "4eadacc2-87dc-4da2-9cc7-b394740400db",
   "metadata": {},
   "outputs": [
    {
     "name": "stdout",
     "output_type": "stream",
     "text": [
      "Engine started!\n",
      "Wheels are rotating.\n",
      "Car is driving\n"
     ]
    }
   ],
   "source": [
    "\n",
    "\n",
    "class Engine:  # Parent class\n",
    "    def start_engine(self):\n",
    "        print(\"Engine started!\")\n",
    "\n",
    "class Wheels:  # Parent class\n",
    "    def rotate_wheels(self):\n",
    "        print(\"Wheels are rotating.\")\n",
    "\n",
    "class Car(Engine , Wheels):  # Inheriting from engine ane wheels\n",
    "    def drive(self):\n",
    "        print(\"Car is driving\")\n",
    "\n",
    "# Usage\n",
    "my_car = Car()\n",
    "my_car.start_engine() #Method from engine\n",
    "my_car.rotate_wheels()  # Method from wheels\n",
    "my_car.drive()  # Method from car"
   ]
  },
  {
   "cell_type": "markdown",
   "id": "2238e61c-d776-4d00-9898-4012e5036e5c",
   "metadata": {},
   "source": [
    "# Multilevel Inheritence:"
   ]
  },
  {
   "cell_type": "code",
   "execution_count": 2,
   "id": "066177a9-b5e3-41e8-a924-620b165d1add",
   "metadata": {},
   "outputs": [
    {
     "name": "stdout",
     "output_type": "stream",
     "text": [
      "Animal is eating\n",
      "Dog is barking\n",
      "Puppy is weeping\n"
     ]
    }
   ],
   "source": [
    "class Animal:\n",
    "    def eat(self):\n",
    "        print(\"Animal is eating\")\n",
    "\n",
    "class Dog(Animal):   # Dog inherits from animal\n",
    "    def bark(self):\n",
    "        print(\"Dog is barking\")\n",
    "\n",
    "class Puppy(Dog):\n",
    "    def weep(self):\n",
    "        print(\"Puppy is weeping\")\n",
    "\n",
    "puppy = Puppy()\n",
    "puppy.eat()\n",
    "puppy.bark()\n",
    "puppy.weep()"
   ]
  },
  {
   "cell_type": "markdown",
   "id": "2932f24b-a110-4587-85cc-8f512093712d",
   "metadata": {},
   "source": [
    "# Class Methods:\n",
    "=> It is a method that operate on the class itself rather than an instance of the class it define using the @classmethod and takes \"cls\" (class reference) as its first parameter.\n",
    "\n",
    "# Features:\n",
    "1) it operate on the class rather than instance specific data.\n",
    "2) we can modify the class state using cls.\n",
    "3) it can be called be on both class and its object."
   ]
  },
  {
   "cell_type": "code",
   "execution_count": 10,
   "id": "891f016e-7a8a-4577-9a09-676e6f0a3492",
   "metadata": {},
   "outputs": [
    {
     "name": "stdout",
     "output_type": "stream",
     "text": [
      "Tech Solutions\n",
      "Future tech\n"
     ]
    },
    {
     "data": {
      "text/plain": [
       "'Physics'"
      ]
     },
     "execution_count": 10,
     "metadata": {},
     "output_type": "execute_result"
    }
   ],
   "source": [
    "# Class method decoator use\n",
    "\n",
    "class Employee:\n",
    "    company_name= \"Tech Solutions\"\n",
    "    def __init__(self, name, salary):\n",
    "        self.name = name\n",
    "        self.salary = salary\n",
    "\n",
    "    @classmethod\n",
    "    def change_company_name(cls, new_name):\n",
    "        cls.company_name = new_name\n",
    "\n",
    "# Usage\n",
    "emp1 = Employee(\"Sam\", 50000)\n",
    "emp2= Employee(\"Rahul\", 30000)\n",
    "emp3 = Employee(\"Sumit\", 40000)\n",
    "\n",
    "# Access the class attribute\n",
    "print(Employee.company_name)\n",
    "\n",
    "# Change the class attribute using class method\n",
    "Employee.change_company_name(\"Future tech\")\n",
    "print(Employee.company_name)\n",
    "\n",
    "emp1.company_name\n",
    "emp1.change_company_name(\"Physics\")\n",
    "emp1.company_name"
   ]
  },
  {
   "cell_type": "markdown",
   "id": "a35dec29-37ab-4c73-82dd-cf95a76ef44c",
   "metadata": {},
   "source": [
    "# Static Method:\n",
    "=> It is a method that doesen't operate on either the class or instance. It behaves like a regular function but it defined inside a class for logical grouping it is marked with @staticmethod decorator\n",
    "\n",
    "# Features:\n",
    "1) doesn't require self or cls as parameter.\n",
    "2) can't modify class or instance attributes.\n",
    "3) it is useful for utility or helper method that doesn't rely on the class or method."
   ]
  },
  {
   "cell_type": "code",
   "execution_count": 2,
   "id": "92f50dd0-75ed-4d24-a87b-31eacb6fe801",
   "metadata": {},
   "outputs": [
    {
     "name": "stdout",
     "output_type": "stream",
     "text": [
      "Name of employee is sam and role is Frontend developer\n",
      "This is great job\n"
     ]
    }
   ],
   "source": [
    "class Employee:\n",
    "    location = 'Jaipur'\n",
    "\n",
    "    def __init__(self , name , role):\n",
    "        self.name = name\n",
    "        self.role = role\n",
    "\n",
    "    def getinfo(self):\n",
    "        print(f\"Name of employee is {self.name} and role is {self.role}\")\n",
    "    @staticmethod\n",
    "    def newinfo():\n",
    "        print(f\"This is great job\")\n",
    "\n",
    "a = Employee('sam' , 'Frontend developer')\n",
    "a.getinfo()\n",
    "a.newinfo()"
   ]
  },
  {
   "cell_type": "markdown",
   "id": "4fcf9719-a5b8-4e44-93a3-ba094cfc7bd1",
   "metadata": {},
   "source": [
    "# Super Method:\n",
    "=> It is used to call a method from the parent class in the context of inheritance. It alllows us to avoid explicity refering to the parent class and makes the code more maintainable\n",
    "\n",
    "# Features:\n",
    "1) access parent class or attributes.\n",
    "2) it is useful for multi-level inheritance.\n",
    "3) it helps in avoiding code repeatation."
   ]
  },
  {
   "cell_type": "code",
   "execution_count": 5,
   "id": "509a4651-7174-4b03-b510-9b3c1fb2d398",
   "metadata": {},
   "outputs": [
    {
     "name": "stdout",
     "output_type": "stream",
     "text": [
      "Hello , I am Sam from the parent class\n",
      "I am 10 years old from the child class\n"
     ]
    }
   ],
   "source": [
    "class Parent:\n",
    "    def __init__(self,name):\n",
    "        self.name = name\n",
    "\n",
    "    def greet(self):\n",
    "        print(f\"Hello , I am {self.name} from the parent class\")\n",
    "\n",
    "class Child(Parent):\n",
    "    def __init__(self, name, age):\n",
    "        super().__init__(name)  # Call the parent's __init__ method\n",
    "        self.age = age\n",
    "\n",
    "    def greet(self):\n",
    "        super().greet()  # Call the parent's greet method\n",
    "        print(f\"I am {self.age} years old from the child class\")\n",
    "\n",
    "# Usage\n",
    "child = Child(\"Sam\" , 10)\n",
    "child.greet()"
   ]
  },
  {
   "cell_type": "markdown",
   "id": "cddb426d-6446-4b53-9775-85d36642979e",
   "metadata": {},
   "source": [
    "# Polymorphism:\n",
    "# Why we use polymorphism?\n",
    "=> It allows object of different classes to be treated as object of a common super class. It enables a single inheritance to represent different underline forms(data types). This makes the code more flexible, reuseable and easier to extend.\n",
    "\n",
    "# Key benefits of polymorphism:\n",
    "1) code reuseablity- we can write more generic code that works with objects of different types.\n",
    "2) flexiblity - new class can be added with minimal changes to existing code.\n",
    "3) readablity - it simplifies complex logic by using single method names for multiple actions.\n",
    "\n",
    "# Overriding:\n",
    "=> Overriding is a feature in OOPs where a sub-class provide a specific implementation for a method that is already defined in it's parent class. The overridden method in the sub-class will be executed instead of the one in the parent class when called on an instance of the sub-class."
   ]
  },
  {
   "cell_type": "code",
   "execution_count": 1,
   "id": "3a065697-2e04-47da-a2f0-6e8f0df53673",
   "metadata": {},
   "outputs": [
    {
     "name": "stdout",
     "output_type": "stream",
     "text": [
      "Vehicle is moving\n",
      "Car is moving on four wheels\n",
      "Bike is moving on two wheels\n"
     ]
    }
   ],
   "source": [
    "class Vehicle:\n",
    "    def move(self):\n",
    "        print(\"Vehicle is moving\")\n",
    "\n",
    "class Car(Vehicle):\n",
    "    def move(self):\n",
    "        print(\"Car is moving on four wheels\")\n",
    "\n",
    "class Bike(Vehicle):\n",
    "    def move(self):\n",
    "        print(\"Bike is moving on two wheels\")\n",
    "\n",
    "# Instances\n",
    "vehicle = Vehicle()\n",
    "car=Car()\n",
    "bike=Bike()\n",
    "\n",
    "vehicle.move()\n",
    "car.move()\n",
    "bike.move()"
   ]
  },
  {
   "cell_type": "markdown",
   "id": "50991976-50fd-4adf-bbc5-9963047bc873",
   "metadata": {},
   "source": [
    "# Overloading:\n",
    "=> Overloading allows the same function or operator to behave differently based on the number or type of arguments. It allows the same function to handle different type of inputs."
   ]
  },
  {
   "cell_type": "code",
   "execution_count": 4,
   "id": "bc5c6c0b-bd73-47c0-b9c0-52bdcb6e559b",
   "metadata": {},
   "outputs": [
    {
     "name": "stdout",
     "output_type": "stream",
     "text": [
      "Hello, Guest!\n",
      "Hello, Raj!\n"
     ]
    }
   ],
   "source": [
    "def greet(name=\"Guest\"):\n",
    "    print(f\"Hello, {name}!\")\n",
    "\n",
    "greet()\n",
    "greet(\"Raj\")"
   ]
  },
  {
   "cell_type": "markdown",
   "id": "52fd98f9-814a-4a6b-b341-c0e8dfdc7d41",
   "metadata": {},
   "source": [
    "# Recurssion in python:\n",
    "=> Recurssion in python refers to a process where a func. calls itself to solve smaller instances of the same problem. in OOPS recurssion can be used with class methods to perform repetative tasks.\n",
    "\n",
    "# Key features of recurssion:\n",
    "1) Base keys => A condition that stops the recurssion to prevent infinitive call.\n",
    "2) Recurssive case => The part where the function calls itself with a modified argument."
   ]
  },
  {
   "cell_type": "code",
   "execution_count": 6,
   "id": "19c4db13-12ae-4180-a60f-4bfa3be6f399",
   "metadata": {},
   "outputs": [
    {
     "name": "stdout",
     "output_type": "stream",
     "text": [
      "The Factorial if 5 is 120\n"
     ]
    }
   ],
   "source": [
    "# Example: Factorial calculation using recursion in OOPS.\n",
    "class FactorialCalculator:\n",
    "    def calculate_factorial(self,n):\n",
    "        # Base case: Factorial of 0 or 1 is 1\n",
    "        if n==0 or n==1:\n",
    "            return 1\n",
    "        else:\n",
    "            # recursive case\n",
    "            return n * self.calculate_factorial(n-1)\n",
    "\n",
    "calculator = FactorialCalculator()\n",
    "number=5\n",
    "result=calculator.calculate_factorial(number)\n",
    "print(f\"The Factorial if {number} is {result}\")"
   ]
  },
  {
   "cell_type": "markdown",
   "id": "ba2e7359-aeee-4274-9632-997a177f8df7",
   "metadata": {},
   "source": [
    "# Abstraction:\n",
    "=> Abstraction is a concept in OOPS that hides unnecessary details from the user and only shows the essential features of an object.\n",
    "It allows us to focus on what an object does rather than how it does it.\n",
    "Using @abstractmethod this is a decorator that defines methods in the abstract class but doesnot orivide their implementations.\n",
    "To use abstraction python's \"abc\" module is typically used."
   ]
  },
  {
   "cell_type": "code",
   "execution_count": 8,
   "id": "8a42fef6-74b5-4a2b-beda-19d34664da8a",
   "metadata": {},
   "outputs": [
    {
     "name": "stdout",
     "output_type": "stream",
     "text": [
      "Circle Area: 78.5\n",
      "Circle Perimeter: 31.400000000000002\n"
     ]
    }
   ],
   "source": [
    "from abc import ABC, abstractmethod  # 'abc' is a file name & 'ABC' is function.\n",
    "# Abstract class\n",
    "class Shape(ABC):\n",
    "    @abstractmethod\n",
    "    def area(self):\n",
    "        pass  # Abstract method, no implementation\n",
    "\n",
    "    @abstractmethod\n",
    "    def perimeter(self):\n",
    "        pass  # Abstract method, no implementation\n",
    "\n",
    "# Concrete class for Circle\n",
    "class Circle(Shape):\n",
    "    def __init__(self, radius):\n",
    "        self.radius = radius\n",
    "\n",
    "    def area(self):\n",
    "        return 3.14 * self.radius * self.radius\n",
    "\n",
    "    def perimeter(self):\n",
    "        return 2 * 3.14 * self.radius\n",
    "\n",
    "circle = Circle(5)\n",
    "print(\"Circle Area:\", circle.area())         \n",
    "print(\"Circle Perimeter:\", circle.perimeter())"
   ]
  },
  {
   "cell_type": "code",
   "execution_count": null,
   "id": "0ae447d9-821b-43c8-ba62-3e2c2df7338f",
   "metadata": {},
   "outputs": [],
   "source": []
  }
 ],
 "metadata": {
  "kernelspec": {
   "display_name": "Python 3 (ipykernel)",
   "language": "python",
   "name": "python3"
  },
  "language_info": {
   "codemirror_mode": {
    "name": "ipython",
    "version": 3
   },
   "file_extension": ".py",
   "mimetype": "text/x-python",
   "name": "python",
   "nbconvert_exporter": "python",
   "pygments_lexer": "ipython3",
   "version": "3.10.11"
  }
 },
 "nbformat": 4,
 "nbformat_minor": 5
}
