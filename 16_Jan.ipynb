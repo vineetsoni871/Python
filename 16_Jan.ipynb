{
  "nbformat": 4,
  "nbformat_minor": 0,
  "metadata": {
    "colab": {
      "provenance": [],
      "authorship_tag": "ABX9TyP22F1s3ihCW3YhAzT7Xbui",
      "include_colab_link": true
    },
    "kernelspec": {
      "name": "python3",
      "display_name": "Python 3"
    },
    "language_info": {
      "name": "python"
    }
  },
  "cells": [
    {
      "cell_type": "markdown",
      "metadata": {
        "id": "view-in-github",
        "colab_type": "text"
      },
      "source": [
        "<a href=\"https://colab.research.google.com/github/vineetsoni871/Python/blob/main/16_Jan.ipynb\" target=\"_parent\"><img src=\"https://colab.research.google.com/assets/colab-badge.svg\" alt=\"Open In Colab\"/></a>"
      ]
    },
    {
      "cell_type": "code",
      "execution_count": 2,
      "metadata": {
        "colab": {
          "base_uri": "https://localhost:8080/"
        },
        "id": "wsS4g3T9hfH1",
        "outputId": "d82e917b-0541-41c0-bd7b-05557fa7cd95"
      },
      "outputs": [
        {
          "output_type": "stream",
          "name": "stdout",
          "text": [
            "20 4\n",
            "7 5\n"
          ]
        }
      ],
      "source": [
        "# mylist=> [10,20,4,7,5,12]\n",
        "# [20,7]\n",
        "mylist= [10,20,4,7,5,12]\n",
        "\n",
        "for i in range(0,len(mylist)-1):\n",
        "    if mylist[i]>mylist[i+1]:\n",
        "      print(mylist[i],mylist[i+1])"
      ]
    },
    {
      "cell_type": "code",
      "source": [
        "mylist=[10,20,4,7,5,12]\n",
        "for i in range(0,1):\n",
        "  for j in range(i+1,len(mylist)):\n",
        "    if mylist[j]>mylist[i]:\n",
        "      temp=mylist[i]\n",
        "      mylist[i]=mylist[j]\n",
        "      mylist[j]=temp\n",
        "\n",
        "      print(mylist)"
      ],
      "metadata": {
        "colab": {
          "base_uri": "https://localhost:8080/"
        },
        "id": "0PEhRUplmkPu",
        "outputId": "27cbb829-f9ce-4b98-fd48-2117d5322265"
      },
      "execution_count": 15,
      "outputs": [
        {
          "output_type": "stream",
          "name": "stdout",
          "text": [
            "[20, 10, 4, 7, 5, 12]\n"
          ]
        }
      ]
    },
    {
      "cell_type": "code",
      "source": [
        "mylist=[10,20,4,70,500,12,850]\n",
        "maxi=mylist[0]\n",
        "for i in range(1,len(mylist)):\n",
        "  if mylist[i]>maxi:\n",
        "    maxi=mylist[i]\n",
        "print(maxi)"
      ],
      "metadata": {
        "colab": {
          "base_uri": "https://localhost:8080/"
        },
        "id": "aBYTOSZloXlg",
        "outputId": "28616e29-6078-4156-bf1e-b571d4277b49"
      },
      "execution_count": 13,
      "outputs": [
        {
          "output_type": "stream",
          "name": "stdout",
          "text": [
            "850\n"
          ]
        }
      ]
    },
    {
      "cell_type": "code",
      "source": [
        "# Find second highest\n",
        "list=[10,30,500,70,60,100]\n",
        "x=list[0]\n",
        "y=0\n",
        "for i in range(0,len(list)):\n",
        "  if list[i]>x:\n",
        "    y=x\n",
        "    x=list[i]\n",
        "  elif list[i]>y:\n",
        "    y=list[i]\n",
        "print(\"Second highest=\",y)"
      ],
      "metadata": {
        "colab": {
          "base_uri": "https://localhost:8080/"
        },
        "id": "iZ0O2QBgqMA7",
        "outputId": "9a7e7ee1-f9bc-4e01-fc7c-1c767e019d8f"
      },
      "execution_count": 17,
      "outputs": [
        {
          "output_type": "stream",
          "name": "stdout",
          "text": [
            "Second highest= 100\n"
          ]
        }
      ]
    },
    {
      "cell_type": "code",
      "source": [
        "list=[0,1,2,4,6,8,9,11]\n",
        "k=13\n",
        "for i in range(0,len(list)):\n",
        "  for j in range(i+1,len(list)):\n",
        "    if list[i]+list[j]==k:\n",
        "      print(list[i],list[j])"
      ],
      "metadata": {
        "colab": {
          "base_uri": "https://localhost:8080/"
        },
        "id": "CNNk3_C7uUtI",
        "outputId": "f0982672-7ead-43ca-96f3-64e4ede0d8fa"
      },
      "execution_count": 19,
      "outputs": [
        {
          "output_type": "stream",
          "name": "stdout",
          "text": [
            "2 11\n",
            "4 9\n"
          ]
        }
      ]
    },
    {
      "cell_type": "code",
      "source": [],
      "metadata": {
        "id": "KAFTTxAYw1MI"
      },
      "execution_count": null,
      "outputs": []
    }
  ]
}