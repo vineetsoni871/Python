{
  "nbformat": 4,
  "nbformat_minor": 0,
  "metadata": {
    "colab": {
      "provenance": [],
      "authorship_tag": "ABX9TyMvkl+fIgEtTrEPr98S2Pg9",
      "include_colab_link": true
    },
    "kernelspec": {
      "name": "python3",
      "display_name": "Python 3"
    },
    "language_info": {
      "name": "python"
    }
  },
  "cells": [
    {
      "cell_type": "markdown",
      "metadata": {
        "id": "view-in-github",
        "colab_type": "text"
      },
      "source": [
        "<a href=\"https://colab.research.google.com/github/vineetsoni871/Python/blob/main/21_Jan.ipynb\" target=\"_parent\"><img src=\"https://colab.research.google.com/assets/colab-badge.svg\" alt=\"Open In Colab\"/></a>"
      ]
    },
    {
      "cell_type": "code",
      "execution_count": 2,
      "metadata": {
        "colab": {
          "base_uri": "https://localhost:8080/"
        },
        "id": "ddDkK6QMSwW8",
        "outputId": "36415900-7208-4d87-a452-17a8706e71a4"
      },
      "outputs": [
        {
          "output_type": "stream",
          "name": "stdout",
          "text": [
            "['(']\n"
          ]
        }
      ],
      "source": [
        "# VALID PARENTHESIS\n",
        "s=\"()\"\n",
        "mylist=[]\n",
        "for char in s:\n",
        "  if char==\"(\":\n",
        "    mylist.append(char)\n",
        "print(mylist)"
      ]
    },
    {
      "cell_type": "code",
      "source": [
        "# VALID PARENTHESIS\n",
        "s=\"()\"\n",
        "mylist=[]\n",
        "for char in s:\n",
        "  if char==\"(\":\n",
        "    mylist.append(char)\n",
        "  elif (char==\")\" and \"(\" != mylist[-1]):\n",
        "    break\n",
        "print(mylist)"
      ],
      "metadata": {
        "colab": {
          "base_uri": "https://localhost:8080/"
        },
        "id": "ekn1IiHDTHD8",
        "outputId": "f27a606d-4a2e-4568-a073-fcc6e7f3931d"
      },
      "execution_count": 3,
      "outputs": [
        {
          "output_type": "stream",
          "name": "stdout",
          "text": [
            "['(']\n"
          ]
        }
      ]
    },
    {
      "cell_type": "code",
      "source": [
        "s=\"()\"\n",
        "mylist=[]\n",
        "x=0\n",
        "for char in s:\n",
        "  if char==\"(\":\n",
        "    mylist.append(char)\n",
        "  elif (char==\")\" and \"(\" != mylist[-1]):\n",
        "    x=1\n",
        "    break\n",
        "if x==0:\n",
        "  print(\"True\")\n",
        "else:\n",
        "  print(\"False\")"
      ],
      "metadata": {
        "colab": {
          "base_uri": "https://localhost:8080/"
        },
        "id": "kogaEoAnUEkj",
        "outputId": "68114f6b-4710-484b-c1ee-94953333036c"
      },
      "execution_count": 5,
      "outputs": [
        {
          "output_type": "stream",
          "name": "stdout",
          "text": [
            "True\n"
          ]
        }
      ]
    },
    {
      "cell_type": "code",
      "source": [
        "s=\"(()\"\n",
        "mylist=[]\n",
        "x=0\n",
        "for char in s:\n",
        "  if char==\"(\":\n",
        "    mylist.append(char)\n",
        "  elif (char==\")\" and \"(\" != mylist.pop()):\n",
        "    x=1\n",
        "    break\n",
        "if x==1 or len(mylist)>0:\n",
        "  print(\"Invalid\")\n",
        "else:\n",
        "  print(\"Valid\")"
      ],
      "metadata": {
        "colab": {
          "base_uri": "https://localhost:8080/"
        },
        "id": "tC2RhOiYU00Q",
        "outputId": "7e9b296f-a9ea-4fde-9d5a-06e949874a3e"
      },
      "execution_count": 8,
      "outputs": [
        {
          "output_type": "stream",
          "name": "stdout",
          "text": [
            "Invalid\n"
          ]
        }
      ]
    },
    {
      "cell_type": "code",
      "source": [
        "s=\"(()\"\n",
        "mylist=[]\n",
        "x=0\n",
        "for char in s:\n",
        "  if char==\"(\":\n",
        "    mylist.append(char)\n",
        "  elif (mylist):\n",
        "    if(char==\")\" and \"(\" !=mylist.pop()):\n",
        "      x=1\n",
        "      break\n",
        "  else:\n",
        "    x=1\n",
        "if x==1 or len(mylist)>0:\n",
        "  print(\"Invalid\")\n",
        "else:\n",
        "  print(\"Valid\")"
      ],
      "metadata": {
        "colab": {
          "base_uri": "https://localhost:8080/"
        },
        "id": "LwFb0D2bXKls",
        "outputId": "0fa842ab-fc7a-4513-f5db-d38e597f7c4f"
      },
      "execution_count": 13,
      "outputs": [
        {
          "output_type": "stream",
          "name": "stdout",
          "text": [
            "Invalid\n"
          ]
        }
      ]
    },
    {
      "cell_type": "code",
      "source": [
        "s=\"{}()\"\n",
        "mylist=[]\n",
        "x=0\n",
        "for char in s:\n",
        "  if char in\"({[\":\n",
        "    mylist.append(char)\n",
        "  elif (mylist):\n",
        "    if(char==\")\" and \"(\" !=mylist.pop()):\n",
        "      x=1\n",
        "      break\n",
        "    elif(char==\"}\" and \"{\" !=mylist.pop()):\n",
        "      x=1\n",
        "      break\n",
        "    elif(char==\"]\" and \"[\" !=mylist.pop()):\n",
        "      x=1\n",
        "      break\n",
        "  else:\n",
        "    x=1\n",
        "if x==1 or len(mylist)>0:\n",
        "  print(\"Invalid\")\n",
        "else:\n",
        "  print(\"Valid\")"
      ],
      "metadata": {
        "colab": {
          "base_uri": "https://localhost:8080/"
        },
        "id": "q30dCNBaYA7O",
        "outputId": "eedebaca-8143-4802-ad35-95c360d408a5"
      },
      "execution_count": 16,
      "outputs": [
        {
          "output_type": "stream",
          "name": "stdout",
          "text": [
            "Valid\n"
          ]
        }
      ]
    },
    {
      "cell_type": "code",
      "source": [
        "# Learning Assignment:\n",
        "# List Comprehension\n",
        "# - What is set datatype and its functions\n",
        "# Real life use cases of list , dictionary and set"
      ],
      "metadata": {
        "id": "Px_s5rbDaQpg"
      },
      "execution_count": null,
      "outputs": []
    }
  ]
}