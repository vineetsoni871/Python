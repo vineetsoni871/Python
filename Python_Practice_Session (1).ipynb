{
  "nbformat": 4,
  "nbformat_minor": 0,
  "metadata": {
    "colab": {
      "provenance": []
    },
    "kernelspec": {
      "name": "python3",
      "display_name": "Python 3"
    },
    "language_info": {
      "name": "python"
    }
  },
  "cells": [
    {
      "cell_type": "code",
      "execution_count": null,
      "metadata": {
        "colab": {
          "base_uri": "https://localhost:8080/"
        },
        "id": "EVBWnhu0fz0o",
        "outputId": "dd5d22a0-a1ae-4419-c903-8a9d5c42d474"
      },
      "outputs": [
        {
          "output_type": "stream",
          "name": "stdout",
          "text": [
            "65 \n",
            "66 67 \n",
            "68 69 70 \n"
          ]
        }
      ],
      "source": [
        "x = 65\n",
        "for i in range(0,3):\n",
        "  for j in range(0,i+1):\n",
        "    print(x,end=\" \")\n",
        "    x+=1\n",
        "  print()"
      ]
    },
    {
      "cell_type": "code",
      "source": [
        "x = 65\n",
        "for i in range(0,3):\n",
        "  for j in range(0,i+1):\n",
        "    print(chr(x),end=\" \")\n",
        "    x+=1\n",
        "  print()"
      ],
      "metadata": {
        "colab": {
          "base_uri": "https://localhost:8080/"
        },
        "id": "SXngv0NagP7K",
        "outputId": "db8b373e-f160-476c-e2a6-ea7d6c632085"
      },
      "execution_count": null,
      "outputs": [
        {
          "output_type": "stream",
          "name": "stdout",
          "text": [
            "A \n",
            "B C \n",
            "D E F \n"
          ]
        }
      ]
    },
    {
      "cell_type": "code",
      "source": [
        "for i in range(0,4):\n",
        "  for j in range(i,4):\n",
        "    print(\"*\",end=\" \")\n",
        "  print()"
      ],
      "metadata": {
        "colab": {
          "base_uri": "https://localhost:8080/"
        },
        "id": "n1VNVJw6gX4K",
        "outputId": "2b05da79-615d-4636-d1e5-37b7d9813a67"
      },
      "execution_count": null,
      "outputs": [
        {
          "output_type": "stream",
          "name": "stdout",
          "text": [
            "* * * * \n",
            "* * * \n",
            "* * \n",
            "* \n"
          ]
        }
      ]
    },
    {
      "cell_type": "code",
      "source": [
        "for i in range(0,4):\n",
        "  num=0\n",
        "  for j in range(i,4):\n",
        "    print(j,end=\" \")\n",
        "  print()"
      ],
      "metadata": {
        "colab": {
          "base_uri": "https://localhost:8080/"
        },
        "id": "EmerWjM7hP-N",
        "outputId": "56262518-1352-42d9-f2a0-1d7cbe86c3ef"
      },
      "execution_count": null,
      "outputs": [
        {
          "output_type": "stream",
          "name": "stdout",
          "text": [
            "0 1 2 3 \n",
            "1 2 3 \n",
            "2 3 \n",
            "3 \n"
          ]
        }
      ]
    },
    {
      "cell_type": "code",
      "source": [
        "num=10\n",
        "for i in range(0,5):\n",
        "  for j in range(i,5):\n",
        "    print(num,end=\" \")\n",
        "    num+=1\n",
        "  print()"
      ],
      "metadata": {
        "colab": {
          "base_uri": "https://localhost:8080/"
        },
        "id": "jjustG9Yhm7o",
        "outputId": "bdee6188-7993-4abd-cf55-3b95f06d974e"
      },
      "execution_count": null,
      "outputs": [
        {
          "output_type": "stream",
          "name": "stdout",
          "text": [
            "10 11 12 13 14 \n",
            "15 16 17 18 \n",
            "19 20 21 \n",
            "22 23 \n",
            "24 \n"
          ]
        }
      ]
    },
    {
      "cell_type": "code",
      "source": [
        "for i in range(1,5):\n",
        "  for j in range(i,5):\n",
        "    print(j,end=\" \")\n",
        "  print()"
      ],
      "metadata": {
        "colab": {
          "base_uri": "https://localhost:8080/"
        },
        "id": "DBL28eEwiHsw",
        "outputId": "41691f2e-0822-4b2f-c78e-722c7561c3dd"
      },
      "execution_count": null,
      "outputs": [
        {
          "output_type": "stream",
          "name": "stdout",
          "text": [
            "1 2 3 4 \n",
            "2 3 4 \n",
            "3 4 \n",
            "4 \n"
          ]
        }
      ]
    },
    {
      "cell_type": "code",
      "source": [
        "\n",
        "for i in range(5,0,-1):\n",
        "  for j in range(0,i):\n",
        "    if j%2==0:\n",
        "      print(1,end=\" \")\n",
        "    else:\n",
        "      print(0,end=\" \")\n",
        "\n",
        "  print()"
      ],
      "metadata": {
        "colab": {
          "base_uri": "https://localhost:8080/"
        },
        "id": "GKBFC0pciree",
        "outputId": "01b760a2-d004-40cb-e9bc-744ad9db45ea"
      },
      "execution_count": null,
      "outputs": [
        {
          "output_type": "stream",
          "name": "stdout",
          "text": [
            "1 0 1 0 1 \n",
            "1 0 1 0 \n",
            "1 0 1 \n",
            "1 0 \n",
            "1 \n"
          ]
        }
      ]
    },
    {
      "cell_type": "code",
      "source": [
        "for i in range(0,5):\n",
        "    for j in range(0,5-i):\n",
        "        print((j+1)%2,end=\" \")\n",
        "    print(\"\")\n",
        "\n",
        "# or\n",
        "\n",
        "# for i in range(0,5):\n",
        "#     for j in range(1,6-i):\n",
        "#         print(j%2,end=\" \")\n",
        "#     print(\"\")"
      ],
      "metadata": {
        "colab": {
          "base_uri": "https://localhost:8080/"
        },
        "id": "-A7aXgIPjrEH",
        "outputId": "c796ac70-cae5-41e7-bd94-c8c80f31ffe9"
      },
      "execution_count": null,
      "outputs": [
        {
          "output_type": "stream",
          "name": "stdout",
          "text": [
            "1 0 1 0 1 \n",
            "1 0 1 0 \n",
            "1 0 1 \n",
            "1 0 \n",
            "1 \n"
          ]
        }
      ]
    },
    {
      "cell_type": "code",
      "source": [
        "x = 1\n",
        "for i in range(5,0,-1):\n",
        "  for j in range(0,i):\n",
        "    if j%2==0:\n",
        "      print(x,end=\" \")\n",
        "    else:\n",
        "      print(0,end=\" \")\n",
        "  x+=1\n",
        "  print()"
      ],
      "metadata": {
        "colab": {
          "base_uri": "https://localhost:8080/"
        },
        "id": "vabI_cNvm45F",
        "outputId": "a486499b-ee88-47db-8661-ade17b35f93b"
      },
      "execution_count": null,
      "outputs": [
        {
          "output_type": "stream",
          "name": "stdout",
          "text": [
            "1 0 1 0 1 \n",
            "2 0 2 0 \n",
            "3 0 3 \n",
            "4 0 \n",
            "5 \n"
          ]
        }
      ]
    },
    {
      "cell_type": "code",
      "source": [
        "for i in range(1,5):\n",
        "  for j in range(i,4):\n",
        "    print(\"-\",end=\" \")\n",
        "  for k in range(1,i+1):\n",
        "    print(\"*\",end=\" \")\n",
        "  print()"
      ],
      "metadata": {
        "colab": {
          "base_uri": "https://localhost:8080/"
        },
        "id": "buFw705gnNs9",
        "outputId": "65c7b487-0e9e-48cd-fc23-acbe57b3ded3"
      },
      "execution_count": null,
      "outputs": [
        {
          "output_type": "stream",
          "name": "stdout",
          "text": [
            "- - - * \n",
            "- - * * \n",
            "- * * * \n",
            "* * * * \n"
          ]
        }
      ]
    },
    {
      "cell_type": "code",
      "source": [
        "for i in range(0,5):\n",
        "  for j in range(1,i+1):\n",
        "    print(\" \",end=\" \")\n",
        "  for k in range(i,5):\n",
        "    print(\"*\",end=\" \")\n",
        "  print()"
      ],
      "metadata": {
        "colab": {
          "base_uri": "https://localhost:8080/"
        },
        "id": "cz0B03y3n5PK",
        "outputId": "ed2fc615-ab44-41e9-e8d3-6cf170bfd361"
      },
      "execution_count": null,
      "outputs": [
        {
          "output_type": "stream",
          "name": "stdout",
          "text": [
            "* * * * * \n",
            "  * * * * \n",
            "    * * * \n",
            "      * * \n",
            "        * \n"
          ]
        }
      ]
    },
    {
      "cell_type": "code",
      "source": [
        "for i in range(0,5):\n",
        "  for j in range(1,i+1):\n",
        "    print(\" \",end=\" \")\n",
        "  for k in range(i,5):\n",
        "    if i==0 or k==i or k==4:\n",
        "      print(\"*\",end=\" \")\n",
        "    else:\n",
        "      print(\" \",end=\" \")\n",
        "  print()"
      ],
      "metadata": {
        "colab": {
          "base_uri": "https://localhost:8080/"
        },
        "id": "sJBa3cqKqJdN",
        "outputId": "a4c8009b-e4c9-4706-d167-44f3fe749372"
      },
      "execution_count": null,
      "outputs": [
        {
          "output_type": "stream",
          "name": "stdout",
          "text": [
            "* * * * * \n",
            "  *     * \n",
            "    *   * \n",
            "      * * \n",
            "        * \n"
          ]
        }
      ]
    },
    {
      "cell_type": "code",
      "source": [
        "x = 1\n",
        "\n",
        "for i in range(0,5):\n",
        "  for j in range(i,5):\n",
        "    if i==0 or j==4 or i==j:\n",
        "      print(x,end=\"  \")\n",
        "\n",
        "    else:\n",
        "      print(\"  \",end=\"  \")\n",
        "    x+=1\n",
        "\n",
        "  print()"
      ],
      "metadata": {
        "colab": {
          "base_uri": "https://localhost:8080/"
        },
        "id": "qoxnMA3urI1D",
        "outputId": "c39a1785-73d4-40fb-ac46-68e1555f7c74"
      },
      "execution_count": null,
      "outputs": [
        {
          "output_type": "stream",
          "name": "stdout",
          "text": [
            "1  2  3  4  5  \n",
            "6          9  \n",
            "10      12  \n",
            "13  14  \n",
            "15  \n"
          ]
        }
      ]
    },
    {
      "cell_type": "code",
      "source": [
        "for i in range(0,3):\n",
        "  for j in range(i,2):\n",
        "    print(\" \",end=\"\")\n",
        "  for k in range(0,2*i+1):\n",
        "    print(\"*\",end=\"\")\n",
        "  print()"
      ],
      "metadata": {
        "id": "IdnDE-9_v7sI",
        "colab": {
          "base_uri": "https://localhost:8080/"
        },
        "outputId": "167faff7-07fe-48a2-b74b-973631528b69"
      },
      "execution_count": null,
      "outputs": [
        {
          "output_type": "stream",
          "name": "stdout",
          "text": [
            "  *\n",
            " ***\n",
            "*****\n"
          ]
        }
      ]
    },
    {
      "cell_type": "code",
      "source": [
        "for i in range(4,0,-1):\n",
        "  for j in range(i,4):\n",
        "    print(\" \",end=\"\")\n",
        "  for k in range(0,2*i-1):\n",
        "    print(\"*\",end=\"\")\n",
        "  print()"
      ],
      "metadata": {
        "colab": {
          "base_uri": "https://localhost:8080/"
        },
        "id": "vK8t4jet-1Bm",
        "outputId": "887e9495-ce88-4df3-bcd6-6f3ac725ca5b"
      },
      "execution_count": null,
      "outputs": [
        {
          "output_type": "stream",
          "name": "stdout",
          "text": [
            "*******\n",
            " *****\n",
            "  ***\n",
            "   *\n"
          ]
        }
      ]
    },
    {
      "cell_type": "code",
      "source": [
        "list2 = [10,20,60,80,9]\n",
        "for i in range(0,len(list2)):\n",
        "  for j in range(i+1,len(list2)):\n",
        "    if list2[i]<list2[j]:\n",
        "      list2[i],list2[j]=list2[j],list2[i]\n",
        "print(\"Sorting => \",list2)"
      ],
      "metadata": {
        "colab": {
          "base_uri": "https://localhost:8080/"
        },
        "id": "ERDCFWbCFfxq",
        "outputId": "9df1ebe0-86e7-410a-e2f0-2bdfb70c35bc"
      },
      "execution_count": null,
      "outputs": [
        {
          "output_type": "stream",
          "name": "stdout",
          "text": [
            "Sorting =>  [80, 60, 20, 10, 9]\n"
          ]
        }
      ]
    },
    {
      "cell_type": "code",
      "source": [
        "prices = [7,1,5,3,6,4]\n",
        "maxi = 0\n",
        "for i in range(0,len(prices)):\n",
        "  for j in range(i+1,len(prices)):\n",
        "    if prices[j]-prices[i] > maxi:\n",
        "      maxi = prices[j]-prices[i]\n",
        "\n",
        "print(maxi)"
      ],
      "metadata": {
        "colab": {
          "base_uri": "https://localhost:8080/"
        },
        "id": "12XyU530F9zT",
        "outputId": "06147667-6463-477e-d01e-53f50411bc64"
      },
      "execution_count": null,
      "outputs": [
        {
          "output_type": "stream",
          "name": "stdout",
          "text": [
            "5\n"
          ]
        }
      ]
    },
    {
      "cell_type": "code",
      "source": [
        "# Q. Sort a list by single loop.\n",
        "# Q. Two Sum problem\n",
        "# Q. plus one\n",
        "# Q. You have been given two lists having same number of elements and you have\n",
        "# to merge both the lists by removing the duplicate elements but with a\n",
        "# single loop without zip and enamurate."
      ],
      "metadata": {
        "id": "n9j5E3puI5Hs"
      },
      "execution_count": null,
      "outputs": []
    },
    {
      "cell_type": "code",
      "source": [
        "# We have a list and sort it in decresing order with one loop\n",
        "list1=[10,20,60,80,9]\n",
        "a=0\n",
        "while(a<len(list1)-1):\n",
        "    if(list1[a]<list1[a+1]):\n",
        "        list1[a],list1[a+1]=list1[a+1],list1[a]\n",
        "        a=0\n",
        "    else:\n",
        "        a+=1\n",
        "print(list1)"
      ],
      "metadata": {
        "id": "d1p7aMIFH8SJ",
        "colab": {
          "base_uri": "https://localhost:8080/"
        },
        "outputId": "4d5cae0e-acd0-40e0-d88b-2c92c607adbb"
      },
      "execution_count": 7,
      "outputs": [
        {
          "output_type": "stream",
          "name": "stdout",
          "text": [
            "[80, 60, 20, 10, 9]\n"
          ]
        }
      ]
    },
    {
      "cell_type": "code",
      "source": [
        "# Best time to buy and sell stock with one loop\n",
        "l1=[7,1,5,3,6,4]\n",
        "a=0\n",
        "b=1\n",
        "max1=0\n",
        "while(b<len(l1)):\n",
        "    if(l1[a]<l1[b]):\n",
        "        profit=l1[b]-l1[a]\n",
        "        if(profit>max1):\n",
        "            max1=profit\n",
        "    else:\n",
        "        a=b\n",
        "    b+=1\n",
        "print(max1)"
      ],
      "metadata": {
        "colab": {
          "base_uri": "https://localhost:8080/"
        },
        "id": "Ca0YeaVqyorL",
        "outputId": "973bd27d-8d2a-4af9-aa57-43e358b19095"
      },
      "execution_count": 2,
      "outputs": [
        {
          "output_type": "stream",
          "name": "stdout",
          "text": [
            "5\n"
          ]
        }
      ]
    },
    {
      "cell_type": "code",
      "source": [
        "# two sum problem\n",
        "nums = [2,7,11,15]\n",
        "target = 9\n",
        "for i in range(0,len(nums)):\n",
        "    for j in range(i+1,len(nums)):\n",
        "        if(nums[i]+nums[j]==target):\n",
        "            print(\"Index position : \",i,j)\n",
        "            print(\"Elements :\",nums[i],nums[j])"
      ],
      "metadata": {
        "colab": {
          "base_uri": "https://localhost:8080/"
        },
        "id": "khjE_EStzu3R",
        "outputId": "e674881c-fe53-4e54-b0ab-03499e4c56df"
      },
      "execution_count": 3,
      "outputs": [
        {
          "output_type": "stream",
          "name": "stdout",
          "text": [
            "Index position :  0 1\n",
            "Elements : 2 7\n"
          ]
        }
      ]
    },
    {
      "cell_type": "code",
      "source": [
        "# You have been given two list and having same num of elements and have to merge both the list by removing the duplicate elements but with a single loop\n",
        "l1 = [1, 2, 3, 4, 5]\n",
        "l2 = [4, 5, 6, 7, 8]\n",
        "res=[]\n",
        "for i in l1+l2:\n",
        "    if i not in res:\n",
        "        res.append(i)\n",
        "print(res)"
      ],
      "metadata": {
        "colab": {
          "base_uri": "https://localhost:8080/"
        },
        "id": "0MiWAVXQzyP9",
        "outputId": "6e4348e0-30c3-47eb-ef79-57e0d3b6a87f"
      },
      "execution_count": 4,
      "outputs": [
        {
          "output_type": "stream",
          "name": "stdout",
          "text": [
            "[1, 2, 3, 4, 5, 6, 7, 8]\n"
          ]
        }
      ]
    },
    {
      "cell_type": "code",
      "source": [
        "# Leetcode plus 1\n",
        "digits = [1,2,3]\n",
        "str1=\"\"\n",
        "res=[]\n",
        "for i in digits:\n",
        "    str1+=str(i)\n",
        "s1=int(str1)+1\n",
        "for i in str(s1):\n",
        "    res.append(int(i))\n",
        "print(res)"
      ],
      "metadata": {
        "colab": {
          "base_uri": "https://localhost:8080/"
        },
        "id": "RPgvCVPRz1jw",
        "outputId": "eca47ef6-fba4-4813-cd7c-71eed90a3e6c"
      },
      "execution_count": 5,
      "outputs": [
        {
          "output_type": "stream",
          "name": "stdout",
          "text": [
            "[1, 2, 4]\n"
          ]
        }
      ]
    },
    {
      "cell_type": "code",
      "source": [
        "nums = [-1,0,1,2,-1,-4]\n",
        "for i in range(0,len(nums)):\n",
        "  for j in range(i+1,len(nums)):\n",
        "    for k in range(j+1,len(nums)):\n",
        "      if nums[i]+nums[j]+nums[k]==0:\n",
        "        print([nums[i],nums[j],nums[k]])"
      ],
      "metadata": {
        "colab": {
          "base_uri": "https://localhost:8080/"
        },
        "id": "siEB94zKz4VI",
        "outputId": "21a53945-5128-43ff-da85-22f101072b85"
      },
      "execution_count": 15,
      "outputs": [
        {
          "output_type": "stream",
          "name": "stdout",
          "text": [
            "[-1, 0, 1]\n",
            "[-1, 2, -1]\n",
            "[0, 1, -1]\n"
          ]
        }
      ]
    },
    {
      "cell_type": "code",
      "source": [
        "# 3 sum\n",
        "nums = [-1,0,1,2,-1,-4]\n",
        "list1=[]\n",
        "nums.sort()\n",
        "for i in range(0,len(nums)-2):\n",
        "    start=i+1\n",
        "    end=len(nums)-1\n",
        "    while(start<end):\n",
        "        if (i != start and i != end and start != end and nums[i] + nums[start] + nums[end] == 0):\n",
        "            list1.append([nums[i] , nums[start] , nums[end]])\n",
        "            start+=1\n",
        "            end-=1\n",
        "        elif(nums[i] + nums[start] + nums[end] > 0):\n",
        "            end-=1\n",
        "        else:\n",
        "            start+=1\n",
        "print(list1)"
      ],
      "metadata": {
        "colab": {
          "base_uri": "https://localhost:8080/"
        },
        "id": "__EkzZXoR3F7",
        "outputId": "797a7c44-118a-4073-e023-842dd350528f"
      },
      "execution_count": 16,
      "outputs": [
        {
          "output_type": "stream",
          "name": "stdout",
          "text": [
            "[[-1, -1, 2], [-1, 0, 1], [-1, 0, 1]]\n"
          ]
        }
      ]
    },
    {
      "cell_type": "code",
      "source": [
        "# [10,25,14,6,8,1,78,521,8,654,1,2,521]\n",
        "# Find second highest value\n",
        "# k highest\n",
        "\n",
        "# Find second highest value\n",
        "# k highest\n",
        "\n",
        "\n",
        "\n",
        "list2 = [1,1,2,3,4,5,45,3,5,3,5,4,3,21,1]\n",
        "list2.sort()\n",
        "print(list2)\n",
        "start=0\n",
        "while(start<len(list2)-1):\n",
        "  if list2[start]==list2[start+1]:\n",
        "    list2.remove(list2[start+1])\n",
        "  else:\n",
        "    start+=1\n",
        "print(list2)\n",
        "k = int( input ( \" enter k highest valueee: \"))\n",
        "if k> len(list2):\n",
        "  print(\" enter in range list \")\n",
        "else:\n",
        "  print(\"The \",k,\"highest value is \",list2[-k])"
      ],
      "metadata": {
        "colab": {
          "base_uri": "https://localhost:8080/"
        },
        "id": "bIUm91PWJ_OS",
        "outputId": "59db6018-40c9-4643-f7dd-6d40df2df565"
      },
      "execution_count": 1,
      "outputs": [
        {
          "output_type": "stream",
          "name": "stdout",
          "text": [
            "[1, 1, 1, 2, 3, 3, 3, 3, 4, 4, 5, 5, 5, 21, 45]\n",
            "[1, 2, 3, 4, 5, 21, 45]\n",
            " enter k highest valueee: 2\n",
            "The  2 highest value is  21\n"
          ]
        }
      ]
    },
    {
      "cell_type": "code",
      "source": [
        "# Dictionary list and set comprehension"
      ],
      "metadata": {
        "id": "8HbnweadR8vu"
      },
      "execution_count": null,
      "outputs": []
    },
    {
      "cell_type": "code",
      "source": [
        "list1 = [x for x in range(10) if x%2==0]\n",
        "list1"
      ],
      "metadata": {
        "colab": {
          "base_uri": "https://localhost:8080/"
        },
        "id": "HX489SsuN5tx",
        "outputId": "d317e9f7-5995-4db7-80f2-199a6dc4204d"
      },
      "execution_count": 2,
      "outputs": [
        {
          "output_type": "execute_result",
          "data": {
            "text/plain": [
              "[0, 2, 4, 6, 8]"
            ]
          },
          "metadata": {},
          "execution_count": 2
        }
      ]
    },
    {
      "cell_type": "code",
      "source": [
        "set1 = {x for x in range(10) if x%2==0}\n",
        "set1"
      ],
      "metadata": {
        "colab": {
          "base_uri": "https://localhost:8080/"
        },
        "id": "rX0mQeecOBLv",
        "outputId": "f7624383-1bf4-42a9-dd5a-7ec79c627503"
      },
      "execution_count": 3,
      "outputs": [
        {
          "output_type": "execute_result",
          "data": {
            "text/plain": [
              "{0, 2, 4, 6, 8}"
            ]
          },
          "metadata": {},
          "execution_count": 3
        }
      ]
    },
    {
      "cell_type": "code",
      "source": [
        "dict1 = {x:x**2 for x in range(10)}\n",
        "dict1"
      ],
      "metadata": {
        "colab": {
          "base_uri": "https://localhost:8080/"
        },
        "id": "L_zQRiH9OH-c",
        "outputId": "56d691f1-0d72-4221-a548-81a454fef8b5"
      },
      "execution_count": 4,
      "outputs": [
        {
          "output_type": "execute_result",
          "data": {
            "text/plain": [
              "{0: 0, 1: 1, 2: 4, 3: 9, 4: 16, 5: 25, 6: 36, 7: 49, 8: 64, 9: 81}"
            ]
          },
          "metadata": {},
          "execution_count": 4
        }
      ]
    },
    {
      "cell_type": "code",
      "source": [],
      "metadata": {
        "id": "uOyF5z3hOP5-"
      },
      "execution_count": null,
      "outputs": []
    }
  ]
}