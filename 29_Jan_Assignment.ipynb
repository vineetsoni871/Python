{
  "nbformat": 4,
  "nbformat_minor": 0,
  "metadata": {
    "colab": {
      "provenance": [],
      "authorship_tag": "ABX9TyNpIuEX3YPfqGqZebZt6E6A",
      "include_colab_link": true
    },
    "kernelspec": {
      "name": "python3",
      "display_name": "Python 3"
    },
    "language_info": {
      "name": "python"
    }
  },
  "cells": [
    {
      "cell_type": "markdown",
      "metadata": {
        "id": "view-in-github",
        "colab_type": "text"
      },
      "source": [
        "<a href=\"https://colab.research.google.com/github/vineetsoni871/Python/blob/main/29_Jan_Assignment.ipynb\" target=\"_parent\"><img src=\"https://colab.research.google.com/assets/colab-badge.svg\" alt=\"Open In Colab\"/></a>"
      ]
    },
    {
      "cell_type": "code",
      "execution_count": 2,
      "metadata": {
        "colab": {
          "base_uri": "https://localhost:8080/"
        },
        "id": "shHxAn_H80Je",
        "outputId": "3d789c9c-8594-4df6-a441-d70450f2c6c3"
      },
      "outputs": [
        {
          "output_type": "stream",
          "name": "stdout",
          "text": [
            "Enter a number:1232\n",
            "The number isn't a palindrome!\n"
          ]
        }
      ],
      "source": [
        "#  to check whether a number is a palindrome or not\n",
        "num=int(input(\"Enter a number:\"))\n",
        "temp=num\n",
        "sum=0\n",
        "rem=0\n",
        "while num>0:\n",
        "  rem=num%10\n",
        "  sum=sum*10+rem\n",
        "  num=num//10\n",
        "if sum==temp:\n",
        "  print(\"The number is a palindrome!\")\n",
        "else:\n",
        "  print(\"The number isn't a palindrome!\")"
      ]
    },
    {
      "cell_type": "code",
      "source": [
        "# to check whether a string is a palindrome or not\n",
        "string=input(\"Enter a string:\")\n",
        "if string==string[::-1]:\n",
        "  print(\"The string is a palindrome!\")\n",
        "else:\n",
        "  print(\"The string isn't a palindrome!\")"
      ],
      "metadata": {
        "colab": {
          "base_uri": "https://localhost:8080/"
        },
        "id": "f8HCv1gp9kJq",
        "outputId": "2174e823-2ca7-4827-e5b6-30c848ab1b6a"
      },
      "execution_count": 25,
      "outputs": [
        {
          "output_type": "stream",
          "name": "stdout",
          "text": [
            "Enter a string:asds\n",
            "The string isn't a palindrome!\n"
          ]
        }
      ]
    },
    {
      "cell_type": "code",
      "source": [
        "# to take a number and print all its factor\n",
        "num=int(input(\"Enter a number:\"))\n",
        "for i in range(1,num+1):\n",
        "  if num%i==0:\n",
        "    print(i)"
      ],
      "metadata": {
        "colab": {
          "base_uri": "https://localhost:8080/"
        },
        "id": "kbeGVzZ2_J_b",
        "outputId": "fc7b8025-9824-4f5f-8bb3-0bbf4c16ccfc"
      },
      "execution_count": 4,
      "outputs": [
        {
          "output_type": "stream",
          "name": "stdout",
          "text": [
            "Enter a number:26\n",
            "1\n",
            "2\n",
            "13\n",
            "26\n"
          ]
        }
      ]
    },
    {
      "cell_type": "code",
      "source": [
        "#list  =>[10,20,30,40123,123,123]\n",
        "# to check which number are more than target=70\n",
        "list1=[10,20,30,40123,123,123]\n",
        "target=70\n",
        "for i in list1:\n",
        "  if i>target:\n",
        "    print(i)"
      ],
      "metadata": {
        "colab": {
          "base_uri": "https://localhost:8080/"
        },
        "id": "eS_oyF5__kKO",
        "outputId": "ee0a0285-2460-4fec-f254-0704643d1bc2"
      },
      "execution_count": 5,
      "outputs": [
        {
          "output_type": "stream",
          "name": "stdout",
          "text": [
            "40123\n",
            "123\n",
            "123\n"
          ]
        }
      ]
    },
    {
      "cell_type": "code",
      "source": [
        "#   *\n",
        "#  * *\n",
        "# * * *\n"
      ],
      "metadata": {
        "colab": {
          "base_uri": "https://localhost:8080/"
        },
        "id": "FPl83I1nAKy4",
        "outputId": "0efe7c6c-772a-477e-abf8-6ce2de829594"
      },
      "execution_count": 33,
      "outputs": [
        {
          "output_type": "stream",
          "name": "stdout",
          "text": [
            "  * \n",
            " * * \n",
            "* * * \n"
          ]
        }
      ]
    },
    {
      "cell_type": "code",
      "source": [
        "# * * * *\n",
        "#  * * *\n",
        "#   * *\n",
        "#    *\n"
      ],
      "metadata": {
        "id": "fqq6Ldp5AY43"
      },
      "execution_count": 7,
      "outputs": []
    },
    {
      "cell_type": "code",
      "source": [
        "#list  =>[10,20,30,40123,123,123]\n",
        "# to check which two number make the value 143\n",
        "list1=[10,20,30,40123,123,123]\n",
        "for i in list1:\n",
        "  if 143-i in list1:\n",
        "    print(i,143-i)"
      ],
      "metadata": {
        "colab": {
          "base_uri": "https://localhost:8080/"
        },
        "id": "BDh7b9ReAf2a",
        "outputId": "64656890-9dbc-4016-d1f9-ea24e5d154a9"
      },
      "execution_count": 22,
      "outputs": [
        {
          "output_type": "stream",
          "name": "stdout",
          "text": [
            "20 123\n",
            "123 20\n",
            "123 20\n"
          ]
        }
      ]
    },
    {
      "cell_type": "code",
      "source": [
        "list1=[10,20,30,40123,123,123]\n",
        "for i in range(len(list1)):\n",
        "  for j in range(i+1,len(list1)):\n",
        "    if list1[i]+list1[j]==143:\n",
        "      print(list1[i],list1[j])"
      ],
      "metadata": {
        "colab": {
          "base_uri": "https://localhost:8080/"
        },
        "id": "RI6XCxJcMyYA",
        "outputId": "0613cb82-06e7-4ea9-ce43-05aa89542932"
      },
      "execution_count": 23,
      "outputs": [
        {
          "output_type": "stream",
          "name": "stdout",
          "text": [
            "20 123\n",
            "20 123\n"
          ]
        }
      ]
    },
    {
      "cell_type": "code",
      "source": [],
      "metadata": {
        "id": "5by7n4eVPJJR"
      },
      "execution_count": null,
      "outputs": []
    }
  ]
}