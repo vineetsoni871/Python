{
  "nbformat": 4,
  "nbformat_minor": 0,
  "metadata": {
    "colab": {
      "provenance": [],
      "authorship_tag": "ABX9TyN8RjvMBO7cFqDUrQQilymb",
      "include_colab_link": true
    },
    "kernelspec": {
      "name": "python3",
      "display_name": "Python 3"
    },
    "language_info": {
      "name": "python"
    }
  },
  "cells": [
    {
      "cell_type": "markdown",
      "metadata": {
        "id": "view-in-github",
        "colab_type": "text"
      },
      "source": [
        "<a href=\"https://colab.research.google.com/github/vineetsoni871/Python/blob/main/List_Questions.ipynb\" target=\"_parent\"><img src=\"https://colab.research.google.com/assets/colab-badge.svg\" alt=\"Open In Colab\"/></a>"
      ]
    },
    {
      "cell_type": "code",
      "execution_count": 9,
      "metadata": {
        "colab": {
          "base_uri": "https://localhost:8080/"
        },
        "id": "XdB-TxPGAjhn",
        "outputId": "cc40146e-9272-41db-f751-c77998edb320"
      },
      "outputs": [
        {
          "output_type": "stream",
          "name": "stdout",
          "text": [
            "[2, 4, 6, 8, 10, 12, 14, 16, 18, 20, 22, 24, 26, 28, 30, 32, 34, 36, 38, 40, 42, 44, 46, 48, 50]\n"
          ]
        }
      ],
      "source": [
        "# 1. Write a program to print the first 25 odd numbers in list\n",
        "list=[]\n",
        "for i in range(50):\n",
        "  if i%2!=0:\n",
        "\n",
        "    i+=1\n",
        "    list.append(i)\n",
        "print(list)"
      ]
    },
    {
      "cell_type": "code",
      "source": [
        "# 4. Remove empty strings from a list of strings\n",
        "mylist=[10,20,30,40,\"\",100.0]\n",
        "y=mylist.remove(\"\")\n",
        "print(mylist)"
      ],
      "metadata": {
        "colab": {
          "base_uri": "https://localhost:8080/"
        },
        "id": "UT8T4o52Fd0h",
        "outputId": "8380dfbb-c969-4769-f5b5-49323d27252f"
      },
      "execution_count": 15,
      "outputs": [
        {
          "output_type": "stream",
          "name": "stdout",
          "text": [
            "[10, 20, 30, 40, 100.0]\n"
          ]
        }
      ]
    },
    {
      "cell_type": "code",
      "source": [
        "# Pascals Triangle\n",
        "mylist=[]\n",
        "for i in range(0,5):\n",
        "  templist=[]\n",
        "  for k in range(0,i+1):\n",
        "    if(k==0 or k==i ):\n",
        "      templist.append(1)\n",
        "    else:\n",
        "      templist.append( mylist[i-1][k-1] + mylist[i-1][k] )\n",
        "  mylist.append(templist)\n",
        "\n",
        "print(mylist)"
      ],
      "metadata": {
        "colab": {
          "base_uri": "https://localhost:8080/"
        },
        "id": "fWrOD-wAMMS_",
        "outputId": "e0ee1c9e-119f-4ba1-aa26-980a296a4a34"
      },
      "execution_count": 3,
      "outputs": [
        {
          "output_type": "stream",
          "name": "stdout",
          "text": [
            "[[1], [1, 1], [1, 2, 1], [1, 3, 3, 1], [1, 4, 6, 4, 1]]\n"
          ]
        }
      ]
    },
    {
      "cell_type": "code",
      "source": [
        "# 3. Count all letters, digits, and special symbols from a given string\n",
        "# a. given-->str1 = \"P@#yn26at^&i5ve\"\n",
        "# b. expected-->Total counts of chars, digits, and symbols\n",
        "str1 = \"P@#yn26at^&i5ve\"\n",
        "char_count=0\n",
        "digit_count=0\n",
        "symbol_count=0\n",
        "for i in str1:\n",
        "  if i.isalpha():\n",
        "    char_count+=1\n",
        "  elif i.isdigit():\n",
        "    digit_count+=1\n",
        "  else:\n",
        "    symbol_count+=1\n",
        "print(\"Total counts of chars:\",char_count)\n",
        "print(\"Total counts of digits:\",digit_count)\n",
        "print(\"Total counts of symbols:\",symbol_count)"
      ],
      "metadata": {
        "colab": {
          "base_uri": "https://localhost:8080/"
        },
        "id": "HFce2ZtsUZFY",
        "outputId": "e17ca587-b7a8-4598-98b6-c95b649960e8"
      },
      "execution_count": 4,
      "outputs": [
        {
          "output_type": "stream",
          "name": "stdout",
          "text": [
            "Total counts of chars: 8\n",
            "Total counts of digits: 3\n",
            "Total counts of symbols: 4\n"
          ]
        }
      ]
    },
    {
      "cell_type": "code",
      "source": [
        "# 6. Removal all characters from a string except integers\n",
        "# a. str1 = 'I am 25 years and 10 months old'\n",
        "# b. expected-->2510\n",
        "str1 = 'I am 25 years and 10 months old'\n",
        "for i in str1:\n",
        "  if i.isdigit():\n",
        "    print(i,end=\"\")"
      ],
      "metadata": {
        "colab": {
          "base_uri": "https://localhost:8080/"
        },
        "id": "UpWQGcITWMdM",
        "outputId": "d20a9723-0442-4ffe-afab-f26cbc8ca357"
      },
      "execution_count": 5,
      "outputs": [
        {
          "output_type": "stream",
          "name": "stdout",
          "text": [
            "2510"
          ]
        }
      ]
    },
    {
      "cell_type": "code",
      "source": [
        "# 5. Remove special symbols / punctuation from a string\n"
      ],
      "metadata": {
        "id": "rC1LCKQ_Why9"
      },
      "execution_count": 6,
      "outputs": []
    },
    {
      "cell_type": "code",
      "source": [
        "# 2. Arrange string characters such that lowercase letters should come first\n"
      ],
      "metadata": {
        "id": "yjgL9scZWxm8"
      },
      "execution_count": null,
      "outputs": []
    }
  ]
}