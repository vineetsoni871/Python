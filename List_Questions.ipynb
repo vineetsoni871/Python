{
  "nbformat": 4,
  "nbformat_minor": 0,
  "metadata": {
    "colab": {
      "provenance": [],
      "authorship_tag": "ABX9TyPsj7n+aeENHwoE43H3XaR3",
      "include_colab_link": true
    },
    "kernelspec": {
      "name": "python3",
      "display_name": "Python 3"
    },
    "language_info": {
      "name": "python"
    }
  },
  "cells": [
    {
      "cell_type": "markdown",
      "metadata": {
        "id": "view-in-github",
        "colab_type": "text"
      },
      "source": [
        "<a href=\"https://colab.research.google.com/github/vineetsoni871/Python/blob/main/List_Questions.ipynb\" target=\"_parent\"><img src=\"https://colab.research.google.com/assets/colab-badge.svg\" alt=\"Open In Colab\"/></a>"
      ]
    },
    {
      "cell_type": "code",
      "execution_count": null,
      "metadata": {
        "colab": {
          "base_uri": "https://localhost:8080/"
        },
        "id": "XdB-TxPGAjhn",
        "outputId": "28b8d9f5-efa6-4658-fcb3-1c643fe59975"
      },
      "outputs": [
        {
          "output_type": "stream",
          "name": "stdout",
          "text": [
            "[1, 3, 5, 7, 9, 11, 13, 15, 17, 19, 21, 23, 25, 27, 29, 31, 33, 35, 37, 39, 41, 43, 45, 47, 49]\n"
          ]
        }
      ],
      "source": [
        "# 1. Write a program to print the first 25 odd numbers in list\n",
        "\n",
        "list=[]\n",
        "count=0\n",
        "num=1\n",
        "while count<25:\n",
        "  if num%2!=0:\n",
        "    list.append(num)\n",
        "    count+=1\n",
        "  num+=1\n",
        "print(list)"
      ]
    },
    {
      "cell_type": "code",
      "source": [
        "# 4. Remove empty strings from a list of strings\n",
        "str1=input(\"Enter the string:\")\n",
        "mylist=[]\n",
        "for i in str1:\n",
        "  if i!=\" \":\n",
        "    mylist.append(i)\n",
        "print(mylist)"
      ],
      "metadata": {
        "colab": {
          "base_uri": "https://localhost:8080/"
        },
        "id": "UT8T4o52Fd0h",
        "outputId": "247650f5-c2be-42c0-f6a3-672bab660280"
      },
      "execution_count": null,
      "outputs": [
        {
          "output_type": "stream",
          "name": "stdout",
          "text": [
            "Enter the string:vineet  soni\n",
            "['v', 'i', 'n', 'e', 'e', 't', 's', 'o', 'n', 'i']\n"
          ]
        }
      ]
    },
    {
      "cell_type": "code",
      "source": [
        "# Pascals Triangle\n",
        "mylist=[]\n",
        "for i in range(0,5):\n",
        "  templist=[]\n",
        "  for k in range(0,i+1):\n",
        "    if(k==0 or k==i ):\n",
        "      templist.append(1)\n",
        "    else:\n",
        "      templist.append( mylist[i-1][k-1] + mylist[i-1][k] )\n",
        "  mylist.append(templist)\n",
        "\n",
        "print(mylist)"
      ],
      "metadata": {
        "colab": {
          "base_uri": "https://localhost:8080/"
        },
        "id": "fWrOD-wAMMS_",
        "outputId": "e0ee1c9e-119f-4ba1-aa26-980a296a4a34"
      },
      "execution_count": null,
      "outputs": [
        {
          "output_type": "stream",
          "name": "stdout",
          "text": [
            "[[1], [1, 1], [1, 2, 1], [1, 3, 3, 1], [1, 4, 6, 4, 1]]\n"
          ]
        }
      ]
    },
    {
      "cell_type": "code",
      "source": [
        "# 3. Count all letters, digits, and special symbols from a given string\n",
        "# a. given-->str1 = \"P@#yn26at^&i5ve\"\n",
        "# b. expected-->Total counts of chars, digits, and symbols\n",
        "str1 = \"P@#yn26at^&i5ve\"\n",
        "char=[]\n",
        "charcount=0\n",
        "digit=[]\n",
        "digitcount=0\n",
        "symbol=[]\n",
        "symbolcount=0\n",
        "for i in str1:\n",
        "  if(ord(i)>=65 and ord(i)<=90) or (ord(i)>=97 and ord(i)<=122):\n",
        "    char.append(i)\n",
        "    charcount+=1\n",
        "  elif(ord(i)>=48 and ord(i)<=57):\n",
        "    digit.append(i)\n",
        "    digitcount+=1\n",
        "  else:\n",
        "    symbol.append(i)\n",
        "    symbolcount+=1\n",
        "\n",
        "print(\"Total counts of chars : \",charcount)\n",
        "print(\"Total counts of digits : \",digitcount)\n",
        "print(\"Total counts of symbols : \",symbolcount)"
      ],
      "metadata": {
        "colab": {
          "base_uri": "https://localhost:8080/"
        },
        "id": "HFce2ZtsUZFY",
        "outputId": "7eab2a39-582d-4616-b085-af6f7e732f6f"
      },
      "execution_count": null,
      "outputs": [
        {
          "output_type": "stream",
          "name": "stdout",
          "text": [
            "Total counts of chars :  8\n",
            "Total counts of digits :  3\n",
            "Total counts of symbols :  4\n"
          ]
        }
      ]
    },
    {
      "cell_type": "code",
      "source": [
        "# 6. Removal all characters from a string except integers\n",
        "# a. str1 = 'I am 25 years and 10 months old'\n",
        "# b. expected-->2510\n",
        "str1 = 'I am 25 years and 10 months old'\n",
        "str2=\"\"\n",
        "for i in str1:\n",
        "  if ord(i)>=48 and ord(i)<=57:\n",
        "    a=int(i)\n",
        "    print(a,end=\"\")\n",
        "\n"
      ],
      "metadata": {
        "colab": {
          "base_uri": "https://localhost:8080/"
        },
        "id": "UpWQGcITWMdM",
        "outputId": "af822938-2bf2-4ad9-9e41-9fab57d6c909"
      },
      "execution_count": null,
      "outputs": [
        {
          "output_type": "stream",
          "name": "stdout",
          "text": [
            "2510"
          ]
        }
      ]
    },
    {
      "cell_type": "code",
      "source": [
        "# 5. Remove special symbols / punctuation from a string\n",
        "str1=input(\"Enter the string :\")\n",
        "mylist=[]\n",
        "for i in str1:\n",
        "  mylist.append(i)\n",
        "  if(ord(i)>=33 and ord(i)<=47 or ord(i)>=58 and ord(i)<=64 or ord(i)>=91 and ord(i)<=96 or ord(i)>=123 and ord(i)<=126 ):\n",
        "    mylist.remove(i)\n",
        "print(mylist)"
      ],
      "metadata": {
        "id": "rC1LCKQ_Why9",
        "colab": {
          "base_uri": "https://localhost:8080/"
        },
        "outputId": "81599468-d4a3-4036-ca8b-253439f6ac45"
      },
      "execution_count": null,
      "outputs": [
        {
          "output_type": "stream",
          "name": "stdout",
          "text": [
            "Enter the string :Vineet@123\n",
            "['V', 'i', 'n', 'e', 'e', 't', '1', '2', '3']\n"
          ]
        }
      ]
    },
    {
      "cell_type": "code",
      "source": [
        "# 2. Arrange string characters such that lowercase letters should come first\n",
        "\n",
        "string=input(\"Enter the String : \")\n",
        "mylist=[]\n",
        "for i in string:\n",
        "  if(ord(i)>=97 and ord(i)<=123):\n",
        "    mylist.append(i)\n",
        "for i in string:\n",
        "  if(ord(i)>=65 and ord(i)<=90):\n",
        "    mylist.append(i)\n",
        "print(mylist)"
      ],
      "metadata": {
        "id": "yjgL9scZWxm8",
        "colab": {
          "base_uri": "https://localhost:8080/"
        },
        "outputId": "d0c1b412-b410-4770-8db8-80dd745e8c65"
      },
      "execution_count": null,
      "outputs": [
        {
          "output_type": "stream",
          "name": "stdout",
          "text": [
            "Enter the String : vInEeT\n",
            "['v', 'n', 'e', 'I', 'E', 'T']\n"
          ]
        }
      ]
    },
    {
      "cell_type": "code",
      "source": [
        "# 7. extract the email service provider name\n",
        "# a. emaillist=[\"KSR@datavizion.com\",\"mymail@yahoo.com\",\"milindmali@google.com\",\"snehal@health\n",
        "emaillist=[\"KSR@datavizion.com\",\"mymail@yahoo.com\",\"milindmali@google.com\",\"snehal@health\"]\n",
        "newlist=[]\n",
        "for i in range (0,len(emaillist)):\n",
        "  str1=\"\"\n",
        "  for j in range (0,len(emaillist[i])):\n",
        "    if emaillist[i][j]==\"@\":\n",
        "      for k in range (j+1,len(emaillist[i])):\n",
        "        if emaillist[i][k]==\".\":\n",
        "          break\n",
        "        else:\n",
        "          str1+=emaillist[i][k]\n",
        "      print(str1)\n",
        "      newlist.append(str1)\n",
        "print(newlist)"
      ],
      "metadata": {
        "id": "hVeOzsJkmgVC",
        "colab": {
          "base_uri": "https://localhost:8080/"
        },
        "outputId": "0144d9ea-d734-4758-811b-893ed9b6841d"
      },
      "execution_count": 2,
      "outputs": [
        {
          "output_type": "stream",
          "name": "stdout",
          "text": [
            "datavizion\n",
            "yahoo\n",
            "google\n",
            "health\n",
            "['datavizion', 'yahoo', 'google', 'health']\n"
          ]
        }
      ]
    },
    {
      "cell_type": "code",
      "source": [
        "# 8. extract all the emailid for the given string\n",
        "# a. string=\"Hi my name is Govind Das and my mail id is\n",
        "# milindmali108@gmail.com and my org\"\n",
        "# b. Output => milindmali108@gmail.com\n"
      ],
      "metadata": {
        "id": "LOJv5M2k0klh"
      },
      "execution_count": 3,
      "outputs": []
    },
    {
      "cell_type": "code",
      "source": [
        "# 9. Create a Python set such that it shows the element from both lists in a pair\n",
        "# a. first_list = [2, 3, 4, 5, 6, 7, 8]\n",
        "# b. second_list = [4, 9, 16, 25, 36, 49, 64]\n",
        "# c. Result is {(6, 36), (8, 64), (4, 16), (5, 25), (3, 9), (7, 49), (2, 4)}\n",
        "first_list = [2, 3, 4, 5, 6, 7, 8]\n",
        "second_list = [4, 9, 16, 25, 36, 49, 64]\n",
        "result=set()\n",
        "for i in range(0,len(first_list)):\n",
        "  for j in range(0,len(second_list)):\n",
        "    if([i]==[j]):\n",
        "      pair=(first_list[i],second_list[j])\n",
        "      result.add(pair)\n",
        "print(result)"
      ],
      "metadata": {
        "colab": {
          "base_uri": "https://localhost:8080/"
        },
        "id": "AZIFHjU62TpV",
        "outputId": "9edc5566-8f7a-482b-a5a9-099d54867e1b"
      },
      "execution_count": 4,
      "outputs": [
        {
          "output_type": "stream",
          "name": "stdout",
          "text": [
            "{(7, 49), (2, 4), (4, 16), (8, 64), (6, 36), (3, 9), (5, 25)}\n"
          ]
        }
      ]
    },
    {
      "cell_type": "code",
      "source": [
        "# 10. Write a program to reverse a List in Python\n",
        "# a. list = [4, 5, 6, 7, 8, 9]\n",
        "# b. Output => [9, 8, 7, 6, 5, 4]\n",
        "list1 = [4, 5, 6, 7, 8, 9]\n",
        "list2=[]\n",
        "for i in range(len(list1)-1,-1,-1):\n",
        "  list2.append(list1[i])\n",
        "print(list2)"
      ],
      "metadata": {
        "colab": {
          "base_uri": "https://localhost:8080/"
        },
        "id": "w_588ooH8fL4",
        "outputId": "67eb57df-558a-41d2-905a-a12f785a7ecf"
      },
      "execution_count": 5,
      "outputs": [
        {
          "output_type": "stream",
          "name": "stdout",
          "text": [
            "[9, 8, 7, 6, 5, 4]\n"
          ]
        }
      ]
    },
    {
      "cell_type": "code",
      "source": [
        "# 11. Write a program to clone or copy the list:\n",
        "list1 = [4, 5, 6, 7, 8, 9]\n",
        "list2=[]\n",
        "for i in range(0,len(list1)):\n",
        "  list2.append(list1[i])\n",
        "print(list1)\n",
        "print(list2)"
      ],
      "metadata": {
        "colab": {
          "base_uri": "https://localhost:8080/"
        },
        "id": "rM7m1uT4908s",
        "outputId": "5b33fd12-641d-4621-e290-a5cbc639a44d"
      },
      "execution_count": 8,
      "outputs": [
        {
          "output_type": "stream",
          "name": "stdout",
          "text": [
            "[4, 5, 6, 7, 8, 9]\n",
            "[4, 5, 6, 7, 8, 9]\n"
          ]
        }
      ]
    },
    {
      "cell_type": "code",
      "source": [
        "# 12. Write a program to get sum of number of digit in a list\n",
        "list1 = [4, 5, 6, 7, 8, 9]\n",
        "sum=0\n",
        "for i in range(0,len(list1)):\n",
        "  sum+=list1[i]\n",
        "print(sum)"
      ],
      "metadata": {
        "colab": {
          "base_uri": "https://localhost:8080/"
        },
        "id": "YtjULWrK-NT5",
        "outputId": "d0d9912f-7f42-4935-b69a-2c5d3481eee2"
      },
      "execution_count": 9,
      "outputs": [
        {
          "output_type": "stream",
          "name": "stdout",
          "text": [
            "39\n"
          ]
        }
      ]
    },
    {
      "cell_type": "code",
      "source": [
        "# 13. Write a program to get the smallest number in a list\n",
        "# Note => without using reverse(), sort() and slicing operator\n",
        "list1 = [5, 4, 6, 7, 8, 9]\n",
        "min=list1[0]\n",
        "for i in range(1,len(list1)):\n",
        "  if(list1[i]<min):\n",
        "    min=list1[i]\n",
        "print(\"The smallest Number in list is:\",min)"
      ],
      "metadata": {
        "colab": {
          "base_uri": "https://localhost:8080/"
        },
        "id": "eBAxcmxM-3te",
        "outputId": "13838fb0-cc2e-4d9e-f41f-273b2ff4dbf3"
      },
      "execution_count": 10,
      "outputs": [
        {
          "output_type": "stream",
          "name": "stdout",
          "text": [
            "The smallest Number in list is: 4\n"
          ]
        }
      ]
    },
    {
      "cell_type": "code",
      "source": [
        "# 14. Write a program to print the count of even and odd number from a list\n",
        "list1=[1,2,3,4,5,6,7,8,9,10,11,12,13,14,15,16,17,18,19]\n",
        "even_count=0\n",
        "odd_count=0\n",
        "for i in range(0,len(list1)):\n",
        "  if list1[i]%2==0:\n",
        "    even_count+=1\n",
        "  else:\n",
        "    odd_count+=1\n",
        "print(\"Count of even numbers:\",even_count)\n",
        "print(\"Count of odd numbers:\",odd_count)"
      ],
      "metadata": {
        "colab": {
          "base_uri": "https://localhost:8080/"
        },
        "id": "J79clVSuAe1E",
        "outputId": "52df157e-11d5-43e4-9856-a719a6875d06"
      },
      "execution_count": 12,
      "outputs": [
        {
          "output_type": "stream",
          "name": "stdout",
          "text": [
            "Count of even numbers: 9\n",
            "Count of odd numbers: 10\n"
          ]
        }
      ]
    },
    {
      "cell_type": "code",
      "source": [
        "# 15. Write a program to get count of unique values inside a list\n",
        "# a. input_list = [1, 2, 2, 5, 8, 4, 4, 8]\n",
        "# b. Output => 5\n",
        "list1 = [1, 2, 2, 5, 8, 4, 4, 8]\n",
        "list2=[]\n",
        "for i in list1:\n",
        "  if i not in list2:\n",
        "    list2.append(i)\n",
        "print(\"Count of unique values:\",len(list2))"
      ],
      "metadata": {
        "colab": {
          "base_uri": "https://localhost:8080/"
        },
        "id": "gReDAKr3BGTA",
        "outputId": "564f444d-2d71-4b07-9368-d845da8d0c98"
      },
      "execution_count": 14,
      "outputs": [
        {
          "output_type": "stream",
          "name": "stdout",
          "text": [
            "Count of unique values: 5\n"
          ]
        }
      ]
    }
  ]
}