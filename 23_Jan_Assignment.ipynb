{
  "nbformat": 4,
  "nbformat_minor": 0,
  "metadata": {
    "colab": {
      "provenance": [],
      "authorship_tag": "ABX9TyM+hmDa91y5+a44pVappekg",
      "include_colab_link": true
    },
    "kernelspec": {
      "name": "python3",
      "display_name": "Python 3"
    },
    "language_info": {
      "name": "python"
    }
  },
  "cells": [
    {
      "cell_type": "markdown",
      "metadata": {
        "id": "view-in-github",
        "colab_type": "text"
      },
      "source": [
        "<a href=\"https://colab.research.google.com/github/vineetsoni871/Python/blob/main/23_Jan_Assignment.ipynb\" target=\"_parent\"><img src=\"https://colab.research.google.com/assets/colab-badge.svg\" alt=\"Open In Colab\"/></a>"
      ]
    },
    {
      "cell_type": "code",
      "execution_count": 4,
      "metadata": {
        "colab": {
          "base_uri": "https://localhost:8080/"
        },
        "id": "rUBU9pj_BgvX",
        "outputId": "56adef7f-1459-4bcb-e84d-91ae4669550c"
      },
      "outputs": [
        {
          "output_type": "stream",
          "name": "stdout",
          "text": [
            "enter string to check paranthesis{(})\n",
            "invalid\n"
          ]
        }
      ],
      "source": [
        "dict1={1:\"(\", 2:\"{\", 3:\"[\", 4:\")\", 5:\"}\", 6:\"]\"}\n",
        "a=-1\n",
        "string=input(\"enter string to check paranthesis\")\n",
        "if len(string)%2==0:\n",
        "  for i in range(0,len(string)//2):\n",
        "    if string[i] == \"(\" and string[a]==dict1[4]:\n",
        "      a-=1\n",
        "    elif string[i] == \"{\" and string[a]==dict1[5]:\n",
        "      a-=1\n",
        "    elif string[i] == \"[\" and string[a]==dict1[6]:\n",
        "      a-=1\n",
        "    else:\n",
        "      print(\"invalid\")\n",
        "      break\n",
        "  else:\n",
        "    print(\"valid\")\n",
        "else:\n",
        "    print(\"invalid\")"
      ]
    },
    {
      "cell_type": "code",
      "source": [
        "dict1={\n",
        "    1000:\"M\",\n",
        "    900:\"CM\",\n",
        "    500:\"D\",\n",
        "    400:\"CD\",\n",
        "    100:\"C\",\n",
        "    90:\"XC\",\n",
        "    50:\"L\",\n",
        "    40:\"XL\",\n",
        "    10:\"X\",\n",
        "    9:\"IX\",\n",
        "    5:\"V\",\n",
        "    4:\"IV\",\n",
        "    1:\"I\"\n",
        "}\n",
        "num=int(input(\"enter number to convert\"))\n",
        "roman=\"\"\n",
        "for i in dict1.keys():\n",
        "  while num>=i:\n",
        "    roman+=dict1[i]\n",
        "    num-=i\n",
        "print(roman)"
      ],
      "metadata": {
        "colab": {
          "base_uri": "https://localhost:8080/"
        },
        "id": "2_M3nAipBrKW",
        "outputId": "d8844c1c-90b3-49ff-e4cf-a533df6f453a"
      },
      "execution_count": 6,
      "outputs": [
        {
          "output_type": "stream",
          "name": "stdout",
          "text": [
            "enter number to convert2370\n",
            "MMCCCLXX\n"
          ]
        }
      ]
    }
  ]
}