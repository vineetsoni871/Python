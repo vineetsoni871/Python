{
  "nbformat": 4,
  "nbformat_minor": 0,
  "metadata": {
    "colab": {
      "provenance": []
    },
    "kernelspec": {
      "name": "python3",
      "display_name": "Python 3"
    },
    "language_info": {
      "name": "python"
    }
  },
  "cells": [
    {
      "cell_type": "code",
      "execution_count": null,
      "metadata": {
        "colab": {
          "base_uri": "https://localhost:8080/"
        },
        "id": "X657TUzkrV2F",
        "outputId": "10bb1911-5136-48d4-d96b-45a74eb0ad4d"
      },
      "outputs": [
        {
          "output_type": "stream",
          "name": "stdout",
          "text": [
            "A\n",
            "AB\n",
            "ABC\n",
            "ABCD\n",
            "ABCDE\n"
          ]
        }
      ],
      "source": [
        "# A\n",
        "# AB\n",
        "# ABC\n",
        "# ABCD\n",
        "# ABCDE\n",
        "for i in range(1,6):\n",
        "  a=65\n",
        "  for j in range(0,i):\n",
        "    print(chr(a+j),end=\"\")\n",
        "  print()"
      ]
    },
    {
      "cell_type": "code",
      "source": [
        "a=65\n",
        "for i in range(1,6):\n",
        "  for j in range(1,i+1):\n",
        "    print(chr(a),end=\"\")\n",
        "  a+=1\n",
        "  print()"
      ],
      "metadata": {
        "colab": {
          "base_uri": "https://localhost:8080/"
        },
        "id": "mvFPadDCsYt5",
        "outputId": "5a87c8a9-f89a-448b-d9e8-b636e42d9846"
      },
      "execution_count": null,
      "outputs": [
        {
          "output_type": "stream",
          "name": "stdout",
          "text": [
            "A\n",
            "BB\n",
            "CCC\n",
            "DDDD\n",
            "EEEEE\n"
          ]
        }
      ]
    },
    {
      "cell_type": "code",
      "source": [
        "# 5\n",
        "# 4 5\n",
        "# 3 4 5\n",
        "# 2 3 4 5\n",
        "# 1 2 3 4 5\n",
        "for i in range(5,0,-1):\n",
        "  for j in range(i,6):\n",
        "    print(j,end=\" \")\n",
        "  print()"
      ],
      "metadata": {
        "colab": {
          "base_uri": "https://localhost:8080/"
        },
        "id": "W85nJJuxtlon",
        "outputId": "f07bc6d5-c267-4b13-8603-bdbefbbc904c"
      },
      "execution_count": null,
      "outputs": [
        {
          "output_type": "stream",
          "name": "stdout",
          "text": [
            "5 \n",
            "4 5 \n",
            "3 4 5 \n",
            "2 3 4 5 \n",
            "1 2 3 4 5 \n"
          ]
        }
      ]
    },
    {
      "cell_type": "code",
      "source": [
        "#         *\n",
        "#       * *\n",
        "#     * * *\n",
        "#   * * * *\n",
        "# * * * * *\n",
        "for i in range(1,6):\n",
        "  for j in range(i,5):\n",
        "    print(\" \",end=\"\")\n",
        "  for k in range(i):\n",
        "    print(\"*\",end=\"\")\n",
        "  print()"
      ],
      "metadata": {
        "colab": {
          "base_uri": "https://localhost:8080/"
        },
        "id": "F7tK5Qkjz6EO",
        "outputId": "1a9e8a8e-7c22-4424-d4f7-d0ecf3fdb6f0"
      },
      "execution_count": null,
      "outputs": [
        {
          "output_type": "stream",
          "name": "stdout",
          "text": [
            "    *\n",
            "   **\n",
            "  ***\n",
            " ****\n",
            "*****\n"
          ]
        }
      ]
    },
    {
      "cell_type": "code",
      "source": [
        "#         1\n",
        "#       1 2\n",
        "#     1 2 3\n",
        "#   1 2 3 4\n",
        "# 1 2 3 4 5\n",
        "for i in range(1,6):\n",
        "  for j in range(5,i,-1):\n",
        "    print(\" \",end=\"\")\n",
        "  for k in range(1,i+1):\n",
        "    print(k,end=\"\")\n",
        "  print()"
      ],
      "metadata": {
        "colab": {
          "base_uri": "https://localhost:8080/"
        },
        "id": "edhyVXXr1jLG",
        "outputId": "f6045765-48bc-4ec5-8c23-272652a687f6"
      },
      "execution_count": null,
      "outputs": [
        {
          "output_type": "stream",
          "name": "stdout",
          "text": [
            "    1\n",
            "   12\n",
            "  123\n",
            " 1234\n",
            "12345\n"
          ]
        }
      ]
    },
    {
      "cell_type": "code",
      "source": [
        "# 1 2 3 4 5\n",
        "#   1 2 3 4\n",
        "#     1 2 3\n",
        "#       1 2\n",
        "#         1\n",
        "for i in range(1,6):\n",
        "  z=1\n",
        "  for j in range(1,i):\n",
        "    print(\" \",end=\"\")\n",
        "  for k in range(i,6):\n",
        "    print(z,end=\"\")\n",
        "    z+=1\n",
        "  print()"
      ],
      "metadata": {
        "colab": {
          "base_uri": "https://localhost:8080/"
        },
        "id": "2da8d6QU2kP0",
        "outputId": "ed6a3bf9-540b-4763-aa2b-b4eb6fd9e72c"
      },
      "execution_count": null,
      "outputs": [
        {
          "output_type": "stream",
          "name": "stdout",
          "text": [
            "12345\n",
            " 1234\n",
            "  123\n",
            "   12\n",
            "    1\n"
          ]
        }
      ]
    },
    {
      "cell_type": "code",
      "source": [
        "# A B C D E\n",
        "#   A B C D\n",
        "#     A B C\n",
        "#       A B\n",
        "#         A\n",
        "for i in range(5,0,-1):\n",
        "  for j in range(5,i,-1):\n",
        "    print(\" \",end=\"\")\n",
        "  for k in range(i):\n",
        "    print(chr(65+k),end=\"\")\n",
        "  print()"
      ],
      "metadata": {
        "colab": {
          "base_uri": "https://localhost:8080/"
        },
        "id": "VxzGhEf73wCS",
        "outputId": "fdcd310a-8cfb-487a-bbb8-792d5d60e9c2"
      },
      "execution_count": null,
      "outputs": [
        {
          "output_type": "stream",
          "name": "stdout",
          "text": [
            "ABCDE\n",
            " ABCD\n",
            "  ABC\n",
            "   AB\n",
            "    A\n"
          ]
        }
      ]
    },
    {
      "cell_type": "code",
      "source": [
        "#     * * * * *\n",
        "#    * * * * *\n",
        "#   * * * * *\n",
        "#  * * * * *\n",
        "# * * * * *\n",
        "for i in range(1,6):\n",
        "  for j in range(5,i,-1):\n",
        "    print(\" \",end=\"\")\n",
        "  for k in range(1,6):\n",
        "    print(\"*\",end=\"\")\n",
        "  print()"
      ],
      "metadata": {
        "colab": {
          "base_uri": "https://localhost:8080/"
        },
        "id": "wsxucKEv42AY",
        "outputId": "3a4bae47-fa6d-4e57-fd2f-d330866477e0"
      },
      "execution_count": null,
      "outputs": [
        {
          "output_type": "stream",
          "name": "stdout",
          "text": [
            "    *****\n",
            "   *****\n",
            "  *****\n",
            " *****\n",
            "*****\n"
          ]
        }
      ]
    },
    {
      "cell_type": "code",
      "source": [
        "for i in range(1,6):\n",
        "  for j in range(5,i,-1):\n",
        "    print(\" \",end=\"\")\n",
        "  for k in range(1,6):\n",
        "    print(chr(65+k-1),end=\"\")\n",
        "  print()"
      ],
      "metadata": {
        "colab": {
          "base_uri": "https://localhost:8080/"
        },
        "id": "KFAKhEaG5eNt",
        "outputId": "b6c9213d-7caf-4f45-8f4e-7ff18aeb21ef"
      },
      "execution_count": null,
      "outputs": [
        {
          "output_type": "stream",
          "name": "stdout",
          "text": [
            "    ABCDE\n",
            "   ABCDE\n",
            "  ABCDE\n",
            " ABCDE\n",
            "ABCDE\n"
          ]
        }
      ]
    },
    {
      "cell_type": "code",
      "source": [
        "for i in range(1,6):\n",
        "  for j in range(5,i,-1):\n",
        "    print(\" \",end=\"\")\n",
        "  for k in range(1,6):\n",
        "    print(k,end=\"\")\n",
        "  print()"
      ],
      "metadata": {
        "colab": {
          "base_uri": "https://localhost:8080/"
        },
        "id": "e3oAf0Rp5siC",
        "outputId": "c0ec5c37-280f-4526-acb9-a092dcf604d0"
      },
      "execution_count": null,
      "outputs": [
        {
          "output_type": "stream",
          "name": "stdout",
          "text": [
            "    12345\n",
            "   12345\n",
            "  12345\n",
            " 12345\n",
            "12345\n"
          ]
        }
      ]
    },
    {
      "cell_type": "code",
      "source": [
        "for i in range(1,5):\n",
        "  for j in range(i,4):\n",
        "    print(\" \",end=\"\")\n",
        "  for k in range(1,2*i):\n",
        "    print(\"*\",end=\"\")\n",
        "  print()"
      ],
      "metadata": {
        "colab": {
          "base_uri": "https://localhost:8080/"
        },
        "id": "A7dZ30PW56-q",
        "outputId": "33ed8889-ccc1-401c-d736-bbee1af965a4"
      },
      "execution_count": null,
      "outputs": [
        {
          "output_type": "stream",
          "name": "stdout",
          "text": [
            "   *\n",
            "  ***\n",
            " *****\n",
            "*******\n"
          ]
        }
      ]
    },
    {
      "cell_type": "code",
      "source": [
        "for i in range(1,5):\n",
        "  for j in range(i,4):\n",
        "    print(\" \",end=\"\")\n",
        "  for k in range(1,2*i):\n",
        "    if k==1 or i==4 or k==(2*i)-1:\n",
        "      print(\"*\",end=\"\")\n",
        "    else:\n",
        "      print(\" \",end=\"\")\n",
        "  print()"
      ],
      "metadata": {
        "colab": {
          "base_uri": "https://localhost:8080/"
        },
        "id": "KYs3SZLcGm_F",
        "outputId": "4562845c-fb55-4601-b996-8c8ba4d96fd4"
      },
      "execution_count": null,
      "outputs": [
        {
          "output_type": "stream",
          "name": "stdout",
          "text": [
            "   *\n",
            "  * *\n",
            " *   *\n",
            "*******\n"
          ]
        }
      ]
    },
    {
      "cell_type": "code",
      "source": [
        "for i in range(4,0,-1):\n",
        "  for j in range(i,4):\n",
        "    print(\" \",end=\"\")\n",
        "  for k in range(1,2*i):\n",
        "    print(\"*\",end=\"\")\n",
        "  print()"
      ],
      "metadata": {
        "colab": {
          "base_uri": "https://localhost:8080/"
        },
        "id": "4dYCRlgdHGHJ",
        "outputId": "e2db3904-6992-47de-e493-ebfd477425c3"
      },
      "execution_count": null,
      "outputs": [
        {
          "output_type": "stream",
          "name": "stdout",
          "text": [
            "*******\n",
            " *****\n",
            "  ***\n",
            "   *\n"
          ]
        }
      ]
    },
    {
      "cell_type": "code",
      "source": [
        "# *\n",
        "# **\n",
        "# ***\n",
        "# ****\n",
        "# ***\n",
        "# **\n",
        "# *\n",
        "for i in range(1,5):\n",
        "  for j in range(1,i+1):\n",
        "    print(\"*\",end=\"\")\n",
        "  print()\n",
        "for i in range(3,0,-1):\n",
        "  for j in range(1,i+1):\n",
        "    print(\"*\",end=\"\")\n",
        "  print()"
      ],
      "metadata": {
        "colab": {
          "base_uri": "https://localhost:8080/"
        },
        "id": "i-2QHCEsHzJG",
        "outputId": "648a48ff-0788-4fd3-bab1-76422a5c1a9b"
      },
      "execution_count": null,
      "outputs": [
        {
          "output_type": "stream",
          "name": "stdout",
          "text": [
            "*\n",
            "**\n",
            "***\n",
            "****\n",
            "***\n",
            "**\n",
            "*\n"
          ]
        }
      ]
    },
    {
      "cell_type": "code",
      "source": [
        "for i in range(1,5):\n",
        "  for j in range(4,i,-1):\n",
        "    print(\" \",end=\"\")\n",
        "  for k in range(1,i+1):\n",
        "    print(\"*\",end=\"\")\n",
        "  print()\n",
        "for i in range(3,0,-1):\n",
        "  for j in range(4,i,-1):\n",
        "    print(\" \",end=\"\")\n",
        "  for k in range(1,i+1):\n",
        "    print(\"*\",end=\"\")\n",
        "  print()"
      ],
      "metadata": {
        "colab": {
          "base_uri": "https://localhost:8080/"
        },
        "id": "-Q_sPeCVIgMx",
        "outputId": "2548bf74-cd0a-47ab-ebaf-033352639076"
      },
      "execution_count": null,
      "outputs": [
        {
          "output_type": "stream",
          "name": "stdout",
          "text": [
            "   *\n",
            "  **\n",
            " ***\n",
            "****\n",
            " ***\n",
            "  **\n",
            "   *\n"
          ]
        }
      ]
    },
    {
      "cell_type": "code",
      "source": [
        "#    *\n",
        "#   ***\n",
        "#  *****\n",
        "# *******\n",
        "#  *****\n",
        "#   ***\n",
        "#    *\n",
        "for i in range(1,5):\n",
        "  for j in range(i,4):\n",
        "    print(\" \",end=\"\")\n",
        "  for k in range(1,2*i):\n",
        "    print(\"*\",end=\"\")\n",
        "  print()\n",
        "for i in range(3,0,-1):\n",
        "  for j in range(i,4):\n",
        "    print(\" \",end=\"\")\n",
        "  for k in range(1,2*i):\n",
        "    print(\"*\",end=\"\")\n",
        "  print()"
      ],
      "metadata": {
        "colab": {
          "base_uri": "https://localhost:8080/"
        },
        "id": "8YhhYFxFJjbL",
        "outputId": "3e6b906e-653c-4be0-a088-3a2bdde991ba"
      },
      "execution_count": null,
      "outputs": [
        {
          "output_type": "stream",
          "name": "stdout",
          "text": [
            "   *\n",
            "  ***\n",
            " *****\n",
            "*******\n",
            " *****\n",
            "  ***\n",
            "   *\n"
          ]
        }
      ]
    },
    {
      "cell_type": "code",
      "source": [
        "# Half Pyramid\n",
        "# 1\n",
        "# 1 2\n",
        "# 1 2 3\n",
        "# 1 2 3 4\n",
        "# 1 2 3 4 5\n",
        "for i in range(1,6):\n",
        "  for j in range(1,i+1):\n",
        "    print(j,end=\" \")\n",
        "  print()"
      ],
      "metadata": {
        "colab": {
          "base_uri": "https://localhost:8080/"
        },
        "id": "oBLG-1p3KHVc",
        "outputId": "7465a047-13bd-4857-daf7-bfb82479302d"
      },
      "execution_count": null,
      "outputs": [
        {
          "output_type": "stream",
          "name": "stdout",
          "text": [
            "1 \n",
            "1 2 \n",
            "1 2 3 \n",
            "1 2 3 4 \n",
            "1 2 3 4 5 \n"
          ]
        }
      ]
    },
    {
      "cell_type": "code",
      "source": [
        "# 1 2 3 4 5\n",
        "# 1 2 3 4\n",
        "# 1 2 3\n",
        "# 1 2\n",
        "# 1\n",
        "for i in range(5,0,-1):\n",
        "  for j in range(1,i+1):\n",
        "    print(j,end=\" \")\n",
        "  print()"
      ],
      "metadata": {
        "colab": {
          "base_uri": "https://localhost:8080/"
        },
        "id": "_mBt3KShK9ir",
        "outputId": "877a9746-bbba-4532-d3d2-9c3ae4c26938"
      },
      "execution_count": null,
      "outputs": [
        {
          "output_type": "stream",
          "name": "stdout",
          "text": [
            "1 2 3 4 5 \n",
            "1 2 3 4 \n",
            "1 2 3 \n",
            "1 2 \n",
            "1 \n"
          ]
        }
      ]
    },
    {
      "cell_type": "code",
      "source": [
        "# 1\n",
        "# 1 2\n",
        "# 1   3\n",
        "# 1     4\n",
        "# 1 2 3 4 5\n",
        "for i in range(1,6):\n",
        "  for j in range(1,i+1):\n",
        "    if j==1 or i==j or i==5:\n",
        "      print(j,end=\" \")\n",
        "    else:\n",
        "      print(\" \",end=\" \")\n",
        "  print()"
      ],
      "metadata": {
        "colab": {
          "base_uri": "https://localhost:8080/"
        },
        "id": "LZJWFrQbLHUd",
        "outputId": "a2ae1085-d06a-4303-ee47-27dc96a66b45"
      },
      "execution_count": null,
      "outputs": [
        {
          "output_type": "stream",
          "name": "stdout",
          "text": [
            "1 \n",
            "1 2 \n",
            "1   3 \n",
            "1     4 \n",
            "1 2 3 4 5 \n"
          ]
        }
      ]
    },
    {
      "cell_type": "code",
      "source": [
        "z=1\n",
        "for i in range(0,5):\n",
        "  for j in range(5,i,-1):\n",
        "    print(\" \",end=\"\")\n",
        "  for k in range(0,i+1):\n",
        "    print(z,end=\"\")\n",
        "    z+=1\n",
        "  z-=i\n",
        "  for l in range(1,i+1):\n",
        "    print(z-1,end=\"\")\n",
        "    z+=1\n",
        "  z-=i\n",
        "  print()\n"
      ],
      "metadata": {
        "colab": {
          "base_uri": "https://localhost:8080/"
        },
        "id": "LSc9COlxOCKG",
        "outputId": "5847452b-54fa-444e-f0cd-d204e96c49dc"
      },
      "execution_count": null,
      "outputs": [
        {
          "output_type": "stream",
          "name": "stdout",
          "text": [
            "     1\n",
            "    232\n",
            "   34534\n",
            "  4567456\n",
            " 567895678\n"
          ]
        }
      ]
    },
    {
      "cell_type": "code",
      "source": [
        "for i in range(1,6):\n",
        "  for j in range(i,5):\n",
        "    print(\" \",end=\"\")\n",
        "  for k in range(1,i+1):\n",
        "    if i==5  or k==1:\n",
        "      print(k,end=\" \")\n",
        "    else:\n",
        "      print(\" \",end=\"\")\n",
        "  print()\n"
      ],
      "metadata": {
        "colab": {
          "base_uri": "https://localhost:8080/"
        },
        "id": "7Ovy-MAdPa-c",
        "outputId": "e00399e9-717d-47f0-8d18-8fa7fba3f2db"
      },
      "execution_count": null,
      "outputs": [
        {
          "output_type": "stream",
          "name": "stdout",
          "text": [
            "    1 \n",
            "   1  \n",
            "  1   \n",
            " 1    \n",
            "1 2 3 4 5 \n"
          ]
        }
      ]
    },
    {
      "cell_type": "code",
      "source": [
        "# 1 2 3 4 5\n",
        "# 2     5\n",
        "# 3   5\n",
        "# 4 5\n",
        "# 5\n",
        "for i in range(1,6):\n",
        "  for j in range(i,6):\n",
        "    if i==1 or j==i or j==5:\n",
        "      print(j,end=\" \")\n",
        "    else:\n",
        "      print(\" \",end=\" \")\n",
        "  print()"
      ],
      "metadata": {
        "id": "ONkXXnWrz7RD",
        "colab": {
          "base_uri": "https://localhost:8080/"
        },
        "outputId": "a9ec35b3-770a-4a5e-8085-ba280e52ba2b"
      },
      "execution_count": null,
      "outputs": [
        {
          "output_type": "stream",
          "name": "stdout",
          "text": [
            "1 2 3 4 5 \n",
            "2     5 \n",
            "3   5 \n",
            "4 5 \n",
            "5 \n"
          ]
        }
      ]
    },
    {
      "cell_type": "code",
      "source": [
        "# *        *\n",
        "# **      **\n",
        "# ***    ***\n",
        "# ****  ****\n",
        "# **********\n",
        "# ****  ****\n",
        "# ***    ***\n",
        "# **      **\n",
        "# *        *\n",
        "for i in range(1,6):\n",
        "  for j in range(1,i+1):\n",
        "    print(\"*\",end=\"\")\n",
        "  for k in range(2*i,10):\n",
        "    print(\" \",end=\"\")\n",
        "  for l in range(1,i+1):\n",
        "    print(\"*\",end=\"\")\n",
        "  print()\n",
        "for i in range(5,1,-1):\n",
        "  for j in range(1,i):\n",
        "    print(\"*\",end=\"\")\n",
        "  for k in range(2*i,12):\n",
        "    print(\" \",end=\"\")\n",
        "  for l in range(1,i):\n",
        "    print(\"*\",end=\"\")\n",
        "  print()"
      ],
      "metadata": {
        "id": "1Xmza6fs1PKp",
        "colab": {
          "base_uri": "https://localhost:8080/"
        },
        "outputId": "d5ff1142-69bb-452b-bd11-47f1a5102903"
      },
      "execution_count": null,
      "outputs": [
        {
          "output_type": "stream",
          "name": "stdout",
          "text": [
            "*        *\n",
            "**      **\n",
            "***    ***\n",
            "****  ****\n",
            "**********\n",
            "****  ****\n",
            "***    ***\n",
            "**      **\n",
            "*        *\n"
          ]
        }
      ]
    },
    {
      "cell_type": "code",
      "source": [
        "n1=0\n",
        "n2=1\n",
        "print(\"Fibonacci Series:\")\n",
        "print(n1,end=\" \")\n",
        "print(n2,end=\" \")\n",
        "n3=0\n",
        "for i in range(1,11):\n",
        "  n3=n1+n2\n",
        "  print(n3,end=\" \")\n",
        "  n1=n2\n",
        "  n2=n3"
      ],
      "metadata": {
        "colab": {
          "base_uri": "https://localhost:8080/"
        },
        "id": "5beKn7-P40y4",
        "outputId": "16477bba-a590-4995-a4c4-b5e822bbc85a"
      },
      "execution_count": null,
      "outputs": [
        {
          "output_type": "stream",
          "name": "stdout",
          "text": [
            "Fibonacci Series:\n",
            "0 1 1 2 3 5 8 13 21 34 55 89 "
          ]
        }
      ]
    },
    {
      "cell_type": "code",
      "source": [
        "#    *\n",
        "#   ***\n",
        "#  *****\n",
        "# *******\n",
        "#  *****\n",
        "#   ***\n",
        "#    *\n",
        "for i in range(1,5):\n",
        "  for j in range(i,4):\n",
        "    print(\" \",end=\"\")\n",
        "  for k in range(1,2*i):\n",
        "    print(\"*\",end=\"\")\n",
        "  print()\n",
        "for i in range(3,0,-1):\n",
        "  for j in range(i,4):\n",
        "    print(\" \",end=\"\")\n",
        "  for k in range(1,2*i):\n",
        "    print(\"*\",end=\"\")\n",
        "  print()"
      ],
      "metadata": {
        "id": "YnWm-0x5f6d8",
        "colab": {
          "base_uri": "https://localhost:8080/"
        },
        "outputId": "57fff2ef-e4f9-43dc-d2bd-d85161fd3195"
      },
      "execution_count": null,
      "outputs": [
        {
          "output_type": "stream",
          "name": "stdout",
          "text": [
            "   *\n",
            "  ***\n",
            " *****\n",
            "*******\n",
            " *****\n",
            "  ***\n",
            "   *\n"
          ]
        }
      ]
    },
    {
      "cell_type": "code",
      "source": [
        "#     1\n",
        "#    1 2\n",
        "#   1   3\n",
        "#  1     4\n",
        "# 1 2 3 4 5\n",
        "for i in range(1,6):\n",
        "  for j in range(i,5):\n",
        "    print(\" \",end=\"\")\n",
        "  for k in range(1,i+1):\n",
        "    if i==5 or k==1 or k==i:\n",
        "      print(k,end=\" \")\n",
        "    else:\n",
        "      print(\" \",end=\" \")\n",
        "\n",
        "  print()"
      ],
      "metadata": {
        "colab": {
          "base_uri": "https://localhost:8080/"
        },
        "id": "2q-lXS6wRXt3",
        "outputId": "de2198a6-04da-4329-a598-660f5363a6ab"
      },
      "execution_count": null,
      "outputs": [
        {
          "output_type": "stream",
          "name": "stdout",
          "text": [
            "    1 \n",
            "   1 2 \n",
            "  1   3 \n",
            " 1     4 \n",
            "1 2 3 4 5 \n"
          ]
        }
      ]
    },
    {
      "cell_type": "code",
      "source": [
        "for i in range(1,6):\n",
        "  for j in range(i,6):\n",
        "    if i==1 or i==j or j==5 :\n",
        "      print(j,end=\" \")\n",
        "    else:\n",
        "      print(\" \",end=\" \")\n",
        "  print()"
      ],
      "metadata": {
        "colab": {
          "base_uri": "https://localhost:8080/"
        },
        "id": "1n_-egSOSeXC",
        "outputId": "d64d4919-033d-49a4-de79-18fdfc95560e"
      },
      "execution_count": null,
      "outputs": [
        {
          "output_type": "stream",
          "name": "stdout",
          "text": [
            "1 2 3 4 5 \n",
            "2     5 \n",
            "3   5 \n",
            "4 5 \n",
            "5 \n"
          ]
        }
      ]
    },
    {
      "cell_type": "code",
      "source": [
        "#         *\n",
        "#       * * *\n",
        "#     * * * * *\n",
        "#   * * * * * * *\n",
        "# * * * * * * * * *\n",
        "#   * * * * * * *\n",
        "#     * * * * *\n",
        "#       * * *\n",
        "#         *\n",
        "\n",
        "for i in range(1,6):\n",
        "  for j in range(i,5):\n",
        "    print(\" \",end=\" \")\n",
        "  for k in range(1,2*i):\n",
        "    print(\"*\",end=\" \")\n",
        "  print()\n",
        "for i in range(4,0,-1):\n",
        "  for j in range(i,5):\n",
        "    print(\" \",end=\" \")\n",
        "  for k in range(1,2*i):\n",
        "    print(\"*\",end=\" \")\n",
        "  print()"
      ],
      "metadata": {
        "colab": {
          "base_uri": "https://localhost:8080/"
        },
        "id": "3HnVnuKCTN6D",
        "outputId": "77fac568-6745-4247-deab-719f708a4e1c"
      },
      "execution_count": null,
      "outputs": [
        {
          "output_type": "stream",
          "name": "stdout",
          "text": [
            "        * \n",
            "      * * * \n",
            "    * * * * * \n",
            "  * * * * * * * \n",
            "* * * * * * * * * \n",
            "  * * * * * * * \n",
            "    * * * * * \n",
            "      * * * \n",
            "        * \n"
          ]
        }
      ]
    },
    {
      "cell_type": "code",
      "source": [
        "#         1\n",
        "#       1 2 3\n",
        "#     1 2 3 4 5\n",
        "#   1 2 3 4 5 6 7\n",
        "# 1 2 3 4 5 6 7 8 9\n",
        "#   1 2 3 4 5 6 7\n",
        "#     1 2 3 4 5\n",
        "#       1 2 3\n",
        "#         1\n",
        "for i in range(1,6):\n",
        "  for j in range(i,5):\n",
        "    print(\" \",end=\" \")\n",
        "  for k in range(1,2*i):\n",
        "    print(k,end=\" \")\n",
        "  print()\n",
        "for i in range(4,0,-1):\n",
        "  for j in range(i,5):\n",
        "    print(\" \",end=\" \")\n",
        "  for k in range(1,2*i):\n",
        "    print(k,end=\" \")\n",
        "  print()"
      ],
      "metadata": {
        "colab": {
          "base_uri": "https://localhost:8080/"
        },
        "id": "xohyBEKpVDfx",
        "outputId": "11911c09-c613-4b46-ff30-9c5f8b2c55fa"
      },
      "execution_count": null,
      "outputs": [
        {
          "output_type": "stream",
          "name": "stdout",
          "text": [
            "        1 \n",
            "      1 2 3 \n",
            "    1 2 3 4 5 \n",
            "  1 2 3 4 5 6 7 \n",
            "1 2 3 4 5 6 7 8 9 \n",
            "  1 2 3 4 5 6 7 \n",
            "    1 2 3 4 5 \n",
            "      1 2 3 \n",
            "        1 \n"
          ]
        }
      ]
    },
    {
      "cell_type": "code",
      "source": [
        "# 1 2 3 4 5 6 7 8 9\n",
        "#   1 2 3 4 5 6 7\n",
        "#     1 2 3 4 5\n",
        "#       1 2 3\n",
        "#         1\n",
        "#       1 2 3\n",
        "#     1 2 3 4 5\n",
        "#   1 2 3 4 5 6 7\n",
        "# 1 2 3 4 5 6 7 8 9\n",
        "for i in range(5,1,-1):\n",
        "  for j in range(i,5):\n",
        "    print(\" \",end=\" \")\n",
        "  for k in range(1,2*i):\n",
        "    print(k,end=\" \")\n",
        "  print()\n",
        "for i in range(1,6):\n",
        "  for j in range(i,5):\n",
        "    print(\" \",end=\" \")\n",
        "  for k in range(1,2*i):\n",
        "    print(k,end=\" \")\n",
        "  print()"
      ],
      "metadata": {
        "colab": {
          "base_uri": "https://localhost:8080/"
        },
        "id": "UekXn-UbV2UU",
        "outputId": "5c7c397e-f9a7-4412-93e4-f0666ce641a6"
      },
      "execution_count": null,
      "outputs": [
        {
          "output_type": "stream",
          "name": "stdout",
          "text": [
            "1 2 3 4 5 6 7 8 9 \n",
            "  1 2 3 4 5 6 7 \n",
            "    1 2 3 4 5 \n",
            "      1 2 3 \n",
            "        1 \n",
            "      1 2 3 \n",
            "    1 2 3 4 5 \n",
            "  1 2 3 4 5 6 7 \n",
            "1 2 3 4 5 6 7 8 9 \n"
          ]
        }
      ]
    },
    {
      "cell_type": "code",
      "source": [
        "# A B C D E F G H I\n",
        "#   A B C D E F G\n",
        "#     A B C D E\n",
        "#       A B C\n",
        "#         A\n",
        "#       A B C\n",
        "#     A B C D E\n",
        "#   A B C D E F G\n",
        "# A B C D E F G H I\n",
        "for i in range(5,1,-1):\n",
        "  z=65\n",
        "  for j in range(i,5):\n",
        "    print(\" \",end=\" \")\n",
        "  for k in range(1,2*i):\n",
        "    print(chr(z),end=\" \")\n",
        "    z+=1\n",
        "\n",
        "  print()\n",
        "\n",
        "for i in range(1,6):\n",
        "  z=65\n",
        "  for j in range(i,5):\n",
        "    print(\" \",end=\" \")\n",
        "  for k in range(1,2*i):\n",
        "    print(chr(z),end=\" \")\n",
        "    z+=1\n",
        "  print()"
      ],
      "metadata": {
        "colab": {
          "base_uri": "https://localhost:8080/"
        },
        "id": "2Ctk93alXH9R",
        "outputId": "1c9efb53-35f2-4c62-832b-56dd91dc5cdd"
      },
      "execution_count": null,
      "outputs": [
        {
          "output_type": "stream",
          "name": "stdout",
          "text": [
            "A B C D E F G H I \n",
            "  A B C D E F G \n",
            "    A B C D E \n",
            "      A B C \n",
            "        A \n",
            "      A B C \n",
            "    A B C D E \n",
            "  A B C D E F G \n",
            "A B C D E F G H I \n"
          ]
        }
      ]
    },
    {
      "cell_type": "code",
      "source": [
        "# *****\n",
        "# *   *\n",
        "# *   *\n",
        "# *   *\n",
        "# *****\n",
        "for i in range(1,6):\n",
        "  for j in range(1,6):\n",
        "    if i==1 or j==1 or i==5 or j==5 :\n",
        "      print(\"*\",end=\"\")\n",
        "    else:\n",
        "      print(\" \",end=\"\")\n",
        "  print()"
      ],
      "metadata": {
        "colab": {
          "base_uri": "https://localhost:8080/"
        },
        "id": "p5h0xsWXYMa8",
        "outputId": "64bebc62-e107-41ab-bca5-f86eadc0818c"
      },
      "execution_count": null,
      "outputs": [
        {
          "output_type": "stream",
          "name": "stdout",
          "text": [
            "*****\n",
            "*   *\n",
            "*   *\n",
            "*   *\n",
            "*****\n"
          ]
        }
      ]
    },
    {
      "cell_type": "code",
      "source": [
        "# 1 2 3 4 5\n",
        "# 1       5\n",
        "# 1       5\n",
        "# 1       5\n",
        "# 1 2 3 4 5\n",
        "for i in range(1,6):\n",
        "  for j in range(1,6):\n",
        "    if i==1 or j==1 or i==5 or j==5 :\n",
        "      print(j,end=\" \")\n",
        "    else:\n",
        "      print(\" \",end=\" \")\n",
        "  print()"
      ],
      "metadata": {
        "colab": {
          "base_uri": "https://localhost:8080/"
        },
        "id": "1pTvmdWaZFqh",
        "outputId": "17b953dc-42ab-4ce6-9427-63dbbaba756a"
      },
      "execution_count": null,
      "outputs": [
        {
          "output_type": "stream",
          "name": "stdout",
          "text": [
            "1 2 3 4 5 \n",
            "1       5 \n",
            "1       5 \n",
            "1       5 \n",
            "1 2 3 4 5 \n"
          ]
        }
      ]
    },
    {
      "cell_type": "code",
      "source": [
        "# A B C D E\n",
        "# A       E\n",
        "# A       E\n",
        "# A       E\n",
        "# A B C D E\n",
        "for i in range(1,6):\n",
        "  a=65\n",
        "  for j in range(1,6):\n",
        "    if i==1 or j==1 or i==5 or j==5 :\n",
        "      print(chr(a),end=\" \")\n",
        "      a+=1\n",
        "    else:\n",
        "      a+=1\n",
        "      print(\" \",end=\" \")\n",
        "\n",
        "  print()"
      ],
      "metadata": {
        "colab": {
          "base_uri": "https://localhost:8080/"
        },
        "id": "4DbuQD5MaB6Y",
        "outputId": "35d00c62-e90d-4c36-8e19-c6ac3cc87a15"
      },
      "execution_count": null,
      "outputs": [
        {
          "output_type": "stream",
          "name": "stdout",
          "text": [
            "A B C D E \n",
            "A       E \n",
            "A       E \n",
            "A       E \n",
            "A B C D E \n"
          ]
        }
      ]
    },
    {
      "cell_type": "code",
      "source": [
        "#     *\n",
        "#    * *\n",
        "#   *   *\n",
        "#  *     *\n",
        "# *       *\n",
        "#  *     *\n",
        "#   *   *\n",
        "#    * *\n",
        "#     *\n",
        "for i in range(1,6):\n",
        "  for j in range(i,5):\n",
        "    print(\" \",end=\"\")\n",
        "  for k in range(1,2*i):\n",
        "    if k==1 or k==2*i-1:\n",
        "      print(\"*\",end=\"\")\n",
        "    else:\n",
        "      print(\" \",end=\"\")\n",
        "  print()\n",
        "for i in range(4,0,-1):\n",
        "  for j in range(i,5):\n",
        "    print(\" \",end=\"\")\n",
        "  for k in range(1,2*i):\n",
        "    if k==1 or k==2*i-1:\n",
        "      print(\"*\",end=\"\")\n",
        "    else:\n",
        "      print(\" \",end=\"\")\n",
        "  print()"
      ],
      "metadata": {
        "colab": {
          "base_uri": "https://localhost:8080/"
        },
        "id": "99hTa-uNaZRN",
        "outputId": "6e18fc7e-c788-46b8-ebee-22724b8e370e"
      },
      "execution_count": null,
      "outputs": [
        {
          "output_type": "stream",
          "name": "stdout",
          "text": [
            "    *\n",
            "   * *\n",
            "  *   *\n",
            " *     *\n",
            "*       *\n",
            " *     *\n",
            "  *   *\n",
            "   * *\n",
            "    *\n"
          ]
        }
      ]
    },
    {
      "cell_type": "code",
      "source": [
        "#     A\n",
        "#    A C\n",
        "#   A   E\n",
        "#  A     G\n",
        "# A       I\n",
        "#  A     G\n",
        "#   A   E\n",
        "#    A C\n",
        "#     A\n",
        "for i in range(1,6):\n",
        "  a=65\n",
        "  for j in range(i,5):\n",
        "    print(\" \",end=\"\")\n",
        "  for k in range(1,2*i):\n",
        "    if k==1 or k==2*i-1:\n",
        "      print(chr(a),end=\"\")\n",
        "      a+=1\n",
        "    else:\n",
        "      a+=1\n",
        "      print(\" \",end=\"\")\n",
        "  print()\n",
        "for i in range(4,0,-1):\n",
        "  a=65\n",
        "  for j in range(i,5):\n",
        "    print(\" \",end=\"\")\n",
        "  for k in range(1,2*i):\n",
        "    if k==1 or k==2*i-1:\n",
        "      print(chr(a),end=\"\")\n",
        "      a+=1\n",
        "    else:\n",
        "      a+=1\n",
        "      print(\" \",end=\"\")\n",
        "  print()"
      ],
      "metadata": {
        "colab": {
          "base_uri": "https://localhost:8080/"
        },
        "id": "fGq5v18tco_N",
        "outputId": "c77ea636-c0cc-42af-d571-52be12cc92fc"
      },
      "execution_count": null,
      "outputs": [
        {
          "output_type": "stream",
          "name": "stdout",
          "text": [
            "    A\n",
            "   A C\n",
            "  A   E\n",
            " A     G\n",
            "A       I\n",
            " A     G\n",
            "  A   E\n",
            "   A C\n",
            "    A\n"
          ]
        }
      ]
    },
    {
      "cell_type": "code",
      "source": [
        "#     *\n",
        "#    ***\n",
        "#   * * *\n",
        "#  *  *  *\n",
        "# *********\n",
        "for i in range(1,6):\n",
        "  for j in range(i,5):\n",
        "    print(\" \",end=\"\")\n",
        "  for k in range(1,i+1):\n",
        "    if i==5 or k==1 or k==i:\n",
        "      print(\"*\",end=\"\")\n",
        "    else:\n",
        "      print(\" \",end=\"\")\n",
        "  for l in range(1,i):\n",
        "    if i==5 or l==i-1:\n",
        "      print(\"*\",end=\"\")\n",
        "    else:\n",
        "      print(\" \",end=\"\")\n",
        "\n",
        "  print()"
      ],
      "metadata": {
        "colab": {
          "base_uri": "https://localhost:8080/"
        },
        "id": "E-00YYlReZjk",
        "outputId": "2b129e8f-bd5e-43e2-af22-5058aa173bdf"
      },
      "execution_count": null,
      "outputs": [
        {
          "output_type": "stream",
          "name": "stdout",
          "text": [
            "    *\n",
            "   ***\n",
            "  * * *\n",
            " *  *  *\n",
            "*********\n"
          ]
        }
      ]
    },
    {
      "cell_type": "code",
      "source": [],
      "metadata": {
        "id": "DQLsUJO1fpJY"
      },
      "execution_count": null,
      "outputs": []
    }
  ]
}