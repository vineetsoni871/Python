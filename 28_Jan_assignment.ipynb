{
  "nbformat": 4,
  "nbformat_minor": 0,
  "metadata": {
    "colab": {
      "provenance": [],
      "authorship_tag": "ABX9TyOLq9D4/SPUn9JSx4urKh0P",
      "include_colab_link": true
    },
    "kernelspec": {
      "name": "python3",
      "display_name": "Python 3"
    },
    "language_info": {
      "name": "python"
    }
  },
  "cells": [
    {
      "cell_type": "markdown",
      "metadata": {
        "id": "view-in-github",
        "colab_type": "text"
      },
      "source": [
        "<a href=\"https://colab.research.google.com/github/vineetsoni871/Python/blob/main/28_Jan_assignment.ipynb\" target=\"_parent\"><img src=\"https://colab.research.google.com/assets/colab-badge.svg\" alt=\"Open In Colab\"/></a>"
      ]
    },
    {
      "cell_type": "code",
      "execution_count": 1,
      "metadata": {
        "colab": {
          "base_uri": "https://localhost:8080/"
        },
        "id": "FqQ4cWqRrgSA",
        "outputId": "007cedc5-036c-4413-e967-d759574870b8"
      },
      "outputs": [
        {
          "output_type": "stream",
          "name": "stdout",
          "text": [
            "2 4 6 8 10 12 14 16 18 20 \n",
            "3 6 9 12 15 18 21 24 27 30 \n",
            "4 8 12 16 20 24 28 32 36 40 \n",
            "5 10 15 20 25 30 35 40 45 50 \n"
          ]
        }
      ],
      "source": [
        "# take a number from 2 to 5 and print its table\n",
        "for i in range(2,6):\n",
        "  for j in range(1,11):\n",
        "    print(i*j,end=\" \")\n",
        "  print()"
      ]
    },
    {
      "cell_type": "code",
      "source": [
        "# take a number from 6 to 2 and print its table\n",
        "for i in range(6,1,-1):\n",
        "  for j in range(1,11):\n",
        "    print(i*j,end=\" \")\n",
        "  print()"
      ],
      "metadata": {
        "colab": {
          "base_uri": "https://localhost:8080/"
        },
        "id": "l5_1YZ2Lr7S_",
        "outputId": "68dd8df0-994d-4647-df28-0e4a25b4fc85"
      },
      "execution_count": 3,
      "outputs": [
        {
          "output_type": "stream",
          "name": "stdout",
          "text": [
            "6 12 18 24 30 36 42 48 54 60 \n",
            "5 10 15 20 25 30 35 40 45 50 \n",
            "4 8 12 16 20 24 28 32 36 40 \n",
            "3 6 9 12 15 18 21 24 27 30 \n",
            "2 4 6 8 10 12 14 16 18 20 \n"
          ]
        }
      ]
    },
    {
      "cell_type": "code",
      "source": [
        "# take a number from 6 to 2 and print its table in reversse\n",
        "for i in range(6,1,-1):\n",
        "  for j in range(10,0,-1):\n",
        "    print(i*j,end=\" \")\n",
        "  print()"
      ],
      "metadata": {
        "colab": {
          "base_uri": "https://localhost:8080/"
        },
        "id": "Tct2K5TosPsX",
        "outputId": "b509e8be-8c6c-42cc-9b73-6d0377d88a6a"
      },
      "execution_count": 4,
      "outputs": [
        {
          "output_type": "stream",
          "name": "stdout",
          "text": [
            "60 54 48 42 36 30 24 18 12 6 \n",
            "50 45 40 35 30 25 20 15 10 5 \n",
            "40 36 32 28 24 20 16 12 8 4 \n",
            "30 27 24 21 18 15 12 9 6 3 \n",
            "20 18 16 14 12 10 8 6 4 2 \n"
          ]
        }
      ]
    },
    {
      "cell_type": "code",
      "source": [
        "# 2. Check a number is a prime not\n",
        "num=int(input(\"Enter a number:\"))\n",
        "x=0\n",
        "for i in range(2,num):\n",
        "  if num%i==0:\n",
        "    x=1\n",
        "    break\n",
        "if x==1:\n",
        "  print(\"Non Prime\")\n",
        "else:\n",
        "  print(\"Prime\")"
      ],
      "metadata": {
        "colab": {
          "base_uri": "https://localhost:8080/"
        },
        "id": "0O4uRkvHsocY",
        "outputId": "88cbb87f-d930-4fd0-b481-0058a9f72acf"
      },
      "execution_count": 11,
      "outputs": [
        {
          "output_type": "stream",
          "name": "stdout",
          "text": [
            "Enter a number:2\n",
            "Prime\n"
          ]
        }
      ]
    },
    {
      "cell_type": "code",
      "source": [
        "# 3. Take a range of values from 2to 19 and print all prime number\n",
        "for i in range(2,20):\n",
        "  x=0\n",
        "  for j in range(2,i):\n",
        "    if i%j==0:\n",
        "      x=1\n",
        "      break\n",
        "  if x==0:\n",
        "    print(i)"
      ],
      "metadata": {
        "colab": {
          "base_uri": "https://localhost:8080/"
        },
        "id": "XPtG2vVbtGYx",
        "outputId": "f0844d84-a559-4be5-d29a-21c02ad9571c"
      },
      "execution_count": 12,
      "outputs": [
        {
          "output_type": "stream",
          "name": "stdout",
          "text": [
            "2\n",
            "3\n",
            "5\n",
            "7\n",
            "11\n",
            "13\n",
            "17\n",
            "19\n"
          ]
        }
      ]
    },
    {
      "cell_type": "code",
      "source": [
        "# 4.\n",
        "# ****\n",
        "# ***\n",
        "# **\n",
        "# *\n",
        "for i in range(4,0,-1):\n",
        "  for j in range(i):\n",
        "    print(\"*\",end=\"\")\n",
        "  print()"
      ],
      "metadata": {
        "colab": {
          "base_uri": "https://localhost:8080/"
        },
        "id": "SMwrm2M9tHnT",
        "outputId": "a1c1ea52-a51c-4ad8-fcad-74f6b73606ed"
      },
      "execution_count": 1,
      "outputs": [
        {
          "output_type": "stream",
          "name": "stdout",
          "text": [
            "****\n",
            "***\n",
            "**\n",
            "*\n"
          ]
        }
      ]
    },
    {
      "cell_type": "code",
      "source": [
        "# 5.\n",
        "# $$$*\n",
        "# $$**\n",
        "# $***\n",
        "# ****\n",
        "for i in range(0,4):\n",
        "  for j in range(i,3):\n",
        "    print(\"$\",end=\"\")\n",
        "  for k in range(i+1):\n",
        "    print(\"*\",end=\"\")\n",
        "  print()"
      ],
      "metadata": {
        "colab": {
          "base_uri": "https://localhost:8080/"
        },
        "id": "d2F7eorPtLQo",
        "outputId": "808be893-102d-438c-b71b-6231a50e85d7"
      },
      "execution_count": 10,
      "outputs": [
        {
          "output_type": "stream",
          "name": "stdout",
          "text": [
            "$$$*\n",
            "$$**\n",
            "$***\n",
            "****\n"
          ]
        }
      ]
    },
    {
      "cell_type": "code",
      "source": [
        "# 6. Read about list and check all its function\n",
        "# append,  pop,  remove, sort,  insert()"
      ],
      "metadata": {
        "id": "NAf29in-tPTL"
      },
      "execution_count": null,
      "outputs": []
    }
  ]
}