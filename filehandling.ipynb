{
 "cells": [
  {
   "cell_type": "code",
   "execution_count": 1,
   "id": "e77dc817-65b4-4788-8dcd-e67765240f4a",
   "metadata": {},
   "outputs": [
    {
     "data": {
      "text/plain": [
       "['hey hyy']"
      ]
     },
     "execution_count": 1,
     "metadata": {},
     "output_type": "execute_result"
    }
   ],
   "source": [
    "# Lambda parameter : expression\n",
    "a=lambda x: x.split(\"  \")\n",
    "a(\"hey hyy\")# Lambda parameter : expression\n",
    "a=lambda x: x.split(\"  \")\n",
    "a(\"hey hyy\")"
   ]
  },
  {
   "cell_type": "code",
   "execution_count": 2,
   "id": "e7e0904a-8cc3-462b-84e6-56fa44e416d4",
   "metadata": {},
   "outputs": [],
   "source": [
    "# map, filter\n",
    "# [10,20,30,40,55,61]"
   ]
  },
  {
   "cell_type": "code",
   "execution_count": 3,
   "id": "9c51f3f0-e786-4d00-a11d-710b8db92e35",
   "metadata": {},
   "outputs": [
    {
     "data": {
      "text/plain": [
       "50"
      ]
     },
     "execution_count": 3,
     "metadata": {},
     "output_type": "execute_result"
    }
   ],
   "source": [
    "def func5(num):\n",
    "  return num*5\n",
    "\n",
    "out=map(func5,  [10,20,30,40,55,61] )\n",
    "next(out)"
   ]
  },
  {
   "cell_type": "code",
   "execution_count": 4,
   "id": "55f7c93c-517a-4277-805f-7990200f1dc1",
   "metadata": {},
   "outputs": [
    {
     "data": {
      "text/plain": [
       "100"
      ]
     },
     "execution_count": 4,
     "metadata": {},
     "output_type": "execute_result"
    }
   ],
   "source": [
    "next(out)"
   ]
  },
  {
   "cell_type": "code",
   "execution_count": 5,
   "id": "c874e9ee-82ac-4ec2-b64c-51f2f018dcca",
   "metadata": {},
   "outputs": [
    {
     "data": {
      "text/plain": [
       "[50, 100, 150, 200, 275, 305]"
      ]
     },
     "execution_count": 5,
     "metadata": {},
     "output_type": "execute_result"
    }
   ],
   "source": [
    "def func5(num):\n",
    "  return num*5\n",
    "\n",
    "list(map(func5,  [10,20,30,40,55,61] ))"
   ]
  },
  {
   "cell_type": "code",
   "execution_count": 6,
   "id": "8d8a2d67-7c9d-4dbf-9deb-d44d43352c59",
   "metadata": {},
   "outputs": [
    {
     "data": {
      "text/plain": [
       "[50, 100, 150, 200, 275, 305]"
      ]
     },
     "execution_count": 6,
     "metadata": {},
     "output_type": "execute_result"
    }
   ],
   "source": [
    "lambda num : num*5\n",
    "\n",
    "list(map(lambda num : num*5,  [10,20,30,40,55,61] ))"
   ]
  },
  {
   "cell_type": "code",
   "execution_count": 8,
   "id": "7dfc8cf3-1aee-41f2-b560-fe8328a70b44",
   "metadata": {},
   "outputs": [
    {
     "name": "stdout",
     "output_type": "stream",
     "text": [
      "[True, True, True, True, False, False]\n",
      "[10, 20, 30, 40]\n"
     ]
    }
   ],
   "source": [
    "# Take a list of value & get only the even digit with use of filter\n",
    "list1=list(map(lambda num: num%2==0,[10,20,30,40,55,61]))\n",
    "list2=list(filter(lambda num: num%2==0,[10,20,30,40,55,61]))\n",
    "print(list1)\n",
    "print(list2) #filter will help us to get the true value output according to the condition.\n",
    "     "
   ]
  },
  {
   "cell_type": "code",
   "execution_count": 9,
   "id": "64e5723c-1b68-4205-aeee-19e388060fe3",
   "metadata": {},
   "outputs": [],
   "source": [
    "# File Handling\n",
    "# Mechanism => to store the data in the file permanently because if we want to process the data in a easy way.\n",
    "\n",
    "# open => access mode \n",
    "# read / write \n",
    "# close\n",
    "\n",
    "# r mode is used to read the file \n",
    "# w mode is used to write in file (overwrite the data )\n",
    "# w+ mode first delete the data then we can update the data\n",
    "# r+ mode is used to read and write the data (this function is depend on the task first argument )\n",
    "# .tell() is used to return the position of cursur\n",
    "# .seek() function is used to change the position of cursur\n",
    "# with open function is used to access the file from memory address \n",
    "# read() to read function is used to read all data only\n",
    "# readline() is used to read the line only\n",
    "# readlines() is used to read the lines in form of list\n",
    "# .strip() is used to remove unwanted character starting and ending\n",
    "# .split() function is used to remove the space and store data in list\n",
    "# .join() is used to convert list to string with white space\n",
    "# import csv is used to read comma seperated value (it is a package )"
   ]
  },
  {
   "cell_type": "code",
   "execution_count": 4,
   "id": "8416b591-d620-4897-b966-ec8de71e599b",
   "metadata": {},
   "outputs": [
    {
     "name": "stdout",
     "output_type": "stream",
     "text": [
      "Vineet\n"
     ]
    }
   ],
   "source": [
    "fileobj=open(\"filehandling.txt\")\n",
    "x_data=fileobj.read()\n",
    "fileobj.close()\n",
    "print(x_data)"
   ]
  },
  {
   "cell_type": "code",
   "execution_count": 5,
   "id": "a13b6711-4de0-4df1-805d-f3e74959cda5",
   "metadata": {},
   "outputs": [],
   "source": [
    "fileobj=open(\"FileHandling.txt\",\"w\")\n",
    "# w => overwrite all its previous content\n",
    "fileobj.write(\"Japan\")\n",
    "fileobj.close()"
   ]
  },
  {
   "cell_type": "code",
   "execution_count": 6,
   "id": "fac115c2-f5f5-471e-9d59-e84128ac96a4",
   "metadata": {},
   "outputs": [
    {
     "name": "stdout",
     "output_type": "stream",
     "text": [
      "Japan\n"
     ]
    }
   ],
   "source": [
    "fileobj=open(\"FileHandling.txt\",\"r+\")\n",
    "x_data=fileobj.read()\n",
    "fileobj.write(\"##\")\n",
    "fileobj.close()\n",
    "# show\n",
    "print(x_data)"
   ]
  },
  {
   "cell_type": "code",
   "execution_count": 7,
   "id": "d047e0aa-d191-45d3-945f-7b473109348e",
   "metadata": {},
   "outputs": [
    {
     "name": "stdout",
     "output_type": "stream",
     "text": [
      "neet\n"
     ]
    }
   ],
   "source": [
    "fileobj=open(\"FileHandling.txt\",\"r+\")\n",
    "fileobj.write(\"##\")\n",
    "x_data=fileobj.read()\n",
    "fileobj.close()\n",
    "# show\n",
    "print(x_data)"
   ]
  },
  {
   "cell_type": "code",
   "execution_count": 8,
   "id": "ccca003b-f46c-4a87-ab33-0d68485d2f37",
   "metadata": {},
   "outputs": [
    {
     "name": "stdout",
     "output_type": "stream",
     "text": [
      "\n"
     ]
    }
   ],
   "source": [
    "fileobj=open(\"FileHandling.txt\",\"w+\")\n",
    "fileobj.write(\"$$\")\n",
    "x_data=fileobj.read()\n",
    "fileobj.close()\n",
    "# show\n",
    "print(x_data)"
   ]
  },
  {
   "cell_type": "code",
   "execution_count": 9,
   "id": "992e1bc0-458e-48a0-a23b-5cfe296b0b4e",
   "metadata": {},
   "outputs": [
    {
     "name": "stdout",
     "output_type": "stream",
     "text": [
      "1: 0\n",
      "2: 9\n",
      "\n"
     ]
    }
   ],
   "source": [
    "fileobj=open(\"FileHandling.txt\",\"w+\")\n",
    "print(\"1:\",fileobj.tell()) #cursor position\n",
    "fileobj.write(\"rajasthan\")\n",
    "print(\"2:\",fileobj.tell()) #cursor position\n",
    "x_data=fileobj.read()\n",
    "fileobj.close()\n",
    "# show\n",
    "print(x_data)"
   ]
  },
  {
   "cell_type": "code",
   "execution_count": 10,
   "id": "b2c6d7b5-be54-48b6-bb6d-9292b77ffa36",
   "metadata": {},
   "outputs": [
    {
     "name": "stdout",
     "output_type": "stream",
     "text": [
      "1: 0\n",
      "2: 9\n",
      "3: 4\n",
      "sthan\n"
     ]
    }
   ],
   "source": [
    "# seek function change the position of the cursor in the file.\n",
    "\n",
    "fileobj=open(\"FileHandling.txt\",\"w+\")\n",
    "print(\"1:\",fileobj.tell()) #cursor position\n",
    "fileobj.write(\"rajasthan\")\n",
    "print(\"2:\",fileobj.tell()) #cursor position\n",
    "\n",
    "# changing cursor position\n",
    "fileobj.seek(4)\n",
    "print(\"3:\",fileobj.tell()) #cursor position\n",
    "\n",
    "x_data=fileobj.read()\n",
    "fileobj.close()\n",
    "# show\n",
    "print(x_data)"
   ]
  },
  {
   "cell_type": "code",
   "execution_count": 11,
   "id": "7884ecca-1685-4d13-bc0c-ebed9e8c7f92",
   "metadata": {},
   "outputs": [
    {
     "name": "stdout",
     "output_type": "stream",
     "text": [
      "rajasthan\n"
     ]
    }
   ],
   "source": [
    "# Method 2\n",
    "# in method 2 it is not necessary to close the file\n",
    "\n",
    "with open(\"FileHandling.txt\") as f:\n",
    "    x=f.read()\n",
    "print(x)"
   ]
  },
  {
   "cell_type": "code",
   "execution_count": 12,
   "id": "27445bac-069a-4348-8863-383a8b803c93",
   "metadata": {},
   "outputs": [
    {
     "name": "stdout",
     "output_type": "stream",
     "text": [
      "rajasthan\n",
      "\n",
      "pun\n",
      "\n"
     ]
    }
   ],
   "source": [
    "with open(\"FileHandling.txt\") as f:\n",
    "    print(f.readline())\n",
    "    print(f.readline())"
   ]
  },
  {
   "cell_type": "code",
   "execution_count": 13,
   "id": "5aa60e45-6f85-46f5-a702-f31f6fff6db7",
   "metadata": {},
   "outputs": [
    {
     "name": "stdout",
     "output_type": "stream",
     "text": [
      "rajasthan\n",
      "\n",
      "pun\n",
      "\n",
      "hen\n"
     ]
    }
   ],
   "source": [
    "with open(\"FileHandling.txt\") as f:\n",
    "    for line in f:\n",
    "        print(line)"
   ]
  },
  {
   "cell_type": "code",
   "execution_count": 14,
   "id": "5994ddb5-d7e8-49e7-84d4-b12746ea3d26",
   "metadata": {},
   "outputs": [
    {
     "name": "stdout",
     "output_type": "stream",
     "text": [
      "['rajasthan\\n', 'pun\\n', 'hen']\n"
     ]
    }
   ],
   "source": [
    "with open(\"FileHandling.txt\") as f:\n",
    "    print(f.readlines())"
   ]
  },
  {
   "cell_type": "code",
   "execution_count": 15,
   "id": "35f39ccd-2481-469c-b5f3-55e64cbd1110",
   "metadata": {},
   "outputs": [
    {
     "name": "stdout",
     "output_type": "stream",
     "text": [
      "name : rajasthan age : 10\n",
      "name : pun age : 20\n",
      "name : hen age : 30\n"
     ]
    }
   ],
   "source": [
    "with open(\"FileHandling.txt\") as f:\n",
    "    for line in f:\n",
    "        line=line.strip()\n",
    "        name,age=line.split(\",\")\n",
    "        print(\"name :\",name,\"age :\",age)"
   ]
  },
  {
   "cell_type": "code",
   "execution_count": 16,
   "id": "8e794d0c-ae40-4038-bf16-28691024d8d3",
   "metadata": {},
   "outputs": [
    {
     "name": "stdout",
     "output_type": "stream",
     "text": [
      "name : rajasthan age : 10\n",
      "name : pun age : 20\n",
      "name : hen age : 30\n"
     ]
    }
   ],
   "source": [
    "import csv\n",
    "# fileobj=open(\"FileHandling.txt\",\"r\")\n",
    "with open(\"FileHandling.txt\",\"r\") as fileobj:\n",
    "    fcsv=csv.reader(fileobj)\n",
    "    for line in fcsv:\n",
    "        name,age=line\n",
    "        print(\"name :\",name,\"age :\",age)"
   ]
  },
  {
   "cell_type": "code",
   "execution_count": null,
   "id": "82208d86-cb4c-4200-8e7a-f4733fda52d6",
   "metadata": {},
   "outputs": [],
   "source": []
  }
 ],
 "metadata": {
  "kernelspec": {
   "display_name": "Python 3 (ipykernel)",
   "language": "python",
   "name": "python3"
  },
  "language_info": {
   "codemirror_mode": {
    "name": "ipython",
    "version": 3
   },
   "file_extension": ".py",
   "mimetype": "text/x-python",
   "name": "python",
   "nbconvert_exporter": "python",
   "pygments_lexer": "ipython3",
   "version": "3.10.11"
  }
 },
 "nbformat": 4,
 "nbformat_minor": 5
}
