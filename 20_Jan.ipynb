{
  "nbformat": 4,
  "nbformat_minor": 0,
  "metadata": {
    "colab": {
      "provenance": [],
      "authorship_tag": "ABX9TyO9/Sx2RKGBdUV6Mqps/Mgp",
      "include_colab_link": true
    },
    "kernelspec": {
      "name": "python3",
      "display_name": "Python 3"
    },
    "language_info": {
      "name": "python"
    }
  },
  "cells": [
    {
      "cell_type": "markdown",
      "metadata": {
        "id": "view-in-github",
        "colab_type": "text"
      },
      "source": [
        "<a href=\"https://colab.research.google.com/github/vineetsoni871/Python/blob/main/20_Jan.ipynb\" target=\"_parent\"><img src=\"https://colab.research.google.com/assets/colab-badge.svg\" alt=\"Open In Colab\"/></a>"
      ]
    },
    {
      "cell_type": "code",
      "execution_count": 1,
      "metadata": {
        "id": "JWgUFIxiIr05"
      },
      "outputs": [],
      "source": [
        "# tuple=> immutable\n",
        "tuple1=(1,2,3,4,\"hey\")\n"
      ]
    },
    {
      "cell_type": "code",
      "source": [
        "tuple1=1,2,3,4,\"hey\"\n",
        "tuple1\n",
        "print(tuple1[0])"
      ],
      "metadata": {
        "colab": {
          "base_uri": "https://localhost:8080/"
        },
        "id": "6TKzyTcHI_tM",
        "outputId": "f2ff2104-2f95-433c-a30d-b34f23222bf9"
      },
      "execution_count": 2,
      "outputs": [
        {
          "output_type": "stream",
          "name": "stdout",
          "text": [
            "1\n"
          ]
        }
      ]
    },
    {
      "cell_type": "code",
      "source": [
        "# List,dictionary and set are mutuable and rest are immutuable datatype\n",
        "# If you are creating a new memory address we call it immutable data type and if memory address is same we call it mutable datatype\n",
        "a=10\n",
        "b=a\n",
        "\n",
        "print(id(a),id(b))\n",
        "a=20\n",
        "print(id(a),id(b))"
      ],
      "metadata": {
        "colab": {
          "base_uri": "https://localhost:8080/"
        },
        "id": "z4OrWi2XJIyZ",
        "outputId": "731aa169-5149-4d04-882f-3ee5d7c8891c"
      },
      "execution_count": 7,
      "outputs": [
        {
          "output_type": "stream",
          "name": "stdout",
          "text": [
            "10751144 10751144\n",
            "10751464 10751144\n"
          ]
        }
      ]
    },
    {
      "cell_type": "code",
      "source": [
        "# Dictionary datatype\n",
        "# Key and Value\n",
        "# Key => unique(identifier)\n",
        "# value => can be unique or duplicate\n",
        "# {}\n",
        "# mutuable datatype\n",
        "# No index position\n",
        "# Ordered"
      ],
      "metadata": {
        "id": "aFrmV7-FMdvR"
      },
      "execution_count": 8,
      "outputs": []
    },
    {
      "cell_type": "code",
      "source": [
        "mydictionary={1:\"anil\", 2:\"ankit\" , \"city\":\"jaipur\"}\n",
        "print(mydictionary)\n",
        "len(mydictionary)\n"
      ],
      "metadata": {
        "colab": {
          "base_uri": "https://localhost:8080/"
        },
        "id": "Na8ad7QHOwSA",
        "outputId": "a0d53dea-94c7-40f4-bdcc-81eeba717131"
      },
      "execution_count": 13,
      "outputs": [
        {
          "output_type": "stream",
          "name": "stdout",
          "text": [
            "{1: 'anil', 2: 'ankit', 'city': 'jaipur'}\n"
          ]
        },
        {
          "output_type": "execute_result",
          "data": {
            "text/plain": [
              "3"
            ]
          },
          "metadata": {},
          "execution_count": 13
        }
      ]
    },
    {
      "cell_type": "code",
      "source": [
        "mydictionary={1:\"anil\", 2:\"ankit\" , \"city\":\"jaipur\"}\n",
        "mydictionary[\"city\"]"
      ],
      "metadata": {
        "colab": {
          "base_uri": "https://localhost:8080/",
          "height": 35
        },
        "id": "mcGzyESPPLYl",
        "outputId": "89faf067-2cd0-4106-ae0c-195b465f0232"
      },
      "execution_count": 12,
      "outputs": [
        {
          "output_type": "execute_result",
          "data": {
            "text/plain": [
              "'jaipur'"
            ],
            "application/vnd.google.colaboratory.intrinsic+json": {
              "type": "string"
            }
          },
          "metadata": {},
          "execution_count": 12
        }
      ]
    },
    {
      "cell_type": "code",
      "source": [
        "# Update or insert element\n",
        "mydictionary={1:\"anil\", 2:\"ankit\" , \"city\":\"jaipur\"}\n",
        "mydictionary[2]=\"akshay\" # Update\n",
        "mydictionary[4]=\"yash\" # Insert\n",
        "print(mydictionary)"
      ],
      "metadata": {
        "colab": {
          "base_uri": "https://localhost:8080/"
        },
        "id": "skWBxkNOPSSr",
        "outputId": "cb32c9de-c558-4b57-8e91-fa80213801a3"
      },
      "execution_count": 14,
      "outputs": [
        {
          "output_type": "stream",
          "name": "stdout",
          "text": [
            "{1: 'anil', 2: 'akshay', 'city': 'jaipur', 4: 'yash'}\n"
          ]
        }
      ]
    },
    {
      "cell_type": "code",
      "source": [
        "mydictionary={1:\"anil\", 2:\"ankit\" , \"city\":\"jaipur\"}\n",
        "help(mydictionary)"
      ],
      "metadata": {
        "colab": {
          "base_uri": "https://localhost:8080/"
        },
        "id": "1k1ULLQwPckJ",
        "outputId": "87d2b3b1-afe4-4787-902d-5d9c6bd4cb49"
      },
      "execution_count": 15,
      "outputs": [
        {
          "output_type": "stream",
          "name": "stdout",
          "text": [
            "Help on dict object:\n",
            "\n",
            "class dict(object)\n",
            " |  dict() -> new empty dictionary\n",
            " |  dict(mapping) -> new dictionary initialized from a mapping object's\n",
            " |      (key, value) pairs\n",
            " |  dict(iterable) -> new dictionary initialized as if via:\n",
            " |      d = {}\n",
            " |      for k, v in iterable:\n",
            " |          d[k] = v\n",
            " |  dict(**kwargs) -> new dictionary initialized with the name=value pairs\n",
            " |      in the keyword argument list.  For example:  dict(one=1, two=2)\n",
            " |  \n",
            " |  Built-in subclasses:\n",
            " |      StgDict\n",
            " |  \n",
            " |  Methods defined here:\n",
            " |  \n",
            " |  __contains__(self, key, /)\n",
            " |      True if the dictionary has the specified key, else False.\n",
            " |  \n",
            " |  __delitem__(self, key, /)\n",
            " |      Delete self[key].\n",
            " |  \n",
            " |  __eq__(self, value, /)\n",
            " |      Return self==value.\n",
            " |  \n",
            " |  __ge__(self, value, /)\n",
            " |      Return self>=value.\n",
            " |  \n",
            " |  __getattribute__(self, name, /)\n",
            " |      Return getattr(self, name).\n",
            " |  \n",
            " |  __getitem__(...)\n",
            " |      x.__getitem__(y) <==> x[y]\n",
            " |  \n",
            " |  __gt__(self, value, /)\n",
            " |      Return self>value.\n",
            " |  \n",
            " |  __init__(self, /, *args, **kwargs)\n",
            " |      Initialize self.  See help(type(self)) for accurate signature.\n",
            " |  \n",
            " |  __ior__(self, value, /)\n",
            " |      Return self|=value.\n",
            " |  \n",
            " |  __iter__(self, /)\n",
            " |      Implement iter(self).\n",
            " |  \n",
            " |  __le__(self, value, /)\n",
            " |      Return self<=value.\n",
            " |  \n",
            " |  __len__(self, /)\n",
            " |      Return len(self).\n",
            " |  \n",
            " |  __lt__(self, value, /)\n",
            " |      Return self<value.\n",
            " |  \n",
            " |  __ne__(self, value, /)\n",
            " |      Return self!=value.\n",
            " |  \n",
            " |  __or__(self, value, /)\n",
            " |      Return self|value.\n",
            " |  \n",
            " |  __repr__(self, /)\n",
            " |      Return repr(self).\n",
            " |  \n",
            " |  __reversed__(self, /)\n",
            " |      Return a reverse iterator over the dict keys.\n",
            " |  \n",
            " |  __ror__(self, value, /)\n",
            " |      Return value|self.\n",
            " |  \n",
            " |  __setitem__(self, key, value, /)\n",
            " |      Set self[key] to value.\n",
            " |  \n",
            " |  __sizeof__(...)\n",
            " |      D.__sizeof__() -> size of D in memory, in bytes\n",
            " |  \n",
            " |  clear(...)\n",
            " |      D.clear() -> None.  Remove all items from D.\n",
            " |  \n",
            " |  copy(...)\n",
            " |      D.copy() -> a shallow copy of D\n",
            " |  \n",
            " |  get(self, key, default=None, /)\n",
            " |      Return the value for key if key is in the dictionary, else default.\n",
            " |  \n",
            " |  items(...)\n",
            " |      D.items() -> a set-like object providing a view on D's items\n",
            " |  \n",
            " |  keys(...)\n",
            " |      D.keys() -> a set-like object providing a view on D's keys\n",
            " |  \n",
            " |  pop(...)\n",
            " |      D.pop(k[,d]) -> v, remove specified key and return the corresponding value.\n",
            " |      \n",
            " |      If the key is not found, return the default if given; otherwise,\n",
            " |      raise a KeyError.\n",
            " |  \n",
            " |  popitem(self, /)\n",
            " |      Remove and return a (key, value) pair as a 2-tuple.\n",
            " |      \n",
            " |      Pairs are returned in LIFO (last-in, first-out) order.\n",
            " |      Raises KeyError if the dict is empty.\n",
            " |  \n",
            " |  setdefault(self, key, default=None, /)\n",
            " |      Insert key with a value of default if key is not in the dictionary.\n",
            " |      \n",
            " |      Return the value for key if key is in the dictionary, else default.\n",
            " |  \n",
            " |  update(...)\n",
            " |      D.update([E, ]**F) -> None.  Update D from dict/iterable E and F.\n",
            " |      If E is present and has a .keys() method, then does:  for k in E: D[k] = E[k]\n",
            " |      If E is present and lacks a .keys() method, then does:  for k, v in E: D[k] = v\n",
            " |      In either case, this is followed by: for k in F:  D[k] = F[k]\n",
            " |  \n",
            " |  values(...)\n",
            " |      D.values() -> an object providing a view on D's values\n",
            " |  \n",
            " |  ----------------------------------------------------------------------\n",
            " |  Class methods defined here:\n",
            " |  \n",
            " |  __class_getitem__(...)\n",
            " |      See PEP 585\n",
            " |  \n",
            " |  fromkeys(iterable, value=None, /)\n",
            " |      Create a new dictionary with keys from iterable and values set to value.\n",
            " |  \n",
            " |  ----------------------------------------------------------------------\n",
            " |  Static methods defined here:\n",
            " |  \n",
            " |  __new__(*args, **kwargs)\n",
            " |      Create and return a new object.  See help(type) for accurate signature.\n",
            " |  \n",
            " |  ----------------------------------------------------------------------\n",
            " |  Data and other attributes defined here:\n",
            " |  \n",
            " |  __hash__ = None\n",
            "\n"
          ]
        }
      ]
    },
    {
      "cell_type": "code",
      "source": [
        "mydictionary={1:\"anil\", 2:\"ankit\" , \"city\":\"jaipur\"}\n",
        "\n",
        "for i in mydictionary:\n",
        "    print(i,mydictionary[i])"
      ],
      "metadata": {
        "colab": {
          "base_uri": "https://localhost:8080/"
        },
        "id": "O23eI9YwQQOc",
        "outputId": "c1c76a07-63fd-4be8-c8ee-5879ce00717f"
      },
      "execution_count": 16,
      "outputs": [
        {
          "output_type": "stream",
          "name": "stdout",
          "text": [
            "1 anil\n",
            "2 ankit\n",
            "city jaipur\n"
          ]
        }
      ]
    },
    {
      "cell_type": "code",
      "source": [
        "mydictionary={1:\"anil\", 2:\"ankit\" , \"city\":\"jaipur\"}\n",
        "\n",
        "for i in mydictionary.keys():\n",
        "    print(i)"
      ],
      "metadata": {
        "colab": {
          "base_uri": "https://localhost:8080/"
        },
        "id": "3KI_kDEIQ2Va",
        "outputId": "32f734fb-73ef-4429-b846-59b5427a2b69"
      },
      "execution_count": 18,
      "outputs": [
        {
          "output_type": "stream",
          "name": "stdout",
          "text": [
            "1\n",
            "2\n",
            "city\n"
          ]
        }
      ]
    },
    {
      "cell_type": "code",
      "source": [
        "mydictionary={1:\"anil\", 2:\"ankit\" , \"city\":\"jaipur\"}\n",
        "\n",
        "for i in mydictionary.values():\n",
        "    print(i)"
      ],
      "metadata": {
        "colab": {
          "base_uri": "https://localhost:8080/"
        },
        "id": "FEOwPSK1RCVW",
        "outputId": "309294af-7780-4c13-c055-d12364b1a87d"
      },
      "execution_count": 19,
      "outputs": [
        {
          "output_type": "stream",
          "name": "stdout",
          "text": [
            "anil\n",
            "ankit\n",
            "jaipur\n"
          ]
        }
      ]
    },
    {
      "cell_type": "code",
      "source": [
        "mydictionary={1:\"anil\", 2:\"ankit\" , \"city\":\"jaipur\"}\n",
        "\n",
        "for i in mydictionary.items():\n",
        "    print(i)"
      ],
      "metadata": {
        "colab": {
          "base_uri": "https://localhost:8080/"
        },
        "id": "iK4QlE2FRWQ5",
        "outputId": "6a6495d8-eeec-4939-9fbd-654e2db93ccb"
      },
      "execution_count": 20,
      "outputs": [
        {
          "output_type": "stream",
          "name": "stdout",
          "text": [
            "(1, 'anil')\n",
            "(2, 'ankit')\n",
            "('city', 'jaipur')\n"
          ]
        }
      ]
    },
    {
      "cell_type": "code",
      "source": [
        "x=(10,20)\n",
        "a=x[0]\n",
        "b=x[1]\n",
        "print(a,b)"
      ],
      "metadata": {
        "colab": {
          "base_uri": "https://localhost:8080/"
        },
        "id": "SvUCF-raRZPN",
        "outputId": "a4751297-5cc8-4a06-8347-23bdfa469ee5"
      },
      "execution_count": 23,
      "outputs": [
        {
          "output_type": "stream",
          "name": "stdout",
          "text": [
            "10 20\n"
          ]
        }
      ]
    },
    {
      "cell_type": "code",
      "source": [
        "x=(10,20)\n",
        "a,b=x   # tuple unpacking\n",
        "print(a,b)"
      ],
      "metadata": {
        "colab": {
          "base_uri": "https://localhost:8080/"
        },
        "id": "7jhGMrNUSJRC",
        "outputId": "55dc0522-4b88-40dd-dda1-470ad33e5b54"
      },
      "execution_count": 24,
      "outputs": [
        {
          "output_type": "stream",
          "name": "stdout",
          "text": [
            "10 20\n"
          ]
        }
      ]
    },
    {
      "cell_type": "code",
      "source": [
        "mydictionary={\"x\":100}\n",
        "mydictionary[\"x\"]=mydictionary[\"x\"]+50\n",
        "print(mydictionary)"
      ],
      "metadata": {
        "colab": {
          "base_uri": "https://localhost:8080/"
        },
        "id": "5_ecBIx6Sgio",
        "outputId": "0c6e0161-3883-4c53-9bde-d2477300815c"
      },
      "execution_count": 25,
      "outputs": [
        {
          "output_type": "stream",
          "name": "stdout",
          "text": [
            "{'x': 150}\n"
          ]
        }
      ]
    },
    {
      "cell_type": "code",
      "source": [
        "mydictionary={\"count\":0}\n",
        "str1=\"Hello\"\n",
        "for i in str1:\n",
        "  mydictionary[\"count\"]=mydictionary[\"count\"]+1\n",
        "print(mydictionary)"
      ],
      "metadata": {
        "colab": {
          "base_uri": "https://localhost:8080/"
        },
        "id": "BpPvFKamTJnx",
        "outputId": "8ad90188-4bf3-4523-a3e8-bf4ba0d297c3"
      },
      "execution_count": 29,
      "outputs": [
        {
          "output_type": "stream",
          "name": "stdout",
          "text": [
            "{'count': 5}\n"
          ]
        }
      ]
    },
    {
      "cell_type": "code",
      "source": [
        "mydictionary={\"count\":0}\n",
        "str1=\"Hello heyadf\"\n",
        "for i in str1:\n",
        "  if i in \"aeiouAEIOU\":\n",
        "   mydictionary[\"count\"]=mydictionary[\"count\"]+1\n",
        "print(mydictionary)"
      ],
      "metadata": {
        "colab": {
          "base_uri": "https://localhost:8080/"
        },
        "id": "c_l91GOgTeJu",
        "outputId": "7921f47c-c4c3-464c-e8c8-8ad17ad6948f"
      },
      "execution_count": 30,
      "outputs": [
        {
          "output_type": "stream",
          "name": "stdout",
          "text": [
            "{'count': 4}\n"
          ]
        }
      ]
    },
    {
      "cell_type": "code",
      "source": [
        "mydictionary={}\n",
        "# hey => {\"h\":1, \"e\":1, \"y\":1}\n",
        "for char in \"hey\":\n",
        "  mydictionary[char]=1\n",
        "print(mydictionary)"
      ],
      "metadata": {
        "colab": {
          "base_uri": "https://localhost:8080/"
        },
        "id": "_R_zaAPCVHJK",
        "outputId": "ce871ede-193f-466f-eeef-b0fbcba3fce3"
      },
      "execution_count": 32,
      "outputs": [
        {
          "output_type": "stream",
          "name": "stdout",
          "text": [
            "{'h': 1, 'e': 1, 'y': 1}\n"
          ]
        }
      ]
    },
    {
      "cell_type": "code",
      "source": [
        "# Vowel Count\n",
        "mydictionary={}\n",
        "str1=\"Hello heyadf\"\n",
        "for i in str1:\n",
        "  if i in \"aeiouAEIOU\":\n",
        "    if i in mydictionary:\n",
        "      mydictionary[i]=mydictionary[i]+1\n",
        "    else:\n",
        "      mydictionary[i]=1\n",
        "print(mydictionary)"
      ],
      "metadata": {
        "colab": {
          "base_uri": "https://localhost:8080/"
        },
        "id": "uXDrA_TMVpum",
        "outputId": "90bcd7ed-c268-4735-cd51-87ce3c8eee38"
      },
      "execution_count": 35,
      "outputs": [
        {
          "output_type": "stream",
          "name": "stdout",
          "text": [
            "{'e': 2, 'o': 1, 'a': 1}\n"
          ]
        }
      ]
    },
    {
      "cell_type": "code",
      "source": [
        "mydictionary={}\n",
        "list1=[1,2,3,7,11,13]\n",
        "k=9\n",
        "for i in range (0 , len(str1)):\n",
        "  mydictionary[list1[i]]=i\n",
        "print(mydictionary)\n",
        "for j in mydictionary:\n",
        "  if k-j in mydictionary:\n",
        "    print(j,k-j)"
      ],
      "metadata": {
        "colab": {
          "base_uri": "https://localhost:8080/"
        },
        "id": "AQ1KIlVzXPkJ",
        "outputId": "ac1bc523-e63a-49ad-9ecb-6a0a9ac05498"
      },
      "execution_count": 44,
      "outputs": [
        {
          "output_type": "stream",
          "name": "stdout",
          "text": [
            "{1: 0, 2: 1, 3: 2, 7: 3, 11: 4, 13: 5}\n",
            "2 7\n",
            "7 2\n"
          ]
        }
      ]
    },
    {
      "cell_type": "code",
      "source": [],
      "metadata": {
        "id": "Pl_J5MIhaBQn"
      },
      "execution_count": null,
      "outputs": []
    }
  ]
}