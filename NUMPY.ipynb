{
 "cells": [
  {
   "cell_type": "markdown",
   "id": "11190e3f-9d4a-4c23-be88-711316d05c9d",
   "metadata": {},
   "source": [
    "# Numpy:\n",
    "Numpy is an open sourse library that is used for scientific calculation."
   ]
  },
  {
   "cell_type": "markdown",
   "id": "cf302a11-2ecc-4ffb-afe6-9718b31b5a24",
   "metadata": {},
   "source": [
    "# Why numpy is better than list ?\n",
    "1) Numpy(Homogeneous datatype) , List(Hetrogeneous datatype)\n",
    "2) Numpy(Less time consumption) , List(more time consumption)\n",
    "3) Numpy(Less memory consumption) , List(more memory consumption)"
   ]
  },
  {
   "cell_type": "code",
   "execution_count": 5,
   "id": "59961ad0-314f-463a-8867-4e0b5f963107",
   "metadata": {},
   "outputs": [
    {
     "name": "stdout",
     "output_type": "stream",
     "text": [
      "Requirement already satisfied: numpy in c:\\users\\vinee\\appdata\\local\\programs\\python\\python310\\lib\\site-packages (2.2.3)"
     ]
    },
    {
     "name": "stderr",
     "output_type": "stream",
     "text": [
      "\n",
      "[notice] A new release of pip is available: 23.0.1 -> 25.0.1\n",
      "[notice] To update, run: python.exe -m pip install --upgrade pip\n"
     ]
    },
    {
     "name": "stdout",
     "output_type": "stream",
     "text": [
      "\n"
     ]
    }
   ],
   "source": [
    "!pip install numpy"
   ]
  },
  {
   "cell_type": "code",
   "execution_count": 3,
   "id": "1327c836-3768-4db2-822e-4b51faae9012",
   "metadata": {},
   "outputs": [],
   "source": [
    "import numpy as np"
   ]
  },
  {
   "cell_type": "code",
   "execution_count": 7,
   "id": "eccf9999-28b8-4330-9d7e-8b4297f2c474",
   "metadata": {},
   "outputs": [
    {
     "data": {
      "text/plain": [
       "list"
      ]
     },
     "execution_count": 7,
     "metadata": {},
     "output_type": "execute_result"
    }
   ],
   "source": [
    "a = [1,45,89,90]\n",
    "type(a)"
   ]
  },
  {
   "cell_type": "code",
   "execution_count": 8,
   "id": "9af7c389-c023-4259-a3ab-cc29cd3f0374",
   "metadata": {},
   "outputs": [
    {
     "data": {
      "text/plain": [
       "array([ 1, 45, 89, 90])"
      ]
     },
     "execution_count": 8,
     "metadata": {},
     "output_type": "execute_result"
    }
   ],
   "source": [
    "b=np.array(a)\n",
    "b"
   ]
  },
  {
   "cell_type": "code",
   "execution_count": 9,
   "id": "6027d50b-dc13-434e-a3f5-2915a96e749d",
   "metadata": {},
   "outputs": [
    {
     "data": {
      "text/plain": [
       "array([[1, 2, 3],\n",
       "       [4, 5, 6],\n",
       "       [7, 8, 9]])"
      ]
     },
     "execution_count": 9,
     "metadata": {},
     "output_type": "execute_result"
    }
   ],
   "source": [
    "c = [[1,2,3] , [4,5,6] , [7,8,9]]\n",
    "d=np.array(c)\n",
    "d"
   ]
  },
  {
   "cell_type": "code",
   "execution_count": 10,
   "id": "388a7e0e-3183-435e-8db7-a5c07d525946",
   "metadata": {},
   "outputs": [
    {
     "name": "stdout",
     "output_type": "stream",
     "text": [
      "Total rows and columns: (3, 3)\n",
      "Total elements: 9\n",
      "Total Dimension: 2\n"
     ]
    }
   ],
   "source": [
    "print(\"Total rows and columns:\" , d.shape)  #Shape = n(rows) , n(columns)\n",
    "print(\"Total elements:\" , d.size)   # Size = n(rows)*n(columns)\n",
    "print(\"Total Dimension:\" , d.ndim)"
   ]
  },
  {
   "cell_type": "code",
   "execution_count": 11,
   "id": "cf826694-008a-4209-9ae4-12cb25d33d99",
   "metadata": {},
   "outputs": [
    {
     "data": {
      "text/plain": [
       "1"
      ]
     },
     "execution_count": 11,
     "metadata": {},
     "output_type": "execute_result"
    }
   ],
   "source": [
    "b.ndim"
   ]
  },
  {
   "cell_type": "markdown",
   "id": "de528879-4258-4b85-a108-802b63cb962c",
   "metadata": {},
   "source": [
    "# User defined array:"
   ]
  },
  {
   "cell_type": "code",
   "execution_count": 12,
   "id": "2a7d285f-28c3-4a3c-8413-ca1f95762e28",
   "metadata": {},
   "outputs": [
    {
     "name": "stdin",
     "output_type": "stream",
     "text": [
      "Enter size: 3\n",
      "Enter values: 5\n",
      "Enter values: 6\n",
      "Enter values: 7\n"
     ]
    },
    {
     "data": {
      "text/plain": [
       "array([5, 6, 7])"
      ]
     },
     "execution_count": 12,
     "metadata": {},
     "output_type": "execute_result"
    }
   ],
   "source": [
    "a = []\n",
    "size = int(input(\"Enter size:\"))\n",
    "for i in range(size):\n",
    "    val=int(input(\"Enter values:\"))\n",
    "    a.append(val)\n",
    "# Print(a)\n",
    "b = np.array(a)\n",
    "b"
   ]
  },
  {
   "cell_type": "code",
   "execution_count": 13,
   "id": "ad8d9721-52da-410f-abe2-83571e8c2493",
   "metadata": {},
   "outputs": [
    {
     "data": {
      "text/plain": [
       "numpy.ndarray"
      ]
     },
     "execution_count": 13,
     "metadata": {},
     "output_type": "execute_result"
    }
   ],
   "source": [
    "type(b)"
   ]
  },
  {
   "cell_type": "code",
   "execution_count": 14,
   "id": "de0e9353-aaec-4e1b-80a1-f978d85c8f80",
   "metadata": {},
   "outputs": [
    {
     "data": {
      "text/plain": [
       "[1, 2, 3, 1, 2, 3, 1, 2, 3]"
      ]
     },
     "execution_count": 14,
     "metadata": {},
     "output_type": "execute_result"
    }
   ],
   "source": [
    "a = [1,2,3]\n",
    "a*3"
   ]
  },
  {
   "cell_type": "code",
   "execution_count": 16,
   "id": "ffe32281-d7ba-4232-83a9-513199421f2c",
   "metadata": {},
   "outputs": [
    {
     "data": {
      "text/plain": [
       "array([3, 6, 9])"
      ]
     },
     "execution_count": 16,
     "metadata": {},
     "output_type": "execute_result"
    }
   ],
   "source": [
    "a = np.array([1,2,3])\n",
    "a*3"
   ]
  },
  {
   "cell_type": "markdown",
   "id": "8a3e8b44-2f27-4dcc-9ead-7133d7cae62d",
   "metadata": {},
   "source": [
    "# Pre-defined functions of numpy"
   ]
  },
  {
   "cell_type": "code",
   "execution_count": 17,
   "id": "a0a67dad-cbab-47b1-90fd-d51effe4ce61",
   "metadata": {},
   "outputs": [],
   "source": [
    "# 1) zeros() ---> It will create an array in which all values will be 0."
   ]
  },
  {
   "cell_type": "code",
   "execution_count": 18,
   "id": "b22cd22b-614f-463e-ae25-04f0c3d8462f",
   "metadata": {},
   "outputs": [
    {
     "data": {
      "text/plain": [
       "array([0., 0., 0.])"
      ]
     },
     "execution_count": 18,
     "metadata": {},
     "output_type": "execute_result"
    }
   ],
   "source": [
    "a = np.zeros(3)\n",
    "a"
   ]
  },
  {
   "cell_type": "code",
   "execution_count": 21,
   "id": "f7baec63-a8d3-4dbe-86b9-198add67ccc3",
   "metadata": {},
   "outputs": [
    {
     "data": {
      "text/plain": [
       "array([[0., 0., 0., 0.],\n",
       "       [0., 0., 0., 0.],\n",
       "       [0., 0., 0., 0.]])"
      ]
     },
     "execution_count": 21,
     "metadata": {},
     "output_type": "execute_result"
    }
   ],
   "source": [
    "a=np.zeros((3,4))\n",
    "a"
   ]
  },
  {
   "cell_type": "code",
   "execution_count": 22,
   "id": "0f4a4166-be11-4fc5-b64c-382ee0a409af",
   "metadata": {},
   "outputs": [],
   "source": [
    "# 2) ones() ---> It will create an array in which all the values will be 1."
   ]
  },
  {
   "cell_type": "code",
   "execution_count": 23,
   "id": "c96e1ed0-18b1-4335-a9c9-128852ef2302",
   "metadata": {},
   "outputs": [
    {
     "data": {
      "text/plain": [
       "array([1., 1., 1., 1.])"
      ]
     },
     "execution_count": 23,
     "metadata": {},
     "output_type": "execute_result"
    }
   ],
   "source": [
    "a = np.ones(4)\n",
    "a"
   ]
  },
  {
   "cell_type": "code",
   "execution_count": 24,
   "id": "6d917261-9c34-409c-893b-69baa6ccdf8a",
   "metadata": {},
   "outputs": [
    {
     "data": {
      "text/plain": [
       "array([[1., 1., 1., 1., 1.],\n",
       "       [1., 1., 1., 1., 1.],\n",
       "       [1., 1., 1., 1., 1.],\n",
       "       [1., 1., 1., 1., 1.]])"
      ]
     },
     "execution_count": 24,
     "metadata": {},
     "output_type": "execute_result"
    }
   ],
   "source": [
    "a=np.ones((4,5))\n",
    "a"
   ]
  },
  {
   "cell_type": "code",
   "execution_count": 25,
   "id": "f7adce6d-4f0d-445e-9634-da12a449a2d5",
   "metadata": {},
   "outputs": [],
   "source": [
    "# 3) eye(): It will create an array in which diagonal positional elements will be 1 \n",
    "# and rest are zero."
   ]
  },
  {
   "cell_type": "code",
   "execution_count": 26,
   "id": "1393124c-6f5e-4f58-a425-eb56908ca63b",
   "metadata": {},
   "outputs": [
    {
     "data": {
      "text/plain": [
       "array([[1., 0., 0., 0., 0.],\n",
       "       [0., 1., 0., 0., 0.],\n",
       "       [0., 0., 1., 0., 0.],\n",
       "       [0., 0., 0., 1., 0.],\n",
       "       [0., 0., 0., 0., 1.]])"
      ]
     },
     "execution_count": 26,
     "metadata": {},
     "output_type": "execute_result"
    }
   ],
   "source": [
    "a = np.eye(5)  # n(rows) = n(columns)  --> Symmetric matriz\n",
    "a"
   ]
  },
  {
   "cell_type": "code",
   "execution_count": 27,
   "id": "c32b6ed9-4db1-4668-b856-699ae416e808",
   "metadata": {},
   "outputs": [
    {
     "data": {
      "text/plain": [
       "array([[1., 0., 0., 0.],\n",
       "       [0., 1., 0., 0.],\n",
       "       [0., 0., 1., 0.]])"
      ]
     },
     "execution_count": 27,
     "metadata": {},
     "output_type": "execute_result"
    }
   ],
   "source": [
    "a = np.eye(3,4)   # n(rows)!=n(columns)  ---> Asymetric matrix\n",
    "a"
   ]
  },
  {
   "cell_type": "code",
   "execution_count": 28,
   "id": "e4a3e529-6c2a-49b2-9242-3a6107cf0e0e",
   "metadata": {},
   "outputs": [
    {
     "data": {
      "text/plain": [
       "2"
      ]
     },
     "execution_count": 28,
     "metadata": {},
     "output_type": "execute_result"
    }
   ],
   "source": [
    "a.ndim"
   ]
  },
  {
   "cell_type": "code",
   "execution_count": 29,
   "id": "33ae9d54-1e20-4488-a7e1-f98a0e2b024f",
   "metadata": {},
   "outputs": [],
   "source": [
    "# 4) diag() --> It will create an array that will set diagonal positional custom values."
   ]
  },
  {
   "cell_type": "code",
   "execution_count": 30,
   "id": "6715589a-6141-4c6d-9549-507e29f16d3d",
   "metadata": {},
   "outputs": [
    {
     "data": {
      "text/plain": [
       "array([[   1,    0,    0,    0],\n",
       "       [   0,   22,    0,    0],\n",
       "       [   0,    0,  333,    0],\n",
       "       [   0,    0,    0, 4444]])"
      ]
     },
     "execution_count": 30,
     "metadata": {},
     "output_type": "execute_result"
    }
   ],
   "source": [
    "a = np.diag([1,22,333,4444])\n",
    "a"
   ]
  },
  {
   "cell_type": "markdown",
   "id": "cb88c148-d5eb-4fd8-a6ed-3ede8cad5ee4",
   "metadata": {},
   "source": [
    "# Random Module:"
   ]
  },
  {
   "cell_type": "code",
   "execution_count": 1,
   "id": "686ab13f-4fc9-4124-9b90-8e0d5f220c22",
   "metadata": {},
   "outputs": [],
   "source": [
    "# (a) Randint() ---> It will generate random values based on fix criteria\n",
    "# np.random.randint(min_range , max_range , total_numbers)"
   ]
  },
  {
   "cell_type": "code",
   "execution_count": 4,
   "id": "8498876e-e548-4f76-a4ff-1b1494785540",
   "metadata": {},
   "outputs": [
    {
     "data": {
      "text/plain": [
       "array([5, 9, 9], dtype=int32)"
      ]
     },
     "execution_count": 4,
     "metadata": {},
     "output_type": "execute_result"
    }
   ],
   "source": [
    "a = np.random.randint(1,10,3)\n",
    "a"
   ]
  },
  {
   "cell_type": "code",
   "execution_count": 5,
   "id": "2458b6f7-5ca1-40eb-a190-a66dd97d25e5",
   "metadata": {},
   "outputs": [],
   "source": [
    "# b) Rand() ---> It will generate random numbers from 0 to 1."
   ]
  },
  {
   "cell_type": "code",
   "execution_count": 6,
   "id": "49858875-9c72-42e3-afd7-2027d6e05a9e",
   "metadata": {},
   "outputs": [
    {
     "data": {
      "text/plain": [
       "array([0.53062367, 0.81667747, 0.26799985, 0.29033232, 0.2075254 ])"
      ]
     },
     "execution_count": 6,
     "metadata": {},
     "output_type": "execute_result"
    }
   ],
   "source": [
    "a = np.random.rand(5)\n",
    "a"
   ]
  },
  {
   "cell_type": "code",
   "execution_count": 7,
   "id": "65ec7b4d-5189-4665-8d80-7bdb3e86149c",
   "metadata": {},
   "outputs": [],
   "source": [
    "# c) seed() ---> It will fix our random generated data."
   ]
  },
  {
   "cell_type": "code",
   "execution_count": 8,
   "id": "535d75b2-b492-4f08-8a92-a8589bb6fa71",
   "metadata": {},
   "outputs": [
    {
     "data": {
      "text/plain": [
       "array([6, 6, 5], dtype=int32)"
      ]
     },
     "execution_count": 8,
     "metadata": {},
     "output_type": "execute_result"
    }
   ],
   "source": [
    "np.random.seed(30)\n",
    "a = np.random.randint(1,10,3)\n",
    "a"
   ]
  },
  {
   "cell_type": "markdown",
   "id": "d4c7d881-be77-46fb-8ce4-f7077f402243",
   "metadata": {},
   "source": [
    "# View vs copy"
   ]
  },
  {
   "cell_type": "code",
   "execution_count": 9,
   "id": "5a811449-40c4-43bd-a7b7-62b98385b0c2",
   "metadata": {},
   "outputs": [
    {
     "data": {
      "text/plain": [
       "array([10, 20, 30,  0,  0,  0, 70, 80])"
      ]
     },
     "execution_count": 9,
     "metadata": {},
     "output_type": "execute_result"
    }
   ],
   "source": [
    "a = np.array([10,20,30,40,50,60,70,80])  # view method\n",
    "b = a[3:6]\n",
    "b[:] = 0\n",
    "b\n",
    "a"
   ]
  },
  {
   "cell_type": "code",
   "execution_count": 10,
   "id": "48c5f9a0-fb1e-4376-ab79-808833a7974d",
   "metadata": {},
   "outputs": [
    {
     "data": {
      "text/plain": [
       "array([10, 20, 30,  0,  0,  0, 70, 80])"
      ]
     },
     "execution_count": 10,
     "metadata": {},
     "output_type": "execute_result"
    }
   ],
   "source": [
    "a = np.array([10,20,30,40,50,60,70,80])  # copy method\n",
    "b = a[3:6]\n",
    "b[:] = 0\n",
    "b\n",
    "a"
   ]
  },
  {
   "cell_type": "markdown",
   "id": "25777144-c21e-4049-b1c9-070a21963e59",
   "metadata": {},
   "source": [
    "# Reshaping the array:"
   ]
  },
  {
   "cell_type": "code",
   "execution_count": 11,
   "id": "148e89b4-ce9b-4afd-9bb8-e225cda5a54f",
   "metadata": {},
   "outputs": [],
   "source": [
    "# n(rows) * n(columns) = n(Total Elements)"
   ]
  },
  {
   "cell_type": "code",
   "execution_count": 16,
   "id": "6998d391-2fd1-4bd3-a58d-4763f2eaf6ec",
   "metadata": {},
   "outputs": [],
   "source": [
    "a = np.random.randint(1,50,12)"
   ]
  },
  {
   "cell_type": "code",
   "execution_count": 17,
   "id": "863395fd-f6b5-4e39-86e4-2df2e948d549",
   "metadata": {},
   "outputs": [
    {
     "data": {
      "text/plain": [
       "array([[13, 24,  3, 18, 47,  4],\n",
       "       [42,  8,  2, 46, 36, 19]], dtype=int32)"
      ]
     },
     "execution_count": 17,
     "metadata": {},
     "output_type": "execute_result"
    }
   ],
   "source": [
    "a.reshape(2,6)"
   ]
  },
  {
   "cell_type": "code",
   "execution_count": 18,
   "id": "268c0772-f634-4e93-8fe0-75dbc261866f",
   "metadata": {},
   "outputs": [
    {
     "data": {
      "text/plain": [
       "array([[13, 24],\n",
       "       [ 3, 18],\n",
       "       [47,  4],\n",
       "       [42,  8],\n",
       "       [ 2, 46],\n",
       "       [36, 19]], dtype=int32)"
      ]
     },
     "execution_count": 18,
     "metadata": {},
     "output_type": "execute_result"
    }
   ],
   "source": [
    "a.reshape(6,2)"
   ]
  },
  {
   "cell_type": "code",
   "execution_count": 19,
   "id": "3803794a-9494-4e34-82e3-c5a914a618b5",
   "metadata": {},
   "outputs": [
    {
     "data": {
      "text/plain": [
       "array([[13, 24,  3, 18],\n",
       "       [47,  4, 42,  8],\n",
       "       [ 2, 46, 36, 19]], dtype=int32)"
      ]
     },
     "execution_count": 19,
     "metadata": {},
     "output_type": "execute_result"
    }
   ],
   "source": [
    "a.reshape(3,4)"
   ]
  },
  {
   "cell_type": "code",
   "execution_count": 20,
   "id": "651f44e2-5e05-44ca-ae35-c8d82357c96d",
   "metadata": {},
   "outputs": [
    {
     "data": {
      "text/plain": [
       "array([[13, 24,  3],\n",
       "       [18, 47,  4],\n",
       "       [42,  8,  2],\n",
       "       [46, 36, 19]], dtype=int32)"
      ]
     },
     "execution_count": 20,
     "metadata": {},
     "output_type": "execute_result"
    }
   ],
   "source": [
    "a.reshape(4,3)"
   ]
  },
  {
   "cell_type": "markdown",
   "id": "d5957e76-10fd-4ae2-adda-2760141de6a4",
   "metadata": {},
   "source": [
    "# Conditional selection in Numpy:"
   ]
  },
  {
   "cell_type": "code",
   "execution_count": 23,
   "id": "73c8e716-e3d9-4a17-b60a-1c707642152c",
   "metadata": {},
   "outputs": [
    {
     "data": {
      "text/plain": [
       "array([ 1,  2,  3,  4,  5,  6,  7,  8,  9, 10, 11, 12, 13, 14])"
      ]
     },
     "execution_count": 23,
     "metadata": {},
     "output_type": "execute_result"
    }
   ],
   "source": [
    "a = np.arange(1,15)\n",
    "a"
   ]
  },
  {
   "cell_type": "code",
   "execution_count": 24,
   "id": "5eec687a-5915-44fb-b98c-b98296c0d0a8",
   "metadata": {},
   "outputs": [
    {
     "data": {
      "text/plain": [
       "array([False, False, False, False, False, False, False, False, False,\n",
       "       False,  True,  True,  True,  True])"
      ]
     },
     "execution_count": 24,
     "metadata": {},
     "output_type": "execute_result"
    }
   ],
   "source": [
    "a>10"
   ]
  },
  {
   "cell_type": "code",
   "execution_count": 26,
   "id": "8a2099f2-5c84-40c7-ade2-db528e558465",
   "metadata": {},
   "outputs": [
    {
     "data": {
      "text/plain": [
       "array([11, 12, 13, 14])"
      ]
     },
     "execution_count": 26,
     "metadata": {},
     "output_type": "execute_result"
    }
   ],
   "source": [
    "b = a>10\n",
    "a[b]"
   ]
  },
  {
   "cell_type": "code",
   "execution_count": 29,
   "id": "f023dcdf-f85a-43b2-9cb4-c33852e38831",
   "metadata": {},
   "outputs": [
    {
     "data": {
      "text/plain": [
       "array([2, 4])"
      ]
     },
     "execution_count": 29,
     "metadata": {},
     "output_type": "execute_result"
    }
   ],
   "source": [
    "a[a%2==0]"
   ]
  },
  {
   "cell_type": "code",
   "execution_count": 30,
   "id": "a8e27313-21ec-4ea1-9633-952178299358",
   "metadata": {},
   "outputs": [
    {
     "data": {
      "text/plain": [
       "array([ 1,  4,  9, 16])"
      ]
     },
     "execution_count": 30,
     "metadata": {},
     "output_type": "execute_result"
    }
   ],
   "source": [
    "a = np.array([1,2,3,4])\n",
    "a**2"
   ]
  },
  {
   "cell_type": "code",
   "execution_count": 31,
   "id": "0f0d8db0-6a92-4a8c-8962-2a8bfe13e036",
   "metadata": {},
   "outputs": [
    {
     "data": {
      "text/plain": [
       "array([ 1,  8, 27, 64])"
      ]
     },
     "execution_count": 31,
     "metadata": {},
     "output_type": "execute_result"
    }
   ],
   "source": [
    "a**3"
   ]
  },
  {
   "cell_type": "code",
   "execution_count": 32,
   "id": "fe9879fe-6e95-40fe-8bd4-d5ade706c71d",
   "metadata": {},
   "outputs": [
    {
     "data": {
      "text/plain": [
       "array([ 0.84147098,  0.90929743,  0.14112001, -0.7568025 ])"
      ]
     },
     "execution_count": 32,
     "metadata": {},
     "output_type": "execute_result"
    }
   ],
   "source": [
    "np.sin(a)"
   ]
  },
  {
   "cell_type": "code",
   "execution_count": 33,
   "id": "28787f44-0163-48e6-8edf-3d3980fb8a04",
   "metadata": {},
   "outputs": [
    {
     "data": {
      "text/plain": [
       "array([ 0.54030231, -0.41614684, -0.9899925 , -0.65364362])"
      ]
     },
     "execution_count": 33,
     "metadata": {},
     "output_type": "execute_result"
    }
   ],
   "source": [
    "np.cos(a)"
   ]
  },
  {
   "cell_type": "code",
   "execution_count": 34,
   "id": "c94a31a6-2c02-49c4-a202-1ea6b3258acf",
   "metadata": {},
   "outputs": [
    {
     "data": {
      "text/plain": [
       "array([1.        , 1.41421356, 1.73205081, 2.        ])"
      ]
     },
     "execution_count": 34,
     "metadata": {},
     "output_type": "execute_result"
    }
   ],
   "source": [
    "np.sqrt(a)"
   ]
  },
  {
   "cell_type": "code",
   "execution_count": 36,
   "id": "0c95d95b-4a13-4a7c-b0b8-c7ee739a55ae",
   "metadata": {},
   "outputs": [
    {
     "data": {
      "text/plain": [
       "array([[1, 2],\n",
       "       [3, 4]])"
      ]
     },
     "execution_count": 36,
     "metadata": {},
     "output_type": "execute_result"
    }
   ],
   "source": [
    "a = np.array([1,2,3,4]).reshape(2,2)\n",
    "a"
   ]
  },
  {
   "cell_type": "code",
   "execution_count": 37,
   "id": "82c78e83-ab7f-48da-a5e5-ca15df6e34bd",
   "metadata": {},
   "outputs": [
    {
     "data": {
      "text/plain": [
       "array([[5, 6],\n",
       "       [7, 8]])"
      ]
     },
     "execution_count": 37,
     "metadata": {},
     "output_type": "execute_result"
    }
   ],
   "source": [
    "b = np.array([5,6,7,8]).reshape(2,2)\n",
    "b"
   ]
  },
  {
   "cell_type": "code",
   "execution_count": 38,
   "id": "84b9b95b-07bc-4872-8b98-8f8a023b479a",
   "metadata": {},
   "outputs": [
    {
     "data": {
      "text/plain": [
       "array([[ 5, 12],\n",
       "       [21, 32]])"
      ]
     },
     "execution_count": 38,
     "metadata": {},
     "output_type": "execute_result"
    }
   ],
   "source": [
    "a*b"
   ]
  },
  {
   "cell_type": "code",
   "execution_count": 39,
   "id": "a791a9b6-11e7-4525-b3bf-82b18d524129",
   "metadata": {},
   "outputs": [
    {
     "data": {
      "text/plain": [
       "array([[ 6,  8],\n",
       "       [10, 12]])"
      ]
     },
     "execution_count": 39,
     "metadata": {},
     "output_type": "execute_result"
    }
   ],
   "source": [
    "a+b"
   ]
  },
  {
   "cell_type": "code",
   "execution_count": 40,
   "id": "08f7841d-83a5-42d6-8055-7c83cbe6f171",
   "metadata": {},
   "outputs": [
    {
     "data": {
      "text/plain": [
       "array([[19, 22],\n",
       "       [43, 50]])"
      ]
     },
     "execution_count": 40,
     "metadata": {},
     "output_type": "execute_result"
    }
   ],
   "source": [
    "a.dot(b)   # for matrix multiplication"
   ]
  },
  {
   "cell_type": "markdown",
   "id": "21178352-cbe1-45c1-8bdc-34bee721f7f4",
   "metadata": {},
   "source": [
    "# Unique(): It will return 3 arrays\n",
    "1) Arr ---> Unique values store.\n",
    "2) retuen_index = True ---> In which indexing we have unique values.\n",
    "3) return_counts = True ---> Frequency of each element."
   ]
  },
  {
   "cell_type": "code",
   "execution_count": 41,
   "id": "9e08424a-8aff-4fb8-bec1-04deb7a830da",
   "metadata": {},
   "outputs": [
    {
     "data": {
      "text/plain": [
       "array([1, 2, 2, 3, 3, 3, 3, 1, 1, 2, 7, 8, 4])"
      ]
     },
     "execution_count": 41,
     "metadata": {},
     "output_type": "execute_result"
    }
   ],
   "source": [
    "a = np.array([1,2,2,3,3,3,3,1,1,2,7,8,4])\n",
    "a"
   ]
  },
  {
   "cell_type": "code",
   "execution_count": 42,
   "id": "c08411fd-21cc-4791-a6fd-cfc84e68d941",
   "metadata": {},
   "outputs": [
    {
     "data": {
      "text/plain": [
       "(array([1, 2, 3, 4, 7, 8]),\n",
       " array([ 0,  1,  3, 12, 10, 11]),\n",
       " array([3, 3, 4, 1, 1, 1]))"
      ]
     },
     "execution_count": 42,
     "metadata": {},
     "output_type": "execute_result"
    }
   ],
   "source": [
    "np.unique(a , return_index = True , return_counts = True)"
   ]
  },
  {
   "cell_type": "code",
   "execution_count": null,
   "id": "c1f1e4a2-a484-486f-a2ef-2608844f3f36",
   "metadata": {},
   "outputs": [],
   "source": []
  }
 ],
 "metadata": {
  "kernelspec": {
   "display_name": "Python 3 (ipykernel)",
   "language": "python",
   "name": "python3"
  },
  "language_info": {
   "codemirror_mode": {
    "name": "ipython",
    "version": 3
   },
   "file_extension": ".py",
   "mimetype": "text/x-python",
   "name": "python",
   "nbconvert_exporter": "python",
   "pygments_lexer": "ipython3",
   "version": "3.10.11"
  }
 },
 "nbformat": 4,
 "nbformat_minor": 5
}
